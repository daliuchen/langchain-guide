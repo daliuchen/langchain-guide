{
 "cells": [
  {
   "metadata": {},
   "cell_type": "markdown",
   "source": [
    "# LangChain的Memory的使用\n",
    "\n",
    "在web页面和llm交互的时候，llm能够记住之前的对话，是因为每次对话，会发送之前所有的聊天记录给LLM。\n",
    "LangChain已经做了很好的封装，代码在`langchain-guide/lib/python3.11/site-packages/langchain/memory/__init__.py`\n",
    "\n",
    "这里介绍一些常见的库,下面全部用`ConversationChain`来演示\n",
    "\n",
    "对话的实现的原理如下：\n",
    "- 在发送给llm之前和之后保存message\n",
    "- 调整promot，在发送的时候获取聊天记录，格式化到promot中，发送给llm\n",
    "- 需要做隔离，通过session_id 来获取对应的客户的聊天记录。"
   ],
   "id": "393f5ad12e463f33"
  },
  {
   "metadata": {},
   "cell_type": "markdown",
   "source": [
    "## ConversationBufferMemory\n",
    "\n",
    "将对话记录存储在内存中，并且不会删减任何的对话记录"
   ],
   "id": "ec842e87b260eac2"
  },
  {
   "metadata": {
    "ExecuteTime": {
     "end_time": "2024-07-09T13:27:48.004063Z",
     "start_time": "2024-07-09T13:27:45.375108Z"
    }
   },
   "cell_type": "code",
   "source": [
    "from langchain.memory import ConversationBufferMemory\n",
    "from langchain.chains import ConversationChain\n",
    "from langchain_openai import OpenAI\n",
    "\n",
    "memory = ConversationBufferMemory()\n",
    "conversation = ConversationChain(llm=OpenAI(),memory=memory,verbose=True)\n",
    "conversation.invoke({\"input\":\"你好，我叫ethan\"})"
   ],
   "id": "b541a15014426e74",
   "outputs": [
    {
     "name": "stdout",
     "output_type": "stream",
     "text": [
      "\n",
      "\n",
      "\u001B[1m> Entering new ConversationChain chain...\u001B[0m\n",
      "Prompt after formatting:\n",
      "\u001B[32;1m\u001B[1;3mThe following is a friendly conversation between a human and an AI. The AI is talkative and provides lots of specific details from its context. If the AI does not know the answer to a question, it truthfully says it does not know.\n",
      "\n",
      "Current conversation:\n",
      "\n",
      "Human: 你好，我叫ethan\n",
      "AI:\u001B[0m\n",
      "\n",
      "\u001B[1m> Finished chain.\u001B[0m\n"
     ]
    },
    {
     "data": {
      "text/plain": [
       "{'input': '你好，我叫ethan',\n",
       " 'history': '',\n",
       " 'response': ' 你好，ethan！很高兴认识你。我是一名AI助手，可以回答你关于科学和技术的问题。你有什么想要问我的吗？'}"
      ]
     },
     "execution_count": 3,
     "metadata": {},
     "output_type": "execute_result"
    }
   ],
   "execution_count": 3
  },
  {
   "metadata": {
    "ExecuteTime": {
     "end_time": "2024-07-09T13:28:11.753475Z",
     "start_time": "2024-07-09T13:28:08.824449Z"
    }
   },
   "cell_type": "code",
   "source": "conversation.invoke({\"input\":\"我叫什么\"})",
   "id": "f88ffd01dda2fab6",
   "outputs": [
    {
     "name": "stdout",
     "output_type": "stream",
     "text": [
      "\n",
      "\n",
      "\u001B[1m> Entering new ConversationChain chain...\u001B[0m\n",
      "Prompt after formatting:\n",
      "\u001B[32;1m\u001B[1;3mThe following is a friendly conversation between a human and an AI. The AI is talkative and provides lots of specific details from its context. If the AI does not know the answer to a question, it truthfully says it does not know.\n",
      "\n",
      "Current conversation:\n",
      "Human: 你好，我叫ethan\n",
      "AI:  你好，ethan！很高兴认识你。我是一名AI助手，可以回答你关于科学和技术的问题。你有什么想要问我的吗？\n",
      "Human: 我叫什么\n",
      "AI:\u001B[0m\n",
      "\n",
      "\u001B[1m> Finished chain.\u001B[0m\n"
     ]
    },
    {
     "data": {
      "text/plain": [
       "{'input': '我叫什么',\n",
       " 'history': 'Human: 你好，我叫ethan\\nAI:  你好，ethan！很高兴认识你。我是一名AI助手，可以回答你关于科学和技术的问题。你有什么想要问我的吗？',\n",
       " 'response': ' 你的名字是ethan，我刚刚在你打招呼的时候就知道了。我可以帮你记住一些重要的事情，比如你的名字和喜欢的事物。你可以随时告诉我。'}"
      ]
     },
     "execution_count": 4,
     "metadata": {},
     "output_type": "execute_result"
    }
   ],
   "execution_count": 4
  },
  {
   "metadata": {
    "ExecuteTime": {
     "end_time": "2024-07-09T13:28:44.094436Z",
     "start_time": "2024-07-09T13:28:44.090596Z"
    }
   },
   "cell_type": "code",
   "source": [
    "# 存储的对话的记忆\n",
    "memory.buffer_as_str"
   ],
   "id": "5e254cc617fab5fe",
   "outputs": [
    {
     "data": {
      "text/plain": [
       "'Human: 你好，我叫ethan\\nAI:  你好，ethan！很高兴认识你。我是一名AI助手，可以回答你关于科学和技术的问题。你有什么想要问我的吗？\\nHuman: 我叫什么\\nAI:  你的名字是ethan，我刚刚在你打招呼的时候就知道了。我可以帮你记住一些重要的事情，比如你的名字和喜欢的事物。你可以随时告诉我。'"
      ]
     },
     "execution_count": 6,
     "metadata": {},
     "output_type": "execute_result"
    }
   ],
   "execution_count": 6
  },
  {
   "metadata": {},
   "cell_type": "markdown",
   "source": [
    "## ConversationBufferWindowMemory\n",
    "\n",
    "限制了message的数量。比如2，他会记录两次对话记录，一共4条记录。"
   ],
   "id": "78d1e4a3cde9a773"
  },
  {
   "metadata": {
    "ExecuteTime": {
     "end_time": "2024-07-09T14:11:06.167999Z",
     "start_time": "2024-07-09T14:11:02.922408Z"
    }
   },
   "cell_type": "code",
   "source": [
    "from langchain.memory import ConversationBufferWindowMemory\n",
    "from langchain.chains import ConversationChain\n",
    "from langchain_openai import OpenAI\n",
    "\n",
    "memory = ConversationBufferWindowMemory(k=2)\n",
    "conversation = ConversationChain(llm=OpenAI(),memory=memory,verbose=True)\n",
    "conversation.invoke({\"input\":\"你好，我叫ethan\"})"
   ],
   "id": "642734c4a7d36b33",
   "outputs": [
    {
     "name": "stdout",
     "output_type": "stream",
     "text": [
      "\n",
      "\n",
      "\u001B[1m> Entering new ConversationChain chain...\u001B[0m\n",
      "Prompt after formatting:\n",
      "\u001B[32;1m\u001B[1;3mThe following is a friendly conversation between a human and an AI. The AI is talkative and provides lots of specific details from its context. If the AI does not know the answer to a question, it truthfully says it does not know.\n",
      "\n",
      "Current conversation:\n",
      "\n",
      "Human: 你好，我叫ethan\n",
      "AI:\u001B[0m\n",
      "\n",
      "\u001B[1m> Finished chain.\u001B[0m\n"
     ]
    },
    {
     "data": {
      "text/plain": [
       "{'input': '你好，我叫ethan',\n",
       " 'history': '',\n",
       " 'response': ' 你好，ethan！很高兴认识你。我是一个人工智能助手，专门为用户提供帮助和解答问题的。你有什么需要我的帮助吗？'}"
      ]
     },
     "execution_count": 27,
     "metadata": {},
     "output_type": "execute_result"
    }
   ],
   "execution_count": 27
  },
  {
   "metadata": {
    "ExecuteTime": {
     "end_time": "2024-07-09T14:11:09.742037Z",
     "start_time": "2024-07-09T14:11:09.738193Z"
    }
   },
   "cell_type": "code",
   "source": "len(memory.buffer_as_messages)",
   "id": "8823e1b479dffa4",
   "outputs": [
    {
     "data": {
      "text/plain": [
       "2"
      ]
     },
     "execution_count": 28,
     "metadata": {},
     "output_type": "execute_result"
    }
   ],
   "execution_count": 28
  },
  {
   "metadata": {
    "ExecuteTime": {
     "end_time": "2024-07-09T14:11:13.780555Z",
     "start_time": "2024-07-09T14:11:11.694637Z"
    }
   },
   "cell_type": "code",
   "source": "conversation.invoke({\"input\":\"我叫什么\"})",
   "id": "950555038d293c87",
   "outputs": [
    {
     "name": "stdout",
     "output_type": "stream",
     "text": [
      "\n",
      "\n",
      "\u001B[1m> Entering new ConversationChain chain...\u001B[0m\n",
      "Prompt after formatting:\n",
      "\u001B[32;1m\u001B[1;3mThe following is a friendly conversation between a human and an AI. The AI is talkative and provides lots of specific details from its context. If the AI does not know the answer to a question, it truthfully says it does not know.\n",
      "\n",
      "Current conversation:\n",
      "Human: 你好，我叫ethan\n",
      "AI:  你好，ethan！很高兴认识你。我是一个人工智能助手，专门为用户提供帮助和解答问题的。你有什么需要我的帮助吗？\n",
      "Human: 我叫什么\n",
      "AI:\u001B[0m\n",
      "\n",
      "\u001B[1m> Finished chain.\u001B[0m\n"
     ]
    },
    {
     "data": {
      "text/plain": [
       "{'input': '我叫什么',\n",
       " 'history': 'Human: 你好，我叫ethan\\nAI:  你好，ethan！很高兴认识你。我是一个人工智能助手，专门为用户提供帮助和解答问题的。你有什么需要我的帮助吗？',\n",
       " 'response': ' 你的名字是ethan，是吗？如果不是，请告诉我你的真实名字，我会记住它的。'}"
      ]
     },
     "execution_count": 29,
     "metadata": {},
     "output_type": "execute_result"
    }
   ],
   "execution_count": 29
  },
  {
   "metadata": {
    "ExecuteTime": {
     "end_time": "2024-07-09T14:11:18.588018Z",
     "start_time": "2024-07-09T14:11:18.583651Z"
    }
   },
   "cell_type": "code",
   "source": "len(memory.buffer_as_messages)",
   "id": "b10cb8887164753f",
   "outputs": [
    {
     "data": {
      "text/plain": [
       "4"
      ]
     },
     "execution_count": 30,
     "metadata": {},
     "output_type": "execute_result"
    }
   ],
   "execution_count": 30
  },
  {
   "metadata": {
    "ExecuteTime": {
     "end_time": "2024-07-09T14:11:22.686080Z",
     "start_time": "2024-07-09T14:11:20.581238Z"
    }
   },
   "cell_type": "code",
   "source": "conversation.invoke({\"input\":\"我第一句话说的是什么\"})",
   "id": "d75f1dc6212f3592",
   "outputs": [
    {
     "name": "stdout",
     "output_type": "stream",
     "text": [
      "\n",
      "\n",
      "\u001B[1m> Entering new ConversationChain chain...\u001B[0m\n",
      "Prompt after formatting:\n",
      "\u001B[32;1m\u001B[1;3mThe following is a friendly conversation between a human and an AI. The AI is talkative and provides lots of specific details from its context. If the AI does not know the answer to a question, it truthfully says it does not know.\n",
      "\n",
      "Current conversation:\n",
      "Human: 你好，我叫ethan\n",
      "AI:  你好，ethan！很高兴认识你。我是一个人工智能助手，专门为用户提供帮助和解答问题的。你有什么需要我的帮助吗？\n",
      "Human: 我叫什么\n",
      "AI:  你的名字是ethan，是吗？如果不是，请告诉我你的真实名字，我会记住它的。\n",
      "Human: 我第一句话说的是什么\n",
      "AI:\u001B[0m\n",
      "\n",
      "\u001B[1m> Finished chain.\u001B[0m\n"
     ]
    },
    {
     "data": {
      "text/plain": [
       "{'input': '我第一句话说的是什么',\n",
       " 'history': 'Human: 你好，我叫ethan\\nAI:  你好，ethan！很高兴认识你。我是一个人工智能助手，专门为用户提供帮助和解答问题的。你有什么需要我的帮助吗？\\nHuman: 我叫什么\\nAI:  你的名字是ethan，是吗？如果不是，请告诉我你的真实名字，我会记住它的。',\n",
       " 'response': ' 你第一句话说的是“你好，我叫ethan”。'}"
      ]
     },
     "execution_count": 31,
     "metadata": {},
     "output_type": "execute_result"
    }
   ],
   "execution_count": 31
  },
  {
   "metadata": {
    "ExecuteTime": {
     "end_time": "2024-07-09T14:11:26.719432Z",
     "start_time": "2024-07-09T14:11:26.715282Z"
    }
   },
   "cell_type": "code",
   "source": "len(memory.buffer_as_messages)",
   "id": "20c8ce362ac2b941",
   "outputs": [
    {
     "data": {
      "text/plain": [
       "4"
      ]
     },
     "execution_count": 32,
     "metadata": {},
     "output_type": "execute_result"
    }
   ],
   "execution_count": 32
  },
  {
   "metadata": {
    "ExecuteTime": {
     "end_time": "2024-07-09T14:11:31.413856Z",
     "start_time": "2024-07-09T14:11:28.497377Z"
    }
   },
   "cell_type": "code",
   "source": "conversation.invoke({\"input\":\"我第一句话说的是什么\"})",
   "id": "2e397b2e80ec2cc9",
   "outputs": [
    {
     "name": "stdout",
     "output_type": "stream",
     "text": [
      "\n",
      "\n",
      "\u001B[1m> Entering new ConversationChain chain...\u001B[0m\n",
      "Prompt after formatting:\n",
      "\u001B[32;1m\u001B[1;3mThe following is a friendly conversation between a human and an AI. The AI is talkative and provides lots of specific details from its context. If the AI does not know the answer to a question, it truthfully says it does not know.\n",
      "\n",
      "Current conversation:\n",
      "Human: 我叫什么\n",
      "AI:  你的名字是ethan，是吗？如果不是，请告诉我你的真实名字，我会记住它的。\n",
      "Human: 我第一句话说的是什么\n",
      "AI:  你第一句话说的是“你好，我叫ethan”。\n",
      "Human: 我第一句话说的是什么\n",
      "AI:\u001B[0m\n",
      "\n",
      "\u001B[1m> Finished chain.\u001B[0m\n"
     ]
    },
    {
     "data": {
      "text/plain": [
       "{'input': '我第一句话说的是什么',\n",
       " 'history': 'Human: 我叫什么\\nAI:  你的名字是ethan，是吗？如果不是，请告诉我你的真实名字，我会记住它的。\\nHuman: 我第一句话说的是什么\\nAI:  你第一句话说的是“你好，我叫ethan”。',\n",
       " 'response': '  我已经告诉你了，你第一句话说的是“你好，我叫ethan”。'}"
      ]
     },
     "execution_count": 33,
     "metadata": {},
     "output_type": "execute_result"
    }
   ],
   "execution_count": 33
  },
  {
   "metadata": {},
   "cell_type": "markdown",
   "source": [
    "## ConversationSummaryBufferMemory\n",
    "\n",
    "他支持token数量，超过指定token后,会调用llm生成summary。"
   ],
   "id": "3fb6edce56591f8a"
  },
  {
   "metadata": {
    "ExecuteTime": {
     "end_time": "2024-07-09T14:26:53.099668Z",
     "start_time": "2024-07-09T14:26:42.708541Z"
    }
   },
   "cell_type": "code",
   "source": [
    "from langchain.memory import ConversationSummaryBufferMemory\n",
    "# 方便演示，直接调用保存，不通过llm跑整个流程了\n",
    "memory = ConversationSummaryBufferMemory(\n",
    "    llm = OpenAI(),\n",
    "    max_token_limit=10,\n",
    "    return_messages=True\n",
    ")\n",
    "memory.save_context(\n",
    "    {\"input\":\"帮我找一下tomie\"},\n",
    "    {\"output\":\"对不起请问什么是tomie？\"}\n",
    ")\n",
    "memory.save_context(\n",
    "    {\"input\":\"tomie是一个培训讲师\"},\n",
    "    {\"output\":\"好的，我知道了。\"}\n",
    ")\n",
    "memory.save_context(\n",
    "    {\"input\":\"今天他要讲一门关于RAG的课程\"},\n",
    "    {\"output\":\"好的，我知道了。需要RAG的资料吗？\"}\n",
    ")"
   ],
   "id": "48d9131464c36c20",
   "outputs": [],
   "execution_count": 39
  },
  {
   "metadata": {
    "ExecuteTime": {
     "end_time": "2024-07-09T14:27:07.955779Z",
     "start_time": "2024-07-09T14:27:07.952317Z"
    }
   },
   "cell_type": "code",
   "source": "memory.load_memory_variables({})",
   "id": "f788e2fe03dff685",
   "outputs": [
    {
     "data": {
      "text/plain": [
       "{'history': [SystemMessage(content='\\nThe human requests for the AI to find information on \"tomie\", but the AI is not familiar with this term and asks for clarification. The human explains that \"tomie\" is a training instructor. The AI acknowledges and says it understands. The human then requests for the AI to find information on a course about RAG that will be taught today. The AI agrees and asks if any materials on RAG are needed.')]}"
      ]
     },
     "execution_count": 40,
     "metadata": {},
     "output_type": "execute_result"
    }
   ],
   "execution_count": 40
  },
  {
   "metadata": {},
   "cell_type": "markdown",
   "source": [
    "## ConversationTokenBufferMemory\n",
    "\n",
    "指定token的长度，他会保留最新的满足token 的对话"
   ],
   "id": "a87ea95dda748319"
  },
  {
   "metadata": {
    "ExecuteTime": {
     "end_time": "2024-07-09T14:30:38.476443Z",
     "start_time": "2024-07-09T14:30:38.365451Z"
    }
   },
   "cell_type": "code",
   "source": [
    "from langchain.memory import ConversationTokenBufferMemory\n",
    "\n",
    "memory = ConversationTokenBufferMemory(llm=OpenAI(),max_token_limit=150)\n",
    "memory.save_context(\n",
    "    {\"input\":\"帮我找一下tomie\"},\n",
    "    {\"output\":\"对不起请问什么是tomie？\"}\n",
    ")\n",
    "memory.save_context(\n",
    "    {\"input\":\"tomie是一个培训讲师\"},\n",
    "    {\"output\":\"好的，我知道了。\"}\n",
    ")\n",
    "memory.save_context(\n",
    "    {\"input\":\"今天他要讲一门关于RAG的课程\"},\n",
    "    {\"output\":\"好的，我知道了。需要RAG的资料吗？\"}\n",
    ")\n",
    "memory.save_context(\n",
    "    {\"input\":\"不需要资料了，谢谢\"},\n",
    "    {\"output\":\"好的，那我就不打扰你了。\"}\n",
    ")"
   ],
   "id": "7c0547243ea40da0",
   "outputs": [],
   "execution_count": 41
  },
  {
   "metadata": {
    "ExecuteTime": {
     "end_time": "2024-07-09T14:31:07.180911Z",
     "start_time": "2024-07-09T14:31:07.177475Z"
    }
   },
   "cell_type": "code",
   "source": "memory.buffer_as_messages",
   "id": "b683bf5c42c1b980",
   "outputs": [
    {
     "data": {
      "text/plain": [
       "[HumanMessage(content='帮我找一下tomie'),\n",
       " AIMessage(content='对不起请问什么是tomie？'),\n",
       " HumanMessage(content='tomie是一个培训讲师'),\n",
       " AIMessage(content='好的，我知道了。'),\n",
       " HumanMessage(content='今天他要讲一门关于RAG的课程'),\n",
       " AIMessage(content='好的，我知道了。需要RAG的资料吗？'),\n",
       " HumanMessage(content='不需要资料了，谢谢'),\n",
       " AIMessage(content='好的，那我就不打扰你了。')]"
      ]
     },
     "execution_count": 44,
     "metadata": {},
     "output_type": "execute_result"
    }
   ],
   "execution_count": 44
  },
  {
   "metadata": {
    "ExecuteTime": {
     "end_time": "2024-07-09T14:31:33.116261Z",
     "start_time": "2024-07-09T14:31:33.111056Z"
    }
   },
   "cell_type": "code",
   "source": [
    "memory.save_context(\n",
    "    {\"input\":\"不需要资料了，谢谢\"},\n",
    "    {\"output\":\"好的，那我就不打扰你了1。\"}\n",
    ")\n",
    "memory.save_context(\n",
    "    {\"input\":\"不需要资料了，谢谢\"},\n",
    "    {\"output\":\"好的，那我就不打扰你了2。\"}\n",
    ")\n",
    "# 可以看到，之前的消息已经么了\n",
    "memory.buffer_as_messages"
   ],
   "id": "7eeb7ef0275638fd",
   "outputs": [
    {
     "data": {
      "text/plain": [
       "[AIMessage(content='好的，我知道了。'),\n",
       " HumanMessage(content='今天他要讲一门关于RAG的课程'),\n",
       " AIMessage(content='好的，我知道了。需要RAG的资料吗？'),\n",
       " HumanMessage(content='不需要资料了，谢谢'),\n",
       " AIMessage(content='好的，那我就不打扰你了。'),\n",
       " HumanMessage(content='不需要资料了，谢谢'),\n",
       " AIMessage(content='好的，那我就不打扰你了1。'),\n",
       " HumanMessage(content='不需要资料了，谢谢'),\n",
       " AIMessage(content='好的，那我就不打扰你了2。')]"
      ]
     },
     "execution_count": 45,
     "metadata": {},
     "output_type": "execute_result"
    }
   ],
   "execution_count": 45
  },
  {
   "metadata": {},
   "cell_type": "markdown",
   "source": [
    "## 使用知识图谱构建记忆\n",
    "\n",
    "`ConversationKGMemory`会使用外部的知识图谱，它会将对话传递给llm，让llm提取知识图谱的三元组，构建知识图谱。\n",
    "知识三元组是包含主语、谓语和宾语的子句。 主语是被描述的实体，谓语是正在描述的主体属性，而宾语则是该属性的值。"
   ],
   "id": "e4bd8ed3f03920e7"
  },
  {
   "metadata": {
    "ExecuteTime": {
     "end_time": "2024-07-09T14:56:34.189259Z",
     "start_time": "2024-07-09T14:56:31.566087Z"
    }
   },
   "cell_type": "code",
   "source": [
    "from langchain.llms import  OpenAI\n",
    "from langchain.memory import ConversationKGMemory\n",
    "\n",
    "llm = OpenAI(\n",
    "    temperature=0\n",
    ")   \n",
    "\n",
    "memory = ConversationKGMemory(llm=llm,return_messages=True)\n",
    "\n",
    "memory.save_context(\n",
    "    {\"input\":\"帮我找一下tomie\"},\n",
    "    {\"output\":\"对不起请问什么是tomie？\"}\n",
    ")\n",
    "\n",
    "memory.save_context(\n",
    "    {\"input\":\"tomie是一个培训讲师\"},\n",
    "    {\"output\":\"好的，我知道了。\"}\n",
    ")"
   ],
   "id": "c75e6331d55737c2",
   "outputs": [],
   "execution_count": 68
  },
  {
   "metadata": {
    "ExecuteTime": {
     "end_time": "2024-07-09T14:57:15.572187Z",
     "start_time": "2024-07-09T14:57:13.993919Z"
    }
   },
   "cell_type": "code",
   "source": [
    "memory.load_memory_variables({\"input\":\"tomie是谁?\"})\n",
    "# 这个返回值说明 这句话是在 tomie的实体上，message是 tomie is a training lecturer.')"
   ],
   "id": "7c5534e53673db5f",
   "outputs": [
    {
     "data": {
      "text/plain": [
       "{'history': [SystemMessage(content='On tomie: tomie is a training lecturer.')]}"
      ]
     },
     "execution_count": 69,
     "metadata": {},
     "output_type": "execute_result"
    }
   ],
   "execution_count": 69
  },
  {
   "metadata": {
    "ExecuteTime": {
     "end_time": "2024-07-09T14:58:19.268618Z",
     "start_time": "2024-07-09T14:58:17.624988Z"
    }
   },
   "cell_type": "code",
   "source": [
    "# 这句话和tomie有关，返回的是tomie实体\n",
    "memory.get_current_entities(\"tomie最喜欢做什么事?\")"
   ],
   "id": "b25fba57a327c97e",
   "outputs": [
    {
     "data": {
      "text/plain": [
       "['tomie']"
      ]
     },
     "execution_count": 70,
     "metadata": {},
     "output_type": "execute_result"
    }
   ],
   "execution_count": 70
  },
  {
   "metadata": {
    "ExecuteTime": {
     "end_time": "2024-07-09T14:59:35.667786Z",
     "start_time": "2024-07-09T14:59:22.346915Z"
    }
   },
   "cell_type": "code",
   "source": [
    "# 实体是Ethan\n",
    "memory.get_current_entities(\"ethan是谁?\")"
   ],
   "id": "48965bfe3bb7839f",
   "outputs": [
    {
     "data": {
      "text/plain": [
       "['Ethan']"
      ]
     },
     "execution_count": 72,
     "metadata": {},
     "output_type": "execute_result"
    }
   ],
   "execution_count": 72
  },
  {
   "metadata": {
    "ExecuteTime": {
     "end_time": "2024-07-09T15:00:08.287328Z",
     "start_time": "2024-07-09T15:00:05.853484Z"
    }
   },
   "cell_type": "code",
   "source": [
    "# 生成了三元组，\n",
    "memory.get_knowledge_triplets(\"tomie最喜欢打游戏\")"
   ],
   "id": "92362b71d73c2277",
   "outputs": [
    {
     "data": {
      "text/plain": [
       "[KnowledgeTriple(subject='tomie', predicate='最喜欢', object_='打游戏')]"
      ]
     },
     "execution_count": 73,
     "metadata": {},
     "output_type": "execute_result"
    }
   ],
   "execution_count": 73
  },
  {
   "metadata": {
    "ExecuteTime": {
     "end_time": "2024-07-09T15:01:10.872588Z",
     "start_time": "2024-07-09T15:01:09.286271Z"
    }
   },
   "cell_type": "code",
   "source": [
    "# 这句话没有里面，没有主谓宾，直接返回空\n",
    "memory.get_knowledge_triplets(\"1+1等于什么\")"
   ],
   "id": "7d38940cc9366e83",
   "outputs": [
    {
     "data": {
      "text/plain": [
       "[]"
      ]
     },
     "execution_count": 74,
     "metadata": {},
     "output_type": "execute_result"
    }
   ],
   "execution_count": 74
  },
  {
   "metadata": {
    "ExecuteTime": {
     "end_time": "2024-07-09T14:44:46.812015Z",
     "start_time": "2024-07-09T14:44:46.809376Z"
    }
   },
   "cell_type": "code",
   "source": [
    "from langchain.memory.prompt import KNOWLEDGE_TRIPLE_EXTRACTION_PROMPT\n",
    "# 构建知识图片的prompt\n",
    "print(KNOWLEDGE_TRIPLE_EXTRACTION_PROMPT.invoke({\"history\":\"\",\"input\":\"input\"}).to_string())"
   ],
   "id": "3e3e530028e9d8a",
   "outputs": [
    {
     "name": "stdout",
     "output_type": "stream",
     "text": [
      "You are a networked intelligence helping a human track knowledge triples about all relevant people, things, concepts, etc. and integrating them with your knowledge stored within your weights as well as that stored in a knowledge graph. Extract all of the knowledge triples from the last line of conversation. A knowledge triple is a clause that contains a subject, a predicate, and an object. The subject is the entity being described, the predicate is the property of the subject that is being described, and the object is the value of the property.\n",
      "\n",
      "EXAMPLE\n",
      "Conversation history:\n",
      "Person #1: Did you hear aliens landed in Area 51?\n",
      "AI: No, I didn't hear that. What do you know about Area 51?\n",
      "Person #1: It's a secret military base in Nevada.\n",
      "AI: What do you know about Nevada?\n",
      "Last line of conversation:\n",
      "Person #1: It's a state in the US. It's also the number 1 producer of gold in the US.\n",
      "\n",
      "Output: (Nevada, is a, state)<|>(Nevada, is in, US)<|>(Nevada, is the number 1 producer of, gold)\n",
      "END OF EXAMPLE\n",
      "\n",
      "EXAMPLE\n",
      "Conversation history:\n",
      "Person #1: Hello.\n",
      "AI: Hi! How are you?\n",
      "Person #1: I'm good. How are you?\n",
      "AI: I'm good too.\n",
      "Last line of conversation:\n",
      "Person #1: I'm going to the store.\n",
      "\n",
      "Output: NONE\n",
      "END OF EXAMPLE\n",
      "\n",
      "EXAMPLE\n",
      "Conversation history:\n",
      "Person #1: What do you know about Descartes?\n",
      "AI: Descartes was a French philosopher, mathematician, and scientist who lived in the 17th century.\n",
      "Person #1: The Descartes I'm referring to is a standup comedian and interior designer from Montreal.\n",
      "AI: Oh yes, He is a comedian and an interior designer. He has been in the industry for 30 years. His favorite food is baked bean pie.\n",
      "Last line of conversation:\n",
      "Person #1: Oh huh. I know Descartes likes to drive antique scooters and play the mandolin.\n",
      "Output: (Descartes, likes to drive, antique scooters)<|>(Descartes, plays, mandolin)\n",
      "END OF EXAMPLE\n",
      "\n",
      "Conversation history (for reference only):\n",
      "\n",
      "Last line of conversation (for extraction):\n",
      "Human: input\n",
      "\n",
      "Output:\n"
     ]
    }
   ],
   "execution_count": 63
  },
  {
   "metadata": {
    "ExecuteTime": {
     "end_time": "2024-07-09T14:56:27.322898Z",
     "start_time": "2024-07-09T14:56:27.321380Z"
    }
   },
   "cell_type": "code",
   "source": "memory.clear()",
   "id": "91768196893533a4",
   "outputs": [],
   "execution_count": 67
  },
  {
   "metadata": {},
   "cell_type": "markdown",
   "source": [
    "## 构建记忆实体概念清单\n",
    "\n",
    "他会将对话中的实体区分出来，对每个实体做总结。他的对话记录默认是存储在内存中的，可以替代。\n",
    "在使用的时候需要先调用`load_memory_variables`方法来解析对话，生成实体和总结"
   ],
   "id": "e57fadd846f72b53"
  },
  {
   "metadata": {
    "ExecuteTime": {
     "end_time": "2024-07-09T15:24:36.433697Z",
     "start_time": "2024-07-09T15:24:26.304733Z"
    }
   },
   "cell_type": "code",
   "source": [
    "from langchain.llms import  OpenAI\n",
    "from langchain.memory import ConversationEntityMemory\n",
    "\n",
    "llm = OpenAI(\n",
    "    temperature=0\n",
    ")\n",
    "\n",
    "memory = ConversationEntityMemory(llm=llm)\n",
    "_input = {\n",
    "    \"input\":\"飞流和小王子，张狗屁是好朋友，他有有个组合叫做创造303\"\n",
    "}\n",
    "# 需要先生成实体和总结\n",
    "memory.load_memory_variables(_input)\n",
    "memory.save_context(\n",
    "    _input,\n",
    "    {\n",
    "        \"output\":\"哇，我想也和你们做朋友\"\n",
    "    }\n",
    ")\n"
   ],
   "id": "38838aacad4624b4",
   "outputs": [],
   "execution_count": 97
  },
  {
   "metadata": {
    "ExecuteTime": {
     "end_time": "2024-07-09T15:25:43.802825Z",
     "start_time": "2024-07-09T15:25:43.799585Z"
    }
   },
   "cell_type": "code",
   "source": "memory.entity_cache",
   "id": "5ce39329fdf504af",
   "outputs": [
    {
     "data": {
      "text/plain": [
       "['飞流', '小王子', '张狗屁', '创造303']"
      ]
     },
     "execution_count": 98,
     "metadata": {},
     "output_type": "execute_result"
    }
   ],
   "execution_count": 98
  },
  {
   "metadata": {
    "ExecuteTime": {
     "end_time": "2024-07-09T15:25:53.972381Z",
     "start_time": "2024-07-09T15:25:53.967738Z"
    }
   },
   "cell_type": "code",
   "source": "memory.entity_store",
   "id": "5f58f56ab3658ea4",
   "outputs": [
    {
     "data": {
      "text/plain": [
       "InMemoryEntityStore(store={'飞流': '飞流和小王子，张狗屁是好朋友，他有有个组合叫做创造303', '小王子': '小王子和张狗屁是好朋友，他们一起组成了创造303组合。', '张狗屁': '张狗屁和飞流、小王子是好朋友，他们一起有个组合叫做创造303。', '创造303': '创造303是由张狗屁组成的组合。'})"
      ]
     },
     "execution_count": 99,
     "metadata": {},
     "output_type": "execute_result"
    }
   ],
   "execution_count": 99
  },
  {
   "metadata": {
    "ExecuteTime": {
     "end_time": "2024-07-09T15:27:17.400231Z",
     "start_time": "2024-07-09T15:27:15.894385Z"
    }
   },
   "cell_type": "code",
   "source": "memory.load_memory_variables({\"input\":\"创造303是什么?\"})",
   "id": "3cbe195e4f501bbe",
   "outputs": [
    {
     "data": {
      "text/plain": [
       "{'history': 'Human: 飞流和小王子，张狗屁是好朋友，他有有个组合叫做创造303\\nAI: 哇，我想也和你们做朋友',\n",
       " 'entities': {'创造303': '创造303是由张狗屁组成的组合。'}}"
      ]
     },
     "execution_count": 101,
     "metadata": {},
     "output_type": "execute_result"
    }
   ],
   "execution_count": 101
  },
  {
   "metadata": {
    "ExecuteTime": {
     "end_time": "2024-07-09T15:28:30.907202Z",
     "start_time": "2024-07-09T15:28:30.901893Z"
    }
   },
   "cell_type": "code",
   "source": [
    "from langchain.memory.prompt import ENTITY_EXTRACTION_PROMPT\n",
    "\n",
    "# 生成实体的prompt\n",
    "print(ENTITY_EXTRACTION_PROMPT.invoke({\"history\": [], \"input\": \"\"}).to_string())"
   ],
   "id": "491af1a0a533457d",
   "outputs": [
    {
     "name": "stdout",
     "output_type": "stream",
     "text": [
      "You are an AI assistant reading the transcript of a conversation between an AI and a human. Extract all of the proper nouns from the last line of conversation. As a guideline, a proper noun is generally capitalized. You should definitely extract all names and places.\n",
      "\n",
      "The conversation history is provided just in case of a coreference (e.g. \"What do you know about him\" where \"him\" is defined in a previous line) -- ignore items mentioned there that are not in the last line.\n",
      "\n",
      "Return the output as a single comma-separated list, or NONE if there is nothing of note to return (e.g. the user is just issuing a greeting or having a simple conversation).\n",
      "\n",
      "EXAMPLE\n",
      "Conversation history:\n",
      "Person #1: how's it going today?\n",
      "AI: \"It's going great! How about you?\"\n",
      "Person #1: good! busy working on Langchain. lots to do.\n",
      "AI: \"That sounds like a lot of work! What kind of things are you doing to make Langchain better?\"\n",
      "Last line:\n",
      "Person #1: i'm trying to improve Langchain's interfaces, the UX, its integrations with various products the user might want ... a lot of stuff.\n",
      "Output: Langchain\n",
      "END OF EXAMPLE\n",
      "\n",
      "EXAMPLE\n",
      "Conversation history:\n",
      "Person #1: how's it going today?\n",
      "AI: \"It's going great! How about you?\"\n",
      "Person #1: good! busy working on Langchain. lots to do.\n",
      "AI: \"That sounds like a lot of work! What kind of things are you doing to make Langchain better?\"\n",
      "Last line:\n",
      "Person #1: i'm trying to improve Langchain's interfaces, the UX, its integrations with various products the user might want ... a lot of stuff. I'm working with Person #2.\n",
      "Output: Langchain, Person #2\n",
      "END OF EXAMPLE\n",
      "\n",
      "Conversation history (for reference only):\n",
      "[]\n",
      "Last line of conversation (for extraction):\n",
      "Human: \n",
      "\n",
      "Output:\n"
     ]
    }
   ],
   "execution_count": 104
  },
  {
   "metadata": {},
   "cell_type": "markdown",
   "source": "到此，关于memory done",
   "id": "edfe713f935037ad"
  }
 ],
 "metadata": {
  "kernelspec": {
   "display_name": "Python 3",
   "language": "python",
   "name": "python3"
  },
  "language_info": {
   "codemirror_mode": {
    "name": "ipython",
    "version": 2
   },
   "file_extension": ".py",
   "mimetype": "text/x-python",
   "name": "python",
   "nbconvert_exporter": "python",
   "pygments_lexer": "ipython2",
   "version": "2.7.6"
  }
 },
 "nbformat": 4,
 "nbformat_minor": 5
}
