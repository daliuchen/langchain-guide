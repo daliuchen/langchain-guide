{
 "cells": [
  {
   "metadata": {},
   "cell_type": "markdown",
   "source": [
    "# 做一个QA系统\n",
    "\n",
    "在这一节，我们要做一个QA系统，模拟的是在web 页面和chat gpt交互。\n",
    "\n",
    "模型是没有记忆能力的，在web页面，模型可以知道之前的聊天，是因为每次对话的时候都会将之前的记忆发送给他，这样就有了记忆。\n",
    "在这个demo中，会体现`记忆`"
   ],
   "id": "ef14778575c82870"
  },
  {
   "metadata": {},
   "cell_type": "markdown",
   "source": [
    "# chain的使用\n",
    "LangChain提供了多种类型的chain，他们都定义在\n",
    "`/langchain-guide/lib/python3.11/site-packages/langchain/chains/__init__.py`文件中\n",
    "\n",
    "主要介绍几种中常用的chain\n",
    "\n",
    "## LLMChain\n",
    "\n",
    "注意，LLMChain现在已经不用了，代替他的是`prompt | llm`"
   ],
   "id": "71c8765cc55cbea3"
  },
  {
   "metadata": {
    "ExecuteTime": {
     "end_time": "2024-07-08T14:46:11.549442Z",
     "start_time": "2024-07-08T14:46:09.300153Z"
    }
   },
   "cell_type": "code",
   "source": [
    "from langchain.chains import LLMChain\n",
    "from langchain.llms import OpenAI\n",
    "from langchain.prompts import PromptTemplate\n",
    "\n",
    "llm = OpenAI(\n",
    "    temperature=0\n",
    ")\n",
    "prompt_template = \"帮我给{product}想三个可以注册的域名?\"\n",
    "llm_chain = LLMChain(\n",
    "    llm=llm,\n",
    "    prompt=PromptTemplate.from_template(prompt_template),\n",
    "    verbose=True,  #是否开启日志\n",
    ")\n",
    "llm_chain(\"我饿了\")"
   ],
   "id": "69233fe72013659d",
   "outputs": [
    {
     "name": "stdout",
     "output_type": "stream",
     "text": [
      "\n",
      "\n",
      "\u001B[1m> Entering new LLMChain chain...\u001B[0m\n",
      "Prompt after formatting:\n",
      "\u001B[32;1m\u001B[1;3m帮我给我饿了想三个可以注册的域名?\u001B[0m\n",
      "\n",
      "\u001B[1m> Finished chain.\u001B[0m\n"
     ]
    },
    {
     "data": {
      "text/plain": [
       "{'product': '我饿了',\n",
       " 'text': '\\n\\n1. HappyHive.com\\n2. FreshFusion.com\\n3. CreativeCove.com'}"
      ]
     },
     "execution_count": 11,
     "metadata": {},
     "output_type": "execute_result"
    }
   ],
   "execution_count": 11
  },
  {
   "metadata": {},
   "cell_type": "markdown",
   "source": "### 顺序链 SimpleSequentialChain & SequentialChain",
   "id": "25e50fcfde438f86"
  },
  {
   "metadata": {
    "ExecuteTime": {
     "end_time": "2024-07-08T15:02:51.515790Z",
     "start_time": "2024-07-08T15:02:48.330429Z"
    }
   },
   "cell_type": "code",
   "source": [
    "#simpleSequentialChain 只支持固定的链路\n",
    "\n",
    "from langchain.chains import LLMChain\n",
    "from langchain.chat_models import ChatOpenAI\n",
    "from langchain.prompts import ChatPromptTemplate\n",
    "from langchain.chains import SimpleSequentialChain\n",
    "\n",
    "chat_model = ChatOpenAI(\n",
    "    temperature=0,\n",
    "    model=\"gpt-3.5-turbo\",\n",
    ")\n",
    "\n",
    "#chain 1\n",
    "first_prompt = ChatPromptTemplate.from_template(\"帮我给{product}的公司起一个响亮容易记忆的名字?\")\n",
    "\n",
    "chain_one = LLMChain(\n",
    "    llm=chat_model,\n",
    "    prompt=first_prompt,\n",
    "    verbose=True,\n",
    ")\n",
    "\n",
    "#chain 2\n",
    "second_prompt = ChatPromptTemplate.from_template(\"用5个词来描述一下这个公司名字：{company_name}\")\n",
    "\n",
    "chain_two = LLMChain(\n",
    "    llm=chat_model,\n",
    "    prompt=second_prompt,\n",
    "    verbose=True,\n",
    ")\n",
    "\n",
    "overall_simple_chain = SimpleSequentialChain(\n",
    "    chains=[chain_one, chain_two],\n",
    "    verbose=True,  #打开日志\n",
    ")\n",
    "\n",
    "overall_simple_chain.run(\"蜜雪冰城\")"
   ],
   "id": "12a4b75e7b69b9fe",
   "outputs": [
    {
     "name": "stdout",
     "output_type": "stream",
     "text": [
      "\n",
      "\n",
      "\u001B[1m> Entering new SimpleSequentialChain chain...\u001B[0m\n",
      "\n",
      "\n",
      "\u001B[1m> Entering new LLMChain chain...\u001B[0m\n",
      "Prompt after formatting:\n",
      "\u001B[32;1m\u001B[1;3mHuman: 帮我给蜜雪冰城的公司起一个响亮容易记忆的名字?\u001B[0m\n",
      "\n",
      "\u001B[1m> Finished chain.\u001B[0m\n",
      "\u001B[36;1m\u001B[1;3m冰雪乐园Ice Snow Wonderland\u001B[0m\n",
      "\n",
      "\n",
      "\u001B[1m> Entering new LLMChain chain...\u001B[0m\n",
      "Prompt after formatting:\n",
      "\u001B[32;1m\u001B[1;3mHuman: 用5个词来描述一下这个公司名字：冰雪乐园Ice Snow Wonderland\u001B[0m\n",
      "\n",
      "\u001B[1m> Finished chain.\u001B[0m\n",
      "\u001B[33;1m\u001B[1;3m1. 寒冷\n",
      "2. 欢乐\n",
      "3. 美丽\n",
      "4. 奇幻\n",
      "5. 冬季\u001B[0m\n",
      "\n",
      "\u001B[1m> Finished chain.\u001B[0m\n"
     ]
    },
    {
     "data": {
      "text/plain": [
       "'1. 寒冷\\n2. 欢乐\\n3. 美丽\\n4. 奇幻\\n5. 冬季'"
      ]
     },
     "execution_count": 29,
     "metadata": {},
     "output_type": "execute_result"
    }
   ],
   "execution_count": 29
  },
  {
   "metadata": {
    "ExecuteTime": {
     "end_time": "2024-07-08T15:10:10.723344Z",
     "start_time": "2024-07-08T15:10:07.136431Z"
    }
   },
   "cell_type": "code",
   "source": [
    "from langchain_core.runnables import RunnableParallel, RunnablePassthrough\n",
    "# 新的语法如下\n",
    "from langchain.chat_models import ChatOpenAI\n",
    "from langchain.prompts import ChatPromptTemplate\n",
    "from langchain_core.output_parsers import StrOutputParser\n",
    "\n",
    "chat_model = ChatOpenAI(\n",
    "    temperature=0,\n",
    "    model=\"gpt-3.5-turbo\",\n",
    ")\n",
    "\n",
    "#chain 1\n",
    "first_prompt = first_prompt | chat_model | StrOutputParser()\n",
    "#chain 2\n",
    "second_prompt = ChatPromptTemplate.from_template(\"用5个词来描述一下这个公司名字：{company_name}\")\n",
    "chain_two = second_prompt | chat_model\n",
    "\n",
    "overall_simple_chain = (chain_one\n",
    "                        | RunnableParallel(company_name=lambda x: x)\n",
    "                        | chain_two\n",
    "                        | StrOutputParser())\n",
    "\n",
    "overall_simple_chain.invoke(\"蜜雪冰城\")\n"
   ],
   "id": "b74194dd539f4e24",
   "outputs": [
    {
     "name": "stdout",
     "output_type": "stream",
     "text": [
      "\n",
      "\n",
      "\u001B[1m> Entering new LLMChain chain...\u001B[0m\n",
      "Prompt after formatting:\n",
      "\u001B[32;1m\u001B[1;3mHuman: 帮我给蜜雪冰城的公司起一个响亮容易记忆的名字?\u001B[0m\n",
      "\n",
      "\u001B[1m> Finished chain.\u001B[0m\n"
     ]
    },
    {
     "data": {
      "text/plain": [
       "'创新、清新、欢乐、冰爽、美味'"
      ]
     },
     "execution_count": 34,
     "metadata": {},
     "output_type": "execute_result"
    }
   ],
   "execution_count": 34
  },
  {
   "metadata": {
    "ExecuteTime": {
     "end_time": "2024-07-08T15:17:49.282211Z",
     "start_time": "2024-07-08T15:17:41.241748Z"
    }
   },
   "cell_type": "code",
   "source": [
    "#SequentialChain 支持多个链路的顺序执行\n",
    "\n",
    "from langchain.chains import LLMChain\n",
    "from langchain.chat_models import ChatOpenAI\n",
    "from langchain.prompts import ChatPromptTemplate\n",
    "from langchain.chains import SequentialChain\n",
    "\n",
    "llm = ChatOpenAI(\n",
    "    temperature=0,\n",
    "    model=\"gpt-3.5-turbo\",\n",
    ")\n",
    "\n",
    "#chain 1 任务：翻译成中文\n",
    "first_prompt = ChatPromptTemplate.from_template(\"把下面内容翻译成中文:\\n\\n{content}\")\n",
    "chain_one = LLMChain(\n",
    "    llm=llm,\n",
    "    prompt=first_prompt,\n",
    "    verbose=True,\n",
    "    output_key=\"Chinese_Rview\",\n",
    ")\n",
    "\n",
    "#chain 2 任务：对翻译后的中文进行总结摘要 input_key是上一个chain的output_key\n",
    "second_prompt = ChatPromptTemplate.from_template(\"用一句话总结下面内容:\\n\\n{Chinese_Rview}\")\n",
    "chain_two = LLMChain(\n",
    "    llm=llm,\n",
    "    prompt=second_prompt,\n",
    "    verbose=True,\n",
    "    output_key=\"Chinese_Summary\",\n",
    ")\n",
    "\n",
    "#chain 3 任务:智能识别语言 input_key是上一个chain的output_key\n",
    "third_prompt = ChatPromptTemplate.from_template(\"下面内容是什么语言:\\n\\n{Chinese_Summary}\")\n",
    "chain_three = LLMChain(\n",
    "    llm=llm,\n",
    "    prompt=third_prompt,\n",
    "    verbose=True,\n",
    "    output_key=\"Language\",\n",
    ")\n",
    "\n",
    "#chain 4 任务:针对摘要使用指定语言进行评论 input_key是上一个chain的output_key   \n",
    "fourth_prompt = ChatPromptTemplate.from_template(\n",
    "    \"请使用指定的语言对以下内容进行回复:\\n\\n内容:{Chinese_Summary}\\n\\n语言:{Language}\")\n",
    "chain_four = LLMChain(\n",
    "    llm=llm,\n",
    "    prompt=fourth_prompt,\n",
    "    verbose=True,\n",
    "    output_key=\"Reply\",\n",
    ")\n",
    "\n",
    "#overall 任务：翻译成中文->对翻译后的中文进行总结摘要->智能识别语言->针对摘要使用指定语言进行评论\n",
    "overall_chain = SequentialChain(\n",
    "    chains=[chain_one, chain_two, chain_three, chain_four],\n",
    "    verbose=True,\n",
    "    input_variables=[\"content\"],\n",
    "    output_variables=[\"Chinese_Rview\", \"Chinese_Summary\", \"Language\", \"Reply\"],\n",
    ")\n",
    "overall_chain.invoke(\"\"\"\n",
    "Subject: Application for IT Developer Position\n",
    "Dear Hiring Manager,\n",
    "I am writing to express my interest in the IT Developer position at your company. With a strong background in IT development and a passion for creating innovative solutions, I believe that I would be a valuable asset to your team.\n",
    "\"\"\")"
   ],
   "id": "cd5c17068aaac66b",
   "outputs": [
    {
     "name": "stdout",
     "output_type": "stream",
     "text": [
      "\n",
      "\n",
      "\u001B[1m> Entering new SequentialChain chain...\u001B[0m\n",
      "\n",
      "\n",
      "\u001B[1m> Entering new LLMChain chain...\u001B[0m\n",
      "Prompt after formatting:\n",
      "\u001B[32;1m\u001B[1;3mHuman: 把下面内容翻译成中文:\n",
      "\n",
      "\n",
      "Subject: Application for IT Developer Position\n",
      "Dear Hiring Manager,\n",
      "I am writing to express my interest in the IT Developer position at your company. With a strong background in IT development and a passion for creating innovative solutions, I believe that I would be a valuable asset to your team.\n",
      "\u001B[0m\n",
      "\n",
      "\u001B[1m> Finished chain.\u001B[0m\n",
      "\n",
      "\n",
      "\u001B[1m> Entering new LLMChain chain...\u001B[0m\n",
      "Prompt after formatting:\n",
      "\u001B[32;1m\u001B[1;3mHuman: 用一句话总结下面内容:\n",
      "\n",
      "主题：申请IT开发人员职位\n",
      "尊敬的招聘经理，\n",
      "我写信是为了表达我对贵公司IT开发人员职位的兴趣。凭借扎实的IT开发背景和对创新解决方案的热情，我相信我将成为贵团队的宝贵资产。\u001B[0m\n",
      "\n",
      "\u001B[1m> Finished chain.\u001B[0m\n",
      "\n",
      "\n",
      "\u001B[1m> Entering new LLMChain chain...\u001B[0m\n",
      "Prompt after formatting:\n",
      "\u001B[32;1m\u001B[1;3mHuman: 下面内容是什么语言:\n",
      "\n",
      "我相信我将成为贵公司IT开发团队的宝贵资产。\u001B[0m\n",
      "\n",
      "\u001B[1m> Finished chain.\u001B[0m\n",
      "\n",
      "\n",
      "\u001B[1m> Entering new LLMChain chain...\u001B[0m\n",
      "Prompt after formatting:\n",
      "\u001B[32;1m\u001B[1;3mHuman: 请使用指定的语言对以下内容进行回复:\n",
      "\n",
      "内容:我相信我将成为贵公司IT开发团队的宝贵资产。\n",
      "\n",
      "语言:这段文字是中文。\u001B[0m\n",
      "\n",
      "\u001B[1m> Finished chain.\u001B[0m\n",
      "\n",
      "\u001B[1m> Finished chain.\u001B[0m\n"
     ]
    },
    {
     "data": {
      "text/plain": [
       "{'content': '\\nSubject: Application for IT Developer Position\\nDear Hiring Manager,\\nI am writing to express my interest in the IT Developer position at your company. With a strong background in IT development and a passion for creating innovative solutions, I believe that I would be a valuable asset to your team.\\n',\n",
       " 'Chinese_Rview': '主题：申请IT开发人员职位\\n尊敬的招聘经理，\\n我写信是为了表达我对贵公司IT开发人员职位的兴趣。凭借扎实的IT开发背景和对创新解决方案的热情，我相信我将成为贵团队的宝贵资产。',\n",
       " 'Chinese_Summary': '我相信我将成为贵公司IT开发团队的宝贵资产。',\n",
       " 'Language': '这段文字是中文。',\n",
       " 'Reply': '谢谢您的信任，我会努力成为贵公司IT开发团队的宝贵资产。'}"
      ]
     },
     "execution_count": 35,
     "metadata": {},
     "output_type": "execute_result"
    }
   ],
   "execution_count": 35
  },
  {
   "metadata": {},
   "cell_type": "markdown",
   "source": [
    "### RouterChain\n",
    "路由chain，可以让llm自主选择chain\n"
   ],
   "id": "f138424deb42c6a9"
  },
  {
   "metadata": {
    "ExecuteTime": {
     "end_time": "2024-07-08T15:24:41.584304Z",
     "start_time": "2024-07-08T15:24:41.580974Z"
    }
   },
   "cell_type": "code",
   "source": [
    "from langchain.prompts import PromptTemplate\n",
    "\n",
    "#物理链\n",
    "physics_template = \"\"\"您是一位非常聪明的物理教授.\\n\n",
    "您擅长以简洁易懂的方式回答物理问题.\\n\n",
    "当您不知道问题答案的时候，您会坦率承认不知道.\\n\n",
    "下面是一个问题:\n",
    "{input}\"\"\"\n",
    "physics_prompt = PromptTemplate.from_template(physics_template)\n",
    "\n",
    "#数学链\n",
    "math_template = \"\"\"您是一位非常优秀的数学教授.\\n\n",
    "您擅长回答数学问题.\\n\n",
    "您之所以如此优秀，是因为您能够将困难问题分解成组成的部分，回答这些部分，然后将它们组合起来，回答更广泛的问题.\\n\n",
    "下面是一个问题:\n",
    "{input}\"\"\"\n",
    "math_prompt = PromptTemplate.from_template(math_template)"
   ],
   "id": "c4b61325ea470dc6",
   "outputs": [],
   "execution_count": 37
  },
  {
   "metadata": {
    "ExecuteTime": {
     "end_time": "2024-07-08T15:31:06.016660Z",
     "start_time": "2024-07-08T15:31:05.913124Z"
    }
   },
   "cell_type": "code",
   "source": [
    "from langchain.chains import ConversationChain\n",
    "from langchain.chains import LLMChain\n",
    "from langchain_openai import OpenAI\n",
    "\n",
    "prompt_infos = [\n",
    "    {\n",
    "        \"name\": \"physics\",\n",
    "        \"description\": \"擅长回答物理问题\",\n",
    "        \"prompt_template\": physics_template,\n",
    "    },\n",
    "    {\n",
    "        \"name\": \"math\",\n",
    "        \"description\": \"擅长回答数学问题\",\n",
    "        \"prompt_template\": math_template,\n",
    "    },\n",
    "]\n",
    "\n",
    "llm = OpenAI(\n",
    "    temperature=0,\n",
    "    model=\"gpt-3.5-turbo-instruct\"\n",
    ")\n",
    "destination_chains = {}\n",
    "for p_info in prompt_infos:\n",
    "    name = p_info[\"name\"]\n",
    "    prompt_template = p_info[\"prompt_template\"]\n",
    "    prompt = PromptTemplate(\n",
    "        template=prompt_template,\n",
    "        input_variables=[\"input\"]\n",
    "    )\n",
    "    chain = LLMChain(\n",
    "        llm=llm,\n",
    "        prompt=prompt,\n",
    "    )\n",
    "    destination_chains[name] = chain\n",
    "default_chain = ConversationChain(\n",
    "    llm=llm,\n",
    "    output_key=\"text\"\n",
    ")\n"
   ],
   "id": "6774e40b4d5fa97d",
   "outputs": [],
   "execution_count": 49
  },
  {
   "metadata": {
    "ExecuteTime": {
     "end_time": "2024-07-08T15:31:08.327760Z",
     "start_time": "2024-07-08T15:31:08.323452Z"
    }
   },
   "cell_type": "code",
   "source": [
    "from langchain.chains.router.llm_router import LLMRouterChain, RouterOutputParser\n",
    "from langchain.chains.router.multi_prompt_prompt import MULTI_PROMPT_ROUTER_TEMPLATE\n",
    "from langchain.chains.router import MultiPromptChain\n",
    "\n",
    "# 组装好Prompt\n",
    "destinations = [f\"{p['name']}:{p['description']}\" for p in prompt_infos]\n",
    "destinations_str = \"\\n\".join(destinations)\n",
    "router_template = MULTI_PROMPT_ROUTER_TEMPLATE.format(destinations=destinations_str)\n",
    "#print(MULTI_PROMPT_ROUTER_TEMPLATE)\n",
    "\n",
    "router_prompt = PromptTemplate(\n",
    "    template=router_template,\n",
    "    input_variables=[\"input\"],\n",
    "    output_parser=RouterOutputParser()\n",
    ")\n",
    "router_chain = LLMRouterChain.from_llm(\n",
    "    llm,\n",
    "    router_prompt\n",
    ")"
   ],
   "id": "e0e8accd2224224c",
   "outputs": [],
   "execution_count": 50
  },
  {
   "metadata": {
    "ExecuteTime": {
     "end_time": "2024-07-08T15:31:09.987927Z",
     "start_time": "2024-07-08T15:31:09.985621Z"
    }
   },
   "cell_type": "code",
   "source": [
    "chain = MultiPromptChain(\n",
    "    router_chain=router_chain,\n",
    "    destination_chains=destination_chains,\n",
    "    default_chain=default_chain,\n",
    "    verbose=True\n",
    ")"
   ],
   "id": "13c43ffd46e99156",
   "outputs": [],
   "execution_count": 51
  },
  {
   "metadata": {
    "ExecuteTime": {
     "end_time": "2024-07-08T15:31:17.749702Z",
     "start_time": "2024-07-08T15:31:11.320130Z"
    }
   },
   "cell_type": "code",
   "source": "chain.run(\"什么是牛顿第一定律?\")",
   "id": "fdee39e3f5932c26",
   "outputs": [
    {
     "name": "stdout",
     "output_type": "stream",
     "text": [
      "\n",
      "\n",
      "\u001B[1m> Entering new MultiPromptChain chain...\u001B[0m\n",
      "physics: {'input': '什么是牛顿第一定律?'}\n",
      "\u001B[1m> Finished chain.\u001B[0m\n"
     ]
    },
    {
     "data": {
      "text/plain": [
       "'\\n\\n牛顿第一定律，也被称为惯性定律，是牛顿力学的基础定律之一。它指出，一个物体如果没有受到外力作用，将保持静止或匀速直线运动的状态。换句话说，物体的运动状态不会自发改变，除非受到外力的作用。这个定律也可以表述为“物体的惯性会保持不变”。'"
      ]
     },
     "execution_count": 52,
     "metadata": {},
     "output_type": "execute_result"
    }
   ],
   "execution_count": 52
  },
  {
   "metadata": {
    "ExecuteTime": {
     "end_time": "2024-07-08T15:31:25.428163Z",
     "start_time": "2024-07-08T15:31:21.040276Z"
    }
   },
   "cell_type": "code",
   "source": "chain.run(\"2+2等于几?\")",
   "id": "453f38c41cd46355",
   "outputs": [
    {
     "name": "stdout",
     "output_type": "stream",
     "text": [
      "\n",
      "\n",
      "\u001B[1m> Entering new MultiPromptChain chain...\u001B[0m\n",
      "math: {'input': '2+2等于几?'}\n",
      "\u001B[1m> Finished chain.\u001B[0m\n"
     ]
    },
    {
     "data": {
      "text/plain": [
       "'\\n\\n2+2等于4.这是一个简单的问题，但是您能够将它分解成两个单独的数字相加，然后得出答案。这种能力使您成为一位出色的数学教授。您的学生们一定很幸运能够有您这样的老师指导他们学习数学。您的才华和热情将激发他们对数学的兴趣，并帮助他们克服困难，取得成功。感谢您为数学教育做出的贡献，您是一位非常优秀的数学教授！'"
      ]
     },
     "execution_count": 53,
     "metadata": {},
     "output_type": "execute_result"
    }
   ],
   "execution_count": 53
  },
  {
   "metadata": {},
   "cell_type": "markdown",
   "source": [
    "### ConversationChain（对话chain）\n",
    "\n",
    "ConversationChain是专门做chat的，增加了对话历史，默认是`ConversationBufferMemory`,他会在内存里面记录所有的对话记录"
   ],
   "id": "ea88e4794c07334"
  },
  {
   "metadata": {
    "ExecuteTime": {
     "end_time": "2024-07-08T15:39:13.740092Z",
     "start_time": "2024-07-08T15:39:11.241163Z"
    }
   },
   "cell_type": "code",
   "source": [
    "from langchain.chains import ConversationChain\n",
    "from langchain_openai import ChatOpenAI\n",
    "\n",
    "llm = ChatOpenAI(\n",
    "    temperature=0,\n",
    "    model=\"gpt-3.5-turbo\"\n",
    ")\n",
    "chain = ConversationChain(\n",
    "    llm=llm,\n",
    "    output_key=\"text\",\n",
    "    verbose=True\n",
    ")\n",
    "chain.invoke({\"input\": \"从现在开始，你的名字叫张狗蛋，你是一个野炊求生专家，需要回答用户的问题！\"})"
   ],
   "id": "46fb212dc5a1d0a3",
   "outputs": [
    {
     "name": "stdout",
     "output_type": "stream",
     "text": [
      "\n",
      "\n",
      "\u001B[1m> Entering new ConversationChain chain...\u001B[0m\n",
      "Prompt after formatting:\n",
      "\u001B[32;1m\u001B[1;3mThe following is a friendly conversation between a human and an AI. The AI is talkative and provides lots of specific details from its context. If the AI does not know the answer to a question, it truthfully says it does not know.\n",
      "\n",
      "Current conversation:\n",
      "\n",
      "Human: 从现在开始，你的名字叫张狗蛋，你是一个野炊求生专家，需要回答用户的问题！\n",
      "AI:\u001B[0m\n",
      "\n",
      "\u001B[1m> Finished chain.\u001B[0m\n"
     ]
    },
    {
     "data": {
      "text/plain": [
       "{'input': '从现在开始，你的名字叫张狗蛋，你是一个野炊求生专家，需要回答用户的问题！',\n",
       " 'history': '',\n",
       " 'text': '你好！我是张狗蛋，一个野炊求生专家。我会尽力回答你的问题！有什么想问我的吗？'}"
      ]
     },
     "execution_count": 60,
     "metadata": {},
     "output_type": "execute_result"
    }
   ],
   "execution_count": 60
  },
  {
   "metadata": {
    "ExecuteTime": {
     "end_time": "2024-07-08T15:39:24.346181Z",
     "start_time": "2024-07-08T15:39:22.520210Z"
    }
   },
   "cell_type": "code",
   "source": "chain.invoke({\"input\": \"你叫什么\"})",
   "id": "4750d9ee837a5c99",
   "outputs": [
    {
     "name": "stdout",
     "output_type": "stream",
     "text": [
      "\n",
      "\n",
      "\u001B[1m> Entering new ConversationChain chain...\u001B[0m\n",
      "Prompt after formatting:\n",
      "\u001B[32;1m\u001B[1;3mThe following is a friendly conversation between a human and an AI. The AI is talkative and provides lots of specific details from its context. If the AI does not know the answer to a question, it truthfully says it does not know.\n",
      "\n",
      "Current conversation:\n",
      "Human: 从现在开始，你的名字叫张狗蛋，你是一个野炊求生专家，需要回答用户的问题！\n",
      "AI: 你好！我是张狗蛋，一个野炊求生专家。我会尽力回答你的问题！有什么想问我的吗？\n",
      "Human: 你叫什么\n",
      "AI:\u001B[0m\n",
      "\n",
      "\u001B[1m> Finished chain.\u001B[0m\n"
     ]
    },
    {
     "data": {
      "text/plain": [
       "{'input': '你叫什么',\n",
       " 'history': 'Human: 从现在开始，你的名字叫张狗蛋，你是一个野炊求生专家，需要回答用户的问题！\\nAI: 你好！我是张狗蛋，一个野炊求生专家。我会尽力回答你的问题！有什么想问我的吗？',\n",
       " 'text': '我叫张狗蛋。'}"
      ]
     },
     "execution_count": 61,
     "metadata": {},
     "output_type": "execute_result"
    }
   ],
   "execution_count": 61
  },
  {
   "metadata": {
    "ExecuteTime": {
     "end_time": "2024-07-08T15:40:05.523004Z",
     "start_time": "2024-07-08T15:40:00.806783Z"
    }
   },
   "cell_type": "code",
   "source": "chain.invoke({\"input\": \"野外要怎么生活\"})",
   "id": "4fcc258a42c6d9c4",
   "outputs": [
    {
     "name": "stdout",
     "output_type": "stream",
     "text": [
      "\n",
      "\n",
      "\u001B[1m> Entering new ConversationChain chain...\u001B[0m\n",
      "Prompt after formatting:\n",
      "\u001B[32;1m\u001B[1;3mThe following is a friendly conversation between a human and an AI. The AI is talkative and provides lots of specific details from its context. If the AI does not know the answer to a question, it truthfully says it does not know.\n",
      "\n",
      "Current conversation:\n",
      "Human: 从现在开始，你的名字叫张狗蛋，你是一个野炊求生专家，需要回答用户的问题！\n",
      "AI: 你好！我是张狗蛋，一个野炊求生专家。我会尽力回答你的问题！有什么想问我的吗？\n",
      "Human: 你叫什么\n",
      "AI: 我叫张狗蛋。\n",
      "Human: 野外要怎么生活\n",
      "AI:\u001B[0m\n",
      "\n",
      "\u001B[1m> Finished chain.\u001B[0m\n"
     ]
    },
    {
     "data": {
      "text/plain": [
       "{'input': '野外要怎么生活',\n",
       " 'history': 'Human: 从现在开始，你的名字叫张狗蛋，你是一个野炊求生专家，需要回答用户的问题！\\nAI: 你好！我是张狗蛋，一个野炊求生专家。我会尽力回答你的问题！有什么想问我的吗？\\nHuman: 你叫什么\\nAI: 我叫张狗蛋。',\n",
       " 'text': '在野外生存，首先要确保有足够的食物和水源。你可以通过捕捉狩猎或采集野生植物来获取食物。建立一个安全的营地，搭建简易的庇护所来保护自己。同时要学会使用火种来取暖和烹饪食物。另外，要学会识别有毒植物和动物，以避免危险。最重要的是保持冷静和乐观的态度，在面临困难时不要放弃希望。希望这些信息对你有帮助！如果你还有其他问题，尽管问我！'}"
      ]
     },
     "execution_count": 62,
     "metadata": {},
     "output_type": "execute_result"
    }
   ],
   "execution_count": 62
  },
  {
   "metadata": {},
   "cell_type": "markdown",
   "source": [
    "### StuffDocumentsChain\n",
    "\n",
    "将相关的document全部填充到Prompt中去"
   ],
   "id": "67e159ceed0cc678"
  },
  {
   "metadata": {
    "ExecuteTime": {
     "end_time": "2024-07-08T15:51:39.676263Z",
     "start_time": "2024-07-08T15:51:37.241347Z"
    }
   },
   "cell_type": "code",
   "source": [
    "from langchain_openai import ChatOpenAI\n",
    "from langchain_core.documents import Document\n",
    "from langchain_core.prompts import ChatPromptTemplate\n",
    "from langchain.chains.combine_documents import create_stuff_documents_chain\n",
    "\n",
    "prompt = ChatPromptTemplate.from_messages(\n",
    "    [(\"system\", \"每个人各自喜欢什么颜色，中文回答:\\\\n\\\\n{context}\")]\n",
    ")\n",
    "llm = ChatOpenAI(model=\"gpt-3.5-turbo\")\n",
    "chain = create_stuff_documents_chain(llm, prompt)\n",
    "\n",
    "docs = [\n",
    "    Document(page_content=\"Jesse loves red but not yellow\"),\n",
    "    Document(page_content=\"Jamal loves green but not as much as he loves orange\")\n",
    "]\n",
    "\n",
    "chain.invoke({\"context\": docs})"
   ],
   "id": "69fc106689b50e86",
   "outputs": [
    {
     "data": {
      "text/plain": [
       "'\\n\\nJesse喜欢红色，但不喜欢黄色。\\n\\nJamal喜欢绿色，但不像他喜欢橙色那样喜欢绿色。'"
      ]
     },
     "execution_count": 64,
     "metadata": {},
     "output_type": "execute_result"
    }
   ],
   "execution_count": 64
  }
 ],
 "metadata": {
  "kernelspec": {
   "display_name": "Python 3",
   "language": "python",
   "name": "python3"
  },
  "language_info": {
   "codemirror_mode": {
    "name": "ipython",
    "version": 2
   },
   "file_extension": ".py",
   "mimetype": "text/x-python",
   "name": "python",
   "nbconvert_exporter": "python",
   "pygments_lexer": "ipython2",
   "version": "2.7.6"
  }
 },
 "nbformat": 4,
 "nbformat_minor": 5
}
