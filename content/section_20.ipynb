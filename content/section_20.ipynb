{
 "cells": [
  {
   "metadata": {},
   "cell_type": "markdown",
   "source": [
    "# LangGraph\n",
    "\n",
    "官网：https://langchain-ai.github.io/langgraph/\n",
    "\n",
    "LangGraph 是什么：\n",
    "LangGraph 是一个用于构建具有状态、多角色应用程序的库，适用于创建代理和多代理工作流。\n",
    "\n",
    "能干什么：\n",
    "\n",
    "- 实现应用中的循环和分支。\n",
    "- 自动在图的每一步之后保存状态，支持暂停和恢复图的执行，以支持错误恢复、人工在环工作流、时间旅行等。\n",
    "- 支持人工在环，可中断图的执行以批准或编辑代理计划的下一个动作。\n",
    "- 支持流输出，包括每个节点产生的令牌流。\n",
    "- 与 LangChain 和 LangSmith 无缝集成。\n",
    "\n",
    "\n",
    "优点：\n",
    "- 提供循环，这对于大多数代理架构是必不可少的，与基于 DAG 的解决方案不同。\n",
    "- 作为一个非常底层的框架，对应用程序的流程和状态提供精细控制，利于创建可靠的代理。\n",
    "- 包含内置的持久性，支持高级的人工在环和记忆功能。\n",
    "- 受到 Pregel 和 Apache Beam 的启发，公共接口借鉴了 NetworkX。\n",
    "\n"
   ],
   "id": "d76e249158b95353"
  }
 ],
 "metadata": {
  "kernelspec": {
   "display_name": "Python 3",
   "language": "python",
   "name": "python3"
  },
  "language_info": {
   "codemirror_mode": {
    "name": "ipython",
    "version": 2
   },
   "file_extension": ".py",
   "mimetype": "text/x-python",
   "name": "python",
   "nbconvert_exporter": "python",
   "pygments_lexer": "ipython2",
   "version": "2.7.6"
  }
 },
 "nbformat": 4,
 "nbformat_minor": 5
}
