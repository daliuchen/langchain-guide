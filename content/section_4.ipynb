{
 "cells": [
  {
   "metadata": {},
   "cell_type": "markdown",
   "source": [
    "# Example selectors\n",
    "\n",
    "在写prompt的时候会包含一些示例来帮助LLM生成我们想要的答案，可以直接将示例硬编码在prompt中，LangChain提供了`Example Selectors`来动态的选择。\n",
    "\n",
    "Example selectors的功能是将示例格式化到Prompt中，并且可以动态的选择。\n",
    "\n",
    "官网教程：https://python.langchain.com/v0.2/docs/how_to/#example-selectors\n",
    "既然是动态选择，那就有动态选择的方法，`Example selector`类型如下\n",
    "\n",
    "| 类型              | 描述 |\n",
    "|-----------------|-|\n",
    "| Similarity（相似性） | 使用输入和示例之间的语义相似性来决定选择哪些示例。 |\n",
    "| MMR（最大边际相关性）    | 使用最大边际相关性来决定选择哪些示例。 |\n",
    "| Length          | 根据可以适应特定长度的数量选择示例|\n",
    "| Ngram           | 使用 ngram 重叠来决定选择哪些示例。 |"
   ],
   "id": "f92a1bf04d26dac7"
  },
  {
   "metadata": {},
   "cell_type": "markdown",
   "source": [
    "## 根据长度要求选择示例（Length）\n",
    "\n",
    "`LengthBasedExampleSelector`根据长度要求选择示例"
   ],
   "id": "d685e5c1085b0d05"
  },
  {
   "metadata": {
    "ExecuteTime": {
     "end_time": "2024-06-26T16:07:49.778367Z",
     "start_time": "2024-06-26T16:07:49.540467Z"
    }
   },
   "cell_type": "code",
   "source": [
    "from langchain_core.example_selectors import LengthBasedExampleSelector\n",
    "from langchain_core.prompts import FewShotPromptTemplate, PromptTemplate\n",
    "\n",
    "# 示例\n",
    "examples = [\n",
    "    {\"input\": \"hi\", \"output\": \"嘿\"},\n",
    "    {\"input\": \"bye\", \"output\": \"拜拜\"},\n",
    "    {\"input\": \"soccer\", \"output\": \"足球\"},\n",
    "    {\"input\":\"The selector allows for a threshold score to be set\",\"output\": \"选择器允许设置阈值分数\"},\n",
    "    {\"input\":\"Examples with an ngram overlap score less than or equal to the threshold are excluded.\",\"output\": \"排除ngram重叠得分小于或等于阈值的示例。\"}\n",
    "]"
   ],
   "id": "414e57ac9d0068aa",
   "outputs": [],
   "execution_count": 1
  },
  {
   "metadata": {
    "ExecuteTime": {
     "end_time": "2024-06-26T16:07:49.799015Z",
     "start_time": "2024-06-26T16:07:49.779423Z"
    }
   },
   "cell_type": "code",
   "source": [
    "\n",
    "\n",
    "example_prompt = PromptTemplate(\n",
    "    input_variables=[\"input\", \"output\"],\n",
    "    template=\"\"\"\n",
    "Input: {input}\n",
    "Output: {output}\"\"\",\n",
    ")\n",
    "# 长度选择器\n",
    "example_selector = LengthBasedExampleSelector(\n",
    "    examples=examples,  #示例\n",
    "    example_prompt=example_prompt, #\n",
    "    # 格式化之后的示例的最大长度\n",
    "    # 长度是通过get_text_length方法来测量的\n",
    "    max_length=25,\n",
    "    # 获取字符串的长度，用来判断哪些示例应该包含在里面，\n",
    "    # 内置的get_text_length,如果默认分词计算方式不满足，可以自己扩展\n",
    "    # get_text_length: Callable[[str], int] = lambda x: len(re.split(\"\\n| \", x))\n",
    ")\n",
    "\n",
    "# FewShotPromptTemplate： 在Prompt中包含Example（示例）\n",
    "dynamic_prompt = FewShotPromptTemplate(\n",
    "    example_selector=example_selector,\n",
    "    example_prompt=example_prompt,\n",
    "    prefix=\"将英文翻译中文\",\n",
    "    suffix=\"Input: {word}\\nOutput:\",\n",
    "    input_variables=[\"word\"],\n",
    ")\n",
    "res = dynamic_prompt.invoke({\n",
    "    \"word\":\"today is good day\"\n",
    "})\n",
    "print(res.to_string())"
   ],
   "id": "329ea2c867d701b0",
   "outputs": [
    {
     "name": "stdout",
     "output_type": "stream",
     "text": [
      "将英文翻译中文\n",
      "\n",
      "\n",
      "Input: hi\n",
      "Output: 嘿\n",
      "\n",
      "\n",
      "Input: bye\n",
      "Output: 拜拜\n",
      "\n",
      "\n",
      "Input: soccer\n",
      "Output: 足球\n",
      "\n",
      "Input: today is good day\n",
      "Output:\n"
     ]
    }
   ],
   "execution_count": 2
  },
  {
   "metadata": {},
   "cell_type": "markdown",
   "source": [
    "如上所示：在Prompt中，已经嵌入了示例，因为`max_length`为25，我们所有的示例加在一块也没有超过25，所以就把所有的examples都嵌入到Prompt中了。\n",
    "将`max_length`变为10，如下："
   ],
   "id": "7683c746ac984eb3"
  },
  {
   "metadata": {
    "ExecuteTime": {
     "end_time": "2024-06-26T16:07:49.803403Z",
     "start_time": "2024-06-26T16:07:49.799721Z"
    }
   },
   "cell_type": "code",
   "source": [
    "example_prompt = PromptTemplate(\n",
    "    input_variables=[\"input\", \"output\"],\n",
    "    template=\"\"\"\n",
    "Input: {input}\n",
    "Output: {output}\"\"\",\n",
    ")\n",
    "# 长度选择器\n",
    "example_selector = LengthBasedExampleSelector(\n",
    "    examples=examples,  #示例\n",
    "    example_prompt=example_prompt, #\n",
    "    # 格式化之后的示例的最大长度\n",
    "    # 长度是通过get_text_length方法来测量的\n",
    "    max_length=10,\n",
    "    # 获取字符串的长度，用来判断哪些示例应该包含在里面，\n",
    "    # 内置的get_text_length,如果默认分词计算方式不满足，可以自己扩展\n",
    "    # get_text_length: Callable[[str], int] = lambda x: len(re.split(\"\\n| \", x))\n",
    ")\n",
    "\n",
    "# FewShotPromptTemplate： 在Prompt中包含Example（示例）\n",
    "dynamic_prompt = FewShotPromptTemplate(\n",
    "    example_selector=example_selector,\n",
    "    example_prompt=example_prompt,\n",
    "    prefix=\"将英文翻译中文\",\n",
    "    suffix=\"Input: {word}\\nOutput:\",\n",
    "    input_variables=[\"word\"],\n",
    ")\n",
    "res = dynamic_prompt.invoke({\n",
    "    \"word\":\"today is good day\"\n",
    "})\n",
    "print(res.to_string())"
   ],
   "id": "425a9f2fb6480d8c",
   "outputs": [
    {
     "name": "stdout",
     "output_type": "stream",
     "text": [
      "将英文翻译中文\n",
      "\n",
      "\n",
      "Input: hi\n",
      "Output: 嘿\n",
      "\n",
      "Input: today is good day\n",
      "Output:\n"
     ]
    }
   ],
   "execution_count": 3
  },
  {
   "metadata": {},
   "cell_type": "markdown",
   "source": [
    "可以看到，调整为10的的时候，示例变少了。\n",
    "或者输入的内容很多，示例也会变少，如下："
   ],
   "id": "8b03e7e7f8836a6d"
  },
  {
   "metadata": {
    "ExecuteTime": {
     "end_time": "2024-06-26T16:07:49.807042Z",
     "start_time": "2024-06-26T16:07:49.803885Z"
    }
   },
   "cell_type": "code",
   "source": [
    "example_prompt = PromptTemplate(\n",
    "    input_variables=[\"input\", \"output\"],\n",
    "    template=\"\"\"\n",
    "Input: {input}\n",
    "Output: {output}\"\"\",\n",
    ")\n",
    "# 长度选择器\n",
    "example_selector = LengthBasedExampleSelector(\n",
    "    examples=examples,  #示例\n",
    "    example_prompt=example_prompt, #\n",
    "    # 格式化之后的示例的最大长度\n",
    "    # 长度是通过get_text_length方法来测量的\n",
    "    max_length=25,\n",
    "    # 获取字符串的长度，用来判断哪些示例应该包含在里面，\n",
    "    # 内置的get_text_length,如果默认分词计算方式不满足，可以自己扩展\n",
    "    # get_text_length: Callable[[str], int] = lambda x: len(re.split(\"\\n| \", x))\n",
    ")\n",
    "\n",
    "# FewShotPromptTemplate： 在Prompt中包含Example（示例）\n",
    "dynamic_prompt = FewShotPromptTemplate(\n",
    "    example_selector=example_selector,\n",
    "    example_prompt=example_prompt,\n",
    "    prefix=\"将英文翻译中文\",\n",
    "    suffix=\"Input: {word}\\nOutput:\",\n",
    "    input_variables=[\"word\"],\n",
    ")\n",
    "res = dynamic_prompt.invoke({\n",
    "    \"word\":\"One common prompting technique for achieving better performance is to include examples as part of the prompt.\"\n",
    "})\n",
    "print(res.to_string())"
   ],
   "id": "cfaa5e77d1ef4c21",
   "outputs": [
    {
     "name": "stdout",
     "output_type": "stream",
     "text": [
      "将英文翻译中文\n",
      "\n",
      "\n",
      "Input: hi\n",
      "Output: 嘿\n",
      "\n",
      "Input: One common prompting technique for achieving better performance is to include examples as part of the prompt.\n",
      "Output:\n"
     ]
    }
   ],
   "execution_count": 4
  },
  {
   "metadata": {},
   "cell_type": "markdown",
   "source": [
    "## 根据相似性选择示例（Similarity）\n",
    "\n",
    "`SemanticSimilarityExampleSelector`通过相似性选择示例。\n",
    "它是通过输入和示例相似性选择示例。\n",
    "实现是，将示例先Embedding（特征化），在选择示例的时候，将输入先Embedding，再在示例中找个最相似的。"
   ],
   "id": "ffa7ce618eb736b2"
  },
  {
   "metadata": {
    "ExecuteTime": {
     "end_time": "2024-06-26T16:07:51.998920Z",
     "start_time": "2024-06-26T16:07:49.808387Z"
    }
   },
   "cell_type": "code",
   "source": [
    "from langchain_chroma import Chroma\n",
    "from langchain_core.example_selectors import SemanticSimilarityExampleSelector\n",
    "from langchain_core.prompts import FewShotPromptTemplate\n",
    "from langchain_openai import OpenAIEmbeddings\n",
    "\n",
    "example_selector = SemanticSimilarityExampleSelector.from_examples(\n",
    "    examples,\n",
    "    OpenAIEmbeddings(),\n",
    "    Chroma,\n",
    "    k=1,\n",
    ")\n",
    "similar_prompt = FewShotPromptTemplate(\n",
    "    example_selector=example_selector,\n",
    "    example_prompt=example_prompt,\n",
    "    prefix=\"将英文翻译中文\",\n",
    "    suffix=\"Input: {word}\\nOutput:\",\n",
    "    input_variables=[\"word\"],\n",
    ")"
   ],
   "id": "c4be70690ff8c504",
   "outputs": [],
   "execution_count": 5
  },
  {
   "metadata": {
    "ExecuteTime": {
     "end_time": "2024-06-26T16:07:52.512261Z",
     "start_time": "2024-06-26T16:07:52.000198Z"
    }
   },
   "cell_type": "code",
   "source": [
    "# Input is a feeling, so should select the happy/sad example\n",
    "print(similar_prompt.format(word=\"hello\"))"
   ],
   "id": "86cb2942cf8eeb3a",
   "outputs": [
    {
     "name": "stdout",
     "output_type": "stream",
     "text": [
      "将英文翻译中文\n",
      "\n",
      "\n",
      "Input: hi\n",
      "Output: 嘿\n",
      "\n",
      "Input: hello\n",
      "Output:\n"
     ]
    }
   ],
   "execution_count": 6
  },
  {
   "metadata": {},
   "cell_type": "markdown",
   "source": [
    "## 根据输入相似度选择示例(最大边际相关性 MMR)\n",
    "\n",
    "`MaxMarginalRelevanceExampleSelector` 通过MMR来选择示例\n",
    "\n",
    "- MMR是一种在信息检索中常用的方法，它的目标是在相关性和多样性之间找到一个平衡\n",
    "- MMR会首先找出与输入最相似（即余弦相似度最大）的样本\n",
    "- 然后在迭代添加样本的过程中，对于与已选择样本过于接fire近（即相似度过高）的样本进行惩罚\n",
    "- MMR既能确保选出的样本与输入高度相关，又能保证选出的样本之间有足够的多样性\n",
    "- 关注如何在相关性和多样性之间找到一个平衡\n",
    "它通过最大余弦相似度来查找。"
   ],
   "id": "d1385201ea0eeeeb"
  },
  {
   "metadata": {
    "ExecuteTime": {
     "end_time": "2024-06-26T16:07:54.761450Z",
     "start_time": "2024-06-26T16:07:52.513295Z"
    }
   },
   "cell_type": "code",
   "source": [
    "from langchain_chroma import Chroma\n",
    "from langchain_core.example_selectors import  MaxMarginalRelevanceExampleSelector\n",
    "from langchain_core.prompts import FewShotPromptTemplate\n",
    "from langchain_openai import OpenAIEmbeddings\n",
    "import langchain\n",
    "langchain.debug = True\n",
    "\n",
    "example_selector = MaxMarginalRelevanceExampleSelector.from_examples(\n",
    "    # The list of examples available to select from.\n",
    "    examples,\n",
    "    # The embedding class used to produce embeddings which are used to measure semantic similarity.\n",
    "    OpenAIEmbeddings(),\n",
    "    # The VectorStore class that is used to store the embeddings and do a similarity search over.\n",
    "    Chroma,\n",
    "    # The number of examples to produce.\n",
    "    k=2,\n",
    ")\n",
    "\n",
    "mmr_prompt = FewShotPromptTemplate(\n",
    "    # We provide an ExampleSelector instead of examples.\n",
    "    example_selector=example_selector,\n",
    "    example_prompt=example_prompt,\n",
    "    prefix=\"将英文翻译中文\",\n",
    "    suffix=\"Input: {word}\\nOutput:\",\n",
    "    input_variables=[\"word\"],\n",
    ")\n",
    "\n",
    "res = mmr_prompt.invoke({\"word\":\"hello\"})\n",
    "print(res.to_string())"
   ],
   "id": "546a1bfec707041b",
   "outputs": [
    {
     "name": "stdout",
     "output_type": "stream",
     "text": [
      "\u001B[32;1m\u001B[1;3m[chain/start]\u001B[0m \u001B[1m[prompt:FewShotPromptTemplate] Entering Prompt run with input:\n",
      "\u001B[0m{\n",
      "  \"word\": \"hello\"\n",
      "}\n"
     ]
    },
    {
     "name": "stderr",
     "output_type": "stream",
     "text": [
      "Number of requested results 20 is greater than number of elements in index 10, updating n_results = 10\n"
     ]
    },
    {
     "name": "stdout",
     "output_type": "stream",
     "text": [
      "\u001B[36;1m\u001B[1;3m[chain/end]\u001B[0m \u001B[1m[prompt:FewShotPromptTemplate] [649ms] Exiting Prompt run with output:\n",
      "\u001B[0m[outputs]\n",
      "将英文翻译中文\n",
      "\n",
      "\n",
      "Input: hi\n",
      "Output: 嘿\n",
      "\n",
      "\n",
      "Input: The selector allows for a threshold score to be set\n",
      "Output: 选择器允许设置阈值分数\n",
      "\n",
      "Input: hello\n",
      "Output:\n"
     ]
    }
   ],
   "execution_count": 7
  },
  {
   "metadata": {},
   "cell_type": "markdown",
   "source": [
    "## 使用 ngram 重叠来选择示例\n",
    "\n",
    "`NGramOverlapExampleSelector`使用根据ngram重叠得分来选择\n",
    "根据示例和输入之间的相似度来选择和排序示例，根据ngram重叠得分。 ngram重叠得分是一个介于0.0和1.0之间（包括边界）的浮点数。\n",
    "他允许设置阈值分数。分数小于或等于阈值的示例会被排除，默认情况下，阈值设置为-1.0，因此不会排除任何示例，只会重新排序它们。将阈值设置为0.0将排除与输入没有ngram重叠的示例。"
   ],
   "id": "cadc365003f635b3"
  },
  {
   "metadata": {
    "ExecuteTime": {
     "end_time": "2024-06-26T16:07:54.904419Z",
     "start_time": "2024-06-26T16:07:54.768720Z"
    }
   },
   "cell_type": "code",
   "source": [
    "from langchain_community.example_selectors import NGramOverlapExampleSelector\n",
    "\n",
    "example_selector = NGramOverlapExampleSelector(\n",
    "    # The examples it has available to choose from.\n",
    "    examples=examples,\n",
    "    # The PromptTemplate being used to format the examples.\n",
    "    example_prompt=example_prompt,\n",
    "    # The threshold, at which selector stops.\n",
    "    # It is set to -1.0 by default.\n",
    "    threshold=-1.0,\n",
    "    # For negative threshold:\n",
    "    # Selector sorts examples by ngram overlap score, and excludes none.\n",
    "    # For threshold greater than 1.0:\n",
    "    # Selector excludes all examples, and returns an empty list.\n",
    "    # For threshold equal to 0.0:\n",
    "    # Selector sorts examples by ngram overlap score,\n",
    "    # and excludes those with no ngram overlap with input.\n",
    ")\n",
    "dynamic_prompt = FewShotPromptTemplate(\n",
    "    # We provide an ExampleSelector instead of examples.\n",
    "    example_selector=example_selector,\n",
    "    example_prompt=example_prompt,\n",
    "    prefix=\"将英文翻译中文\",\n",
    "    suffix=\"Input: {word}\\nOutput:\",\n",
    "    input_variables=[\"word\"],\n",
    ")\n",
    "res = dynamic_prompt.invoke({\"word\":\"Setting the threshold to 0.0 will exclude examples that have no ngram overlaps with the input.\"})\n",
    "print(res.to_string())"
   ],
   "id": "22b75416cc11aa4d",
   "outputs": [
    {
     "name": "stdout",
     "output_type": "stream",
     "text": [
      "\u001B[32;1m\u001B[1;3m[chain/start]\u001B[0m \u001B[1m[prompt:FewShotPromptTemplate] Entering Prompt run with input:\n",
      "\u001B[0m{\n",
      "  \"word\": \"Setting the threshold to 0.0 will exclude examples that have no ngram overlaps with the input.\"\n",
      "}\n",
      "\u001B[36;1m\u001B[1;3m[chain/end]\u001B[0m \u001B[1m[prompt:FewShotPromptTemplate] [2ms] Exiting Prompt run with output:\n",
      "\u001B[0m[outputs]\n",
      "将英文翻译中文\n",
      "\n",
      "\n",
      "Input: Examples with an ngram overlap score less than or equal to the threshold are excluded.\n",
      "Output: 排除ngram重叠得分小于或等于阈值的示例。\n",
      "\n",
      "\n",
      "Input: The selector allows for a threshold score to be set\n",
      "Output: 选择器允许设置阈值分数\n",
      "\n",
      "\n",
      "Input: hi\n",
      "Output: 嘿\n",
      "\n",
      "\n",
      "Input: bye\n",
      "Output: 拜拜\n",
      "\n",
      "\n",
      "Input: soccer\n",
      "Output: 足球\n",
      "\n",
      "Input: Setting the threshold to 0.0 will exclude examples that have no ngram overlaps with the input.\n",
      "Output:\n"
     ]
    }
   ],
   "execution_count": 8
  },
  {
   "metadata": {},
   "cell_type": "markdown",
   "source": [
    "## 自定义示例选择器\n",
    "\n",
    "在自定义的时候需要继承`BaseExampleSelector`，并且重写`select_examples`方法。\n",
    "在下面中，根据单词的长度来选择要挑选哪个示例。"
   ],
   "id": "86529e14c98ef97e"
  },
  {
   "metadata": {
    "ExecuteTime": {
     "end_time": "2024-06-26T16:07:54.912012Z",
     "start_time": "2024-06-26T16:07:54.905767Z"
    }
   },
   "cell_type": "code",
   "source": [
    "from langchain_core.example_selectors.base import BaseExampleSelector\n",
    "\n",
    "\n",
    "class CustomExampleSelector(BaseExampleSelector):\n",
    "    def __init__(self, examples):\n",
    "        self.examples = examples\n",
    "\n",
    "    def add_example(self, example):\n",
    "        self.examples.append(example)\n",
    "\n",
    "    def select_examples(self, input_variables):\n",
    "        # This assumes knowledge that part of the input will be a 'text' key\n",
    "        new_word = input_variables[\"input\"]\n",
    "        new_word_length = len(new_word)\n",
    "\n",
    "        # Initialize variables to store the best match and its length difference\n",
    "        best_match = None\n",
    "        smallest_diff = float(\"inf\")\n",
    "\n",
    "        # Iterate through each example\n",
    "        for example in self.examples:\n",
    "            # Calculate the length difference with the first word of the example\n",
    "            current_diff = abs(len(example[\"input\"]) - new_word_length)\n",
    "\n",
    "            # Update the best match if the current one is closer in length\n",
    "            if current_diff < smallest_diff:\n",
    "                smallest_diff = current_diff\n",
    "                best_match = example\n",
    "\n",
    "        return [best_match]\n",
    "\n",
    "# 创建自定义选择器\n",
    "example_selector = CustomExampleSelector(examples)\n",
    "example_selector.select_examples({\"input\": \"okay\"})"
   ],
   "id": "43d49302db0a9186",
   "outputs": [
    {
     "data": {
      "text/plain": [
       "[{'input': 'bye', 'output': '拜拜'}]"
      ]
     },
     "execution_count": 9,
     "metadata": {},
     "output_type": "execute_result"
    }
   ],
   "execution_count": 9
  },
  {
   "metadata": {},
   "cell_type": "markdown",
   "source": "在添加一个示例",
   "id": "c3c54afec0d2f1d9"
  },
  {
   "metadata": {
    "ExecuteTime": {
     "end_time": "2024-06-26T16:07:54.918040Z",
     "start_time": "2024-06-26T16:07:54.913854Z"
    }
   },
   "cell_type": "code",
   "source": [
    "example_selector.add_example({\"input\": \"forward\", \"output\": \"前进的\"})\n",
    "example_selector.select_examples({\"input\": \"okay\"})"
   ],
   "id": "f9847ab1239e224e",
   "outputs": [
    {
     "data": {
      "text/plain": [
       "[{'input': 'bye', 'output': '拜拜'}]"
      ]
     },
     "execution_count": 10,
     "metadata": {},
     "output_type": "execute_result"
    }
   ],
   "execution_count": 10
  },
  {
   "metadata": {
    "ExecuteTime": {
     "end_time": "2024-06-26T16:07:54.925138Z",
     "start_time": "2024-06-26T16:07:54.919908Z"
    }
   },
   "cell_type": "code",
   "source": [
    "# 代入Prompt\n",
    "prompt = FewShotPromptTemplate(\n",
    "    example_selector=example_selector,\n",
    "    example_prompt=example_prompt,\n",
    "    prefix=\"将英文翻译中文\",\n",
    "    suffix=\"Input: {input}\\nOutput:\",\n",
    "    input_variables=[\"input\"]\n",
    ")\n",
    "res = prompt.invoke({\"input\":\"text\"})\n",
    "print(res.to_string())"
   ],
   "id": "3a76fe5d905c37d7",
   "outputs": [
    {
     "name": "stdout",
     "output_type": "stream",
     "text": [
      "\u001B[32;1m\u001B[1;3m[chain/start]\u001B[0m \u001B[1m[prompt:FewShotPromptTemplate] Entering Prompt run with input:\n",
      "\u001B[0m{\n",
      "  \"input\": \"text\"\n",
      "}\n",
      "\u001B[36;1m\u001B[1;3m[chain/end]\u001B[0m \u001B[1m[prompt:FewShotPromptTemplate] [1ms] Exiting Prompt run with output:\n",
      "\u001B[0m[outputs]\n",
      "将英文翻译中文\n",
      "\n",
      "\n",
      "Input: bye\n",
      "Output: 拜拜\n",
      "\n",
      "Input: text\n",
      "Output:\n"
     ]
    }
   ],
   "execution_count": 11
  },
  {
   "metadata": {},
   "cell_type": "markdown",
   "source": "到此，这一章结束了。",
   "id": "6b4a685de47e41fa"
  }
 ],
 "metadata": {
  "kernelspec": {
   "display_name": "Python 3",
   "language": "python",
   "name": "python3"
  },
  "language_info": {
   "codemirror_mode": {
    "name": "ipython",
    "version": 2
   },
   "file_extension": ".py",
   "mimetype": "text/x-python",
   "name": "python",
   "nbconvert_exporter": "python",
   "pygments_lexer": "ipython2",
   "version": "2.7.6"
  }
 },
 "nbformat": 4,
 "nbformat_minor": 5
}
