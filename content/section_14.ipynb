{
 "cells": [
  {
   "metadata": {},
   "cell_type": "markdown",
   "source": [
    "# Query analysis\n",
    "查询分析的意思是，将原始的查询通过llm来生成一些新的查询，将这些结果，套入retrieve中做检索。\n",
    "\n",
    "## 查询分析中增加一些示例\n",
    "\n",
    "随着查询变得复杂，模型在某些情况下，模型不太明确应该怎么回答问题，可以在提示中加一些例子引导llm\n",
    "### 先来个查询分析"
   ],
   "id": "617f3b43dd0205c7"
  },
  {
   "metadata": {
    "ExecuteTime": {
     "end_time": "2024-08-29T14:46:28.932490Z",
     "start_time": "2024-08-29T14:46:28.927857Z"
    }
   },
   "cell_type": "code",
   "source": [
    "from typing import List, Optional\n",
    "\n",
    "from langchain_core.pydantic_v1 import BaseModel, Field\n",
    "\n",
    "sub_queries_description = \"\"\"\n",
    "如果原始的问题包含了多个不同的子问题，或者可以变为更加通用的问题，回答这些问题有助于回答原始问题的话，\n",
    "需要写下这些相关子问题的列表\n",
    "要求：\n",
    "  1. 你要确保这些列表是全面的，涵盖了原始问题的所有部分\n",
    "  2. 允许子问题存在冗余，确保子问题要聚焦\n",
    "\"\"\"\n",
    "\n",
    "\n",
    "# 定义一个model。\n",
    "class Search(BaseModel):\n",
    "    \"\"\"搜索电影数据库\"\"\"\n",
    "\n",
    "    query: str = Field(\n",
    "        ...,\n",
    "        description=\"应用于电影的主要相似性搜索查询\",\n",
    "    )\n",
    "    sub_queries: List[str] = Field(\n",
    "        default_factory=list, description=sub_queries_description\n",
    "    )\n",
    "    publish_year: Optional[int] = Field(None, description=\"电影发布年份\")"
   ],
   "id": "334f5e91a065bac3",
   "outputs": [],
   "execution_count": 27
  },
  {
   "metadata": {
    "ExecuteTime": {
     "end_time": "2024-08-29T14:46:30.718610Z",
     "start_time": "2024-08-29T14:46:30.610826Z"
    }
   },
   "cell_type": "code",
   "source": [
    "## 定义查询的Chain\n",
    "\n",
    "from langchain_core.prompts import ChatPromptTemplate, MessagesPlaceholder\n",
    "from langchain_core.runnables import RunnablePassthrough\n",
    "from langchain_openai import ChatOpenAI\n",
    "\n",
    "system = \"\"\"您擅长将用户问题转换为数据库查询。\\\n",
    "您可以访问一个关于构建基于LLM的应用程序的电影视频数据库。\\\n",
    "给定一个问题，返回一组经过优化以检索最相关结果的数据库查询列表。\"\"\"\n",
    "\n",
    "prompt = ChatPromptTemplate.from_messages(\n",
    "    [\n",
    "        (\"system\", system),\n",
    "        MessagesPlaceholder(\"examples\", optional=True),\n",
    "        (\"human\", \"{question}\"),\n",
    "    ]\n",
    ")\n",
    "llm = ChatOpenAI(model=\"gpt-3.5-turbo-0125\", temperature=0)\n",
    "structured_llm = llm.with_structured_output(Search)\n",
    "query_analyzer = {\"question\": RunnablePassthrough()} | prompt | structured_llm"
   ],
   "id": "1ba2140bf2da9f55",
   "outputs": [],
   "execution_count": 28
  },
  {
   "metadata": {
    "ExecuteTime": {
     "end_time": "2024-08-29T14:46:35.015467Z",
     "start_time": "2024-08-29T14:46:32.295631Z"
    }
   },
   "cell_type": "code",
   "source": [
    "from langchain.globals import set_verbose,set_debug\n",
    "set_verbose(True)\n",
    "set_debug(True)\n",
    "query_analyzer.invoke(\n",
    "    \"Web Voyager和Reflection Agents之间有什么区别？它们都使用LangGraph吗？\"\n",
    ")"
   ],
   "id": "cfc8f1acc1b86b2e",
   "outputs": [
    {
     "name": "stdout",
     "output_type": "stream",
     "text": [
      "\u001B[32;1m\u001B[1;3m[chain/start]\u001B[0m \u001B[1m[chain:RunnableSequence] Entering Chain run with input:\n",
      "\u001B[0m{\n",
      "  \"input\": \"Web Voyager和Reflection Agents之间有什么区别？它们都使用LangGraph吗？\"\n",
      "}\n",
      "\u001B[32;1m\u001B[1;3m[chain/start]\u001B[0m \u001B[1m[chain:RunnableSequence > chain:RunnableParallel<question>] Entering Chain run with input:\n",
      "\u001B[0m{\n",
      "  \"input\": \"Web Voyager和Reflection Agents之间有什么区别？它们都使用LangGraph吗？\"\n",
      "}\n",
      "\u001B[32;1m\u001B[1;3m[chain/start]\u001B[0m \u001B[1m[chain:RunnableSequence > chain:RunnableParallel<question> > chain:RunnablePassthrough] Entering Chain run with input:\n",
      "\u001B[0m{\n",
      "  \"input\": \"Web Voyager和Reflection Agents之间有什么区别？它们都使用LangGraph吗？\"\n",
      "}\n",
      "\u001B[36;1m\u001B[1;3m[chain/end]\u001B[0m \u001B[1m[chain:RunnableSequence > chain:RunnableParallel<question> > chain:RunnablePassthrough] [1ms] Exiting Chain run with output:\n",
      "\u001B[0m{\n",
      "  \"output\": \"Web Voyager和Reflection Agents之间有什么区别？它们都使用LangGraph吗？\"\n",
      "}\n",
      "\u001B[36;1m\u001B[1;3m[chain/end]\u001B[0m \u001B[1m[chain:RunnableSequence > chain:RunnableParallel<question>] [2ms] Exiting Chain run with output:\n",
      "\u001B[0m{\n",
      "  \"question\": \"Web Voyager和Reflection Agents之间有什么区别？它们都使用LangGraph吗？\"\n",
      "}\n",
      "\u001B[32;1m\u001B[1;3m[chain/start]\u001B[0m \u001B[1m[chain:RunnableSequence > prompt:ChatPromptTemplate] Entering Prompt run with input:\n",
      "\u001B[0m{\n",
      "  \"question\": \"Web Voyager和Reflection Agents之间有什么区别？它们都使用LangGraph吗？\"\n",
      "}\n",
      "\u001B[36;1m\u001B[1;3m[chain/end]\u001B[0m \u001B[1m[chain:RunnableSequence > prompt:ChatPromptTemplate] [1ms] Exiting Prompt run with output:\n",
      "\u001B[0m[outputs]\n",
      "\u001B[32;1m\u001B[1;3m[llm/start]\u001B[0m \u001B[1m[chain:RunnableSequence > llm:ChatOpenAI] Entering LLM run with input:\n",
      "\u001B[0m{\n",
      "  \"prompts\": [\n",
      "    \"System: 您擅长将用户问题转换为数据库查询。您可以访问一个关于构建基于LLM的应用程序的电影视频数据库。给定一个问题，返回一组经过优化以检索最相关结果的数据库查询列表。\\nHuman: Web Voyager和Reflection Agents之间有什么区别？它们都使用LangGraph吗？\"\n",
      "  ]\n",
      "}\n",
      "\u001B[36;1m\u001B[1;3m[llm/end]\u001B[0m \u001B[1m[chain:RunnableSequence > llm:ChatOpenAI] [2.70s] Exiting LLM run with output:\n",
      "\u001B[0m{\n",
      "  \"generations\": [\n",
      "    [\n",
      "      {\n",
      "        \"text\": \"\",\n",
      "        \"generation_info\": {\n",
      "          \"finish_reason\": \"stop\",\n",
      "          \"logprobs\": null\n",
      "        },\n",
      "        \"type\": \"ChatGeneration\",\n",
      "        \"message\": {\n",
      "          \"lc\": 1,\n",
      "          \"type\": \"constructor\",\n",
      "          \"id\": [\n",
      "            \"langchain\",\n",
      "            \"schema\",\n",
      "            \"messages\",\n",
      "            \"AIMessage\"\n",
      "          ],\n",
      "          \"kwargs\": {\n",
      "            \"content\": \"\",\n",
      "            \"additional_kwargs\": {\n",
      "              \"tool_calls\": [\n",
      "                {\n",
      "                  \"id\": \"call_85sJ5GpZDsSp9oDztYzftied\",\n",
      "                  \"function\": {\n",
      "                    \"arguments\": \"{\\\"query\\\":\\\"区别: Web Voyager和Reflection Agents\\\",\\\"sub_queries\\\":[\\\"Web Voyager 使用 LangGraph 吗\\\",\\\"Reflection Agents 使用 LangGraph 吗\\\"]}\",\n",
      "                    \"name\": \"Search\",\n",
      "                    \"parameters\": null\n",
      "                  },\n",
      "                  \"type\": \"function\"\n",
      "                }\n",
      "              ]\n",
      "            },\n",
      "            \"response_metadata\": {\n",
      "              \"token_usage\": {\n",
      "                \"completion_tokens\": 31,\n",
      "                \"prompt_tokens\": 296,\n",
      "                \"total_tokens\": 327\n",
      "              },\n",
      "              \"model_name\": \"gpt-3.5-turbo-0125\",\n",
      "              \"system_fingerprint\": null,\n",
      "              \"finish_reason\": \"stop\",\n",
      "              \"logprobs\": null\n",
      "            },\n",
      "            \"type\": \"ai\",\n",
      "            \"id\": \"run-8a8d00a5-beab-4752-b73f-3a3390d86147-0\",\n",
      "            \"tool_calls\": [\n",
      "              {\n",
      "                \"name\": \"Search\",\n",
      "                \"args\": {\n",
      "                  \"query\": \"区别: Web Voyager和Reflection Agents\",\n",
      "                  \"sub_queries\": [\n",
      "                    \"Web Voyager 使用 LangGraph 吗\",\n",
      "                    \"Reflection Agents 使用 LangGraph 吗\"\n",
      "                  ]\n",
      "                },\n",
      "                \"id\": \"call_85sJ5GpZDsSp9oDztYzftied\"\n",
      "              }\n",
      "            ],\n",
      "            \"usage_metadata\": {\n",
      "              \"input_tokens\": 296,\n",
      "              \"output_tokens\": 31,\n",
      "              \"total_tokens\": 327\n",
      "            },\n",
      "            \"invalid_tool_calls\": []\n",
      "          }\n",
      "        }\n",
      "      }\n",
      "    ]\n",
      "  ],\n",
      "  \"llm_output\": {\n",
      "    \"token_usage\": {\n",
      "      \"completion_tokens\": 31,\n",
      "      \"prompt_tokens\": 296,\n",
      "      \"total_tokens\": 327\n",
      "    },\n",
      "    \"model_name\": \"gpt-3.5-turbo-0125\",\n",
      "    \"system_fingerprint\": null\n",
      "  },\n",
      "  \"run\": null\n",
      "}\n",
      "\u001B[32;1m\u001B[1;3m[chain/start]\u001B[0m \u001B[1m[chain:RunnableSequence > parser:PydanticToolsParser] Entering Parser run with input:\n",
      "\u001B[0m[inputs]\n",
      "\u001B[36;1m\u001B[1;3m[chain/end]\u001B[0m \u001B[1m[chain:RunnableSequence > parser:PydanticToolsParser] [1ms] Exiting Parser run with output:\n",
      "\u001B[0m[outputs]\n",
      "\u001B[36;1m\u001B[1;3m[chain/end]\u001B[0m \u001B[1m[chain:RunnableSequence] [2.71s] Exiting Chain run with output:\n",
      "\u001B[0m[outputs]\n"
     ]
    },
    {
     "data": {
      "text/plain": [
       "Search(query='区别: Web Voyager和Reflection Agents', sub_queries=['Web Voyager 使用 LangGraph 吗', 'Reflection Agents 使用 LangGraph 吗'], publish_year=None)"
      ]
     },
     "execution_count": 29,
     "metadata": {},
     "output_type": "execute_result"
    }
   ],
   "execution_count": 29
  },
  {
   "metadata": {},
   "cell_type": "markdown",
   "source": [
    "可以看到。从用户的输入中已经提取出了问题。并且拓展出了一些子问题，但是这些问题覆盖的面不够，增加example来帮助生成更好的问题。\n",
    "### 在prompt中增加一些示例\n",
    "\n",
    "为了提高性能，增加一些example"
   ],
   "id": "7f8748c65c64fd2b"
  },
  {
   "metadata": {
    "ExecuteTime": {
     "end_time": "2024-08-29T14:46:35.019312Z",
     "start_time": "2024-08-29T14:46:35.016749Z"
    }
   },
   "cell_type": "code",
   "source": [
    "examples = []\n",
    "question = \"langchain是什么，它是一个langchain模板吗?\"\n",
    "query = Search(\n",
    "    query=\"langchain是什么，它是一个langchain模板吗?\",\n",
    "    sub_queries=[\"langchain是什么\", \"langchain template是什么\"],\n",
    ")\n",
    "examples.append({\"input\": question, \"tool_calls\": [query]})"
   ],
   "id": "addf9c2beeb284be",
   "outputs": [],
   "execution_count": 30
  },
  {
   "metadata": {
    "ExecuteTime": {
     "end_time": "2024-08-29T14:46:36.113544Z",
     "start_time": "2024-08-29T14:46:36.109637Z"
    }
   },
   "cell_type": "code",
   "source": [
    "question = \"如何构建多智能体系统并从中流式传输中间步骤\"\n",
    "query = Search(\n",
    "    query=\"如何构建多智能体系统并从中流式传输中间步骤\",\n",
    "    sub_queries=[\n",
    "        \"如何构建多智能体系统\",\n",
    "        \"如何从多智能体系统中流式传输中间步骤\",\n",
    "        \"如何流式传输中间步骤\",\n",
    "    ],\n",
    ")\n",
    "\n",
    "examples.append({\"input\": question, \"tool_calls\": [query]})"
   ],
   "id": "ad59c5e35aecc15",
   "outputs": [],
   "execution_count": 31
  },
  {
   "metadata": {
    "ExecuteTime": {
     "end_time": "2024-08-29T14:46:37.665689Z",
     "start_time": "2024-08-29T14:46:37.662512Z"
    }
   },
   "cell_type": "code",
   "source": [
    "question = \"LangChain agents vs LangGraph?\"\n",
    "query = Search(\n",
    "    query=\"LangChain的agent和LangGraph有什么不同，如何部署他们呢\",\n",
    "    sub_queries=[\n",
    "        \"LangChain的agent是什么？\",\n",
    "        \"LangGraph是什么？\",\n",
    "        \"如何部署LangChain的agent？\",\n",
    "        \"如何部署LangGraph？\",\n",
    "    ],\n",
    ")\n",
    "examples.append({\"input\": question, \"tool_calls\": [query]})"
   ],
   "id": "e6a9a5830db712c1",
   "outputs": [],
   "execution_count": 32
  },
  {
   "metadata": {},
   "cell_type": "markdown",
   "source": "上面已经构建好了示例，下面需要将他组装在prompt中",
   "id": "e578a47be7b5e2a3"
  },
  {
   "metadata": {
    "ExecuteTime": {
     "end_time": "2024-08-29T14:46:39.178074Z",
     "start_time": "2024-08-29T14:46:39.173439Z"
    }
   },
   "cell_type": "code",
   "source": [
    "import uuid\n",
    "from typing import Dict\n",
    "\n",
    "from langchain_core.messages import (\n",
    "    AIMessage,\n",
    "    BaseMessage,\n",
    "    HumanMessage,\n",
    "    SystemMessage,\n",
    "    ToolMessage,\n",
    ")\n",
    "\n",
    "\n",
    "def tool_example_to_messages(example: Dict) -> List[BaseMessage]:\n",
    "    messages = [HumanMessage(content=example[\"input\"])]\n",
    "    openai_tool_calls = []\n",
    "    for tool_call in example[\"tool_calls\"]:\n",
    "        openai_tool_calls.append(\n",
    "            {\n",
    "                \"id\": str(uuid.uuid4()),\n",
    "                \"type\": \"function\",\n",
    "                \"function\": {\n",
    "                    \"name\": tool_call.__class__.__name__,\n",
    "                    \"arguments\": tool_call.json(),\n",
    "                },\n",
    "            }\n",
    "        )\n",
    "    messages.append(\n",
    "        AIMessage(content=\"\", additional_kwargs={\"tool_calls\": openai_tool_calls})\n",
    "    )\n",
    "    tool_outputs = example.get(\"tool_outputs\") or [\n",
    "        \"You have correctly called this tool.\"\n",
    "    ] * len(openai_tool_calls)\n",
    "    for output, tool_call in zip(tool_outputs, openai_tool_calls):\n",
    "        messages.append(ToolMessage(content=output, tool_call_id=tool_call[\"id\"]))\n",
    "    return messages"
   ],
   "id": "d0fb649c49842ce6",
   "outputs": [],
   "execution_count": 33
  },
  {
   "metadata": {
    "ExecuteTime": {
     "end_time": "2024-08-29T14:46:42.412907Z",
     "start_time": "2024-08-29T14:46:42.409138Z"
    }
   },
   "cell_type": "code",
   "source": "tool_example_to_messages(examples[0])",
   "id": "6d0e770669bdbeee",
   "outputs": [
    {
     "data": {
      "text/plain": [
       "[HumanMessage(content='langchain是什么，它是一个langchain模板吗?'),\n",
       " AIMessage(content='', additional_kwargs={'tool_calls': [{'id': '88e8e325-a1a4-4a07-a17f-f2b2200de1d8', 'type': 'function', 'function': {'name': 'Search', 'arguments': '{\"query\": \"langchain\\\\u662f\\\\u4ec0\\\\u4e48\\\\uff0c\\\\u5b83\\\\u662f\\\\u4e00\\\\u4e2alangchain\\\\u6a21\\\\u677f\\\\u5417?\", \"sub_queries\": [\"langchain\\\\u662f\\\\u4ec0\\\\u4e48\", \"langchain template\\\\u662f\\\\u4ec0\\\\u4e48\"], \"publish_year\": null}'}}]}, tool_calls=[{'name': 'Search', 'args': {'query': 'langchain是什么，它是一个langchain模板吗?', 'sub_queries': ['langchain是什么', 'langchain template是什么'], 'publish_year': None}, 'id': '88e8e325-a1a4-4a07-a17f-f2b2200de1d8'}]),\n",
       " ToolMessage(content='You have correctly called this tool.', tool_call_id='88e8e325-a1a4-4a07-a17f-f2b2200de1d8')]"
      ]
     },
     "execution_count": 34,
     "metadata": {},
     "output_type": "execute_result"
    }
   ],
   "execution_count": 34
  },
  {
   "metadata": {},
   "cell_type": "markdown",
   "source": "带入一个example看，一个example生成了三个message，这代表一次完整的响应，首先，HumanMessage代表人问AI的问题，AIMessage代表AI需要调用 Search工具，ToolMessage 代表工具的输出。",
   "id": "5aa6f3fd2c9ebe5b"
  },
  {
   "metadata": {
    "ExecuteTime": {
     "end_time": "2024-08-29T14:46:44.011531Z",
     "start_time": "2024-08-29T14:46:44.008374Z"
    }
   },
   "cell_type": "code",
   "source": [
    "# 现在生成了示例的prompt\n",
    "example_msgs = [msg for ex in examples for msg in tool_example_to_messages(ex)]"
   ],
   "id": "3f9c59123dbd547",
   "outputs": [],
   "execution_count": 35
  },
  {
   "metadata": {
    "ExecuteTime": {
     "end_time": "2024-08-29T14:46:45.093808Z",
     "start_time": "2024-08-29T14:46:45.090620Z"
    }
   },
   "cell_type": "code",
   "source": [
    "# 下面只需要将所有的链接在一起就好了\n",
    "query_analyzer_with_examples = (\n",
    "    {\"question\": RunnablePassthrough()}\n",
    "    | prompt.partial(examples=example_msgs)\n",
    "    | structured_llm\n",
    ")"
   ],
   "id": "47256019a2a4ea6b",
   "outputs": [],
   "execution_count": 36
  },
  {
   "metadata": {
    "ExecuteTime": {
     "end_time": "2024-08-29T14:46:50.555627Z",
     "start_time": "2024-08-29T14:46:46.683037Z"
    }
   },
   "cell_type": "code",
   "source": [
    "from langchain.globals import set_debug\n",
    "set_debug(True)\n",
    "query_analyzer_with_examples.invoke(\n",
    "    \"刘德华和吴彦祖，到底谁帅呢？谁是彦祖呢？\"\n",
    ")"
   ],
   "id": "e5a69e01cbbc9b62",
   "outputs": [
    {
     "name": "stdout",
     "output_type": "stream",
     "text": [
      "\u001B[32;1m\u001B[1;3m[chain/start]\u001B[0m \u001B[1m[chain:RunnableSequence] Entering Chain run with input:\n",
      "\u001B[0m{\n",
      "  \"input\": \"刘德华和吴彦祖，到底谁帅呢？谁是彦祖呢？\"\n",
      "}\n",
      "\u001B[32;1m\u001B[1;3m[chain/start]\u001B[0m \u001B[1m[chain:RunnableSequence > chain:RunnableParallel<question>] Entering Chain run with input:\n",
      "\u001B[0m{\n",
      "  \"input\": \"刘德华和吴彦祖，到底谁帅呢？谁是彦祖呢？\"\n",
      "}\n",
      "\u001B[32;1m\u001B[1;3m[chain/start]\u001B[0m \u001B[1m[chain:RunnableSequence > chain:RunnableParallel<question> > chain:RunnablePassthrough] Entering Chain run with input:\n",
      "\u001B[0m{\n",
      "  \"input\": \"刘德华和吴彦祖，到底谁帅呢？谁是彦祖呢？\"\n",
      "}\n",
      "\u001B[36;1m\u001B[1;3m[chain/end]\u001B[0m \u001B[1m[chain:RunnableSequence > chain:RunnableParallel<question> > chain:RunnablePassthrough] [1ms] Exiting Chain run with output:\n",
      "\u001B[0m{\n",
      "  \"output\": \"刘德华和吴彦祖，到底谁帅呢？谁是彦祖呢？\"\n",
      "}\n",
      "\u001B[36;1m\u001B[1;3m[chain/end]\u001B[0m \u001B[1m[chain:RunnableSequence > chain:RunnableParallel<question>] [2ms] Exiting Chain run with output:\n",
      "\u001B[0m{\n",
      "  \"question\": \"刘德华和吴彦祖，到底谁帅呢？谁是彦祖呢？\"\n",
      "}\n",
      "\u001B[32;1m\u001B[1;3m[chain/start]\u001B[0m \u001B[1m[chain:RunnableSequence > prompt:ChatPromptTemplate] Entering Prompt run with input:\n",
      "\u001B[0m{\n",
      "  \"question\": \"刘德华和吴彦祖，到底谁帅呢？谁是彦祖呢？\"\n",
      "}\n",
      "\u001B[36;1m\u001B[1;3m[chain/end]\u001B[0m \u001B[1m[chain:RunnableSequence > prompt:ChatPromptTemplate] [1ms] Exiting Prompt run with output:\n",
      "\u001B[0m[outputs]\n",
      "\u001B[32;1m\u001B[1;3m[llm/start]\u001B[0m \u001B[1m[chain:RunnableSequence > llm:ChatOpenAI] Entering LLM run with input:\n",
      "\u001B[0m{\n",
      "  \"prompts\": [\n",
      "    \"System: 您擅长将用户问题转换为数据库查询。您可以访问一个关于构建基于LLM的应用程序的电影视频数据库。给定一个问题，返回一组经过优化以检索最相关结果的数据库查询列表。\\nHuman: langchain是什么，它是一个langchain模板吗?\\nAI: \\nTool: You have correctly called this tool.\\nHuman: 如何构建多智能体系统并从中流式传输中间步骤\\nAI: \\nTool: You have correctly called this tool.\\nHuman: LangChain agents vs LangGraph?\\nAI: \\nTool: You have correctly called this tool.\\nHuman: 刘德华和吴彦祖，到底谁帅呢？谁是彦祖呢？\"\n",
      "  ]\n",
      "}\n",
      "\u001B[36;1m\u001B[1;3m[llm/end]\u001B[0m \u001B[1m[chain:RunnableSequence > llm:ChatOpenAI] [3.86s] Exiting LLM run with output:\n",
      "\u001B[0m{\n",
      "  \"generations\": [\n",
      "    [\n",
      "      {\n",
      "        \"text\": \"\",\n",
      "        \"generation_info\": {\n",
      "          \"finish_reason\": \"stop\",\n",
      "          \"logprobs\": null\n",
      "        },\n",
      "        \"type\": \"ChatGeneration\",\n",
      "        \"message\": {\n",
      "          \"lc\": 1,\n",
      "          \"type\": \"constructor\",\n",
      "          \"id\": [\n",
      "            \"langchain\",\n",
      "            \"schema\",\n",
      "            \"messages\",\n",
      "            \"AIMessage\"\n",
      "          ],\n",
      "          \"kwargs\": {\n",
      "            \"content\": \"\",\n",
      "            \"additional_kwargs\": {\n",
      "              \"tool_calls\": [\n",
      "                {\n",
      "                  \"id\": \"call_188dpxY0npXTJsjbr9wWQTDt\",\n",
      "                  \"function\": {\n",
      "                    \"arguments\": \"{\\\"query\\\":\\\"刘德华和吴彦祖谁更帅，吴彦祖是谁\\\",\\\"sub_queries\\\":[\\\"刘德华帅吗？\\\",\\\"吴彦祖帅吗？\\\",\\\"吴彦祖是谁？\\\"],\\\"publish_year\\\":null}\",\n",
      "                    \"name\": \"Search\",\n",
      "                    \"parameters\": null\n",
      "                  },\n",
      "                  \"type\": \"function\"\n",
      "                }\n",
      "              ]\n",
      "            },\n",
      "            \"response_metadata\": {\n",
      "              \"token_usage\": {\n",
      "                \"completion_tokens\": 73,\n",
      "                \"prompt_tokens\": 629,\n",
      "                \"total_tokens\": 702\n",
      "              },\n",
      "              \"model_name\": \"gpt-3.5-turbo-0125\",\n",
      "              \"system_fingerprint\": null,\n",
      "              \"finish_reason\": \"stop\",\n",
      "              \"logprobs\": null\n",
      "            },\n",
      "            \"type\": \"ai\",\n",
      "            \"id\": \"run-c1b94838-e9a3-4a6b-aff3-174cc539b626-0\",\n",
      "            \"tool_calls\": [\n",
      "              {\n",
      "                \"name\": \"Search\",\n",
      "                \"args\": {\n",
      "                  \"query\": \"刘德华和吴彦祖谁更帅，吴彦祖是谁\",\n",
      "                  \"sub_queries\": [\n",
      "                    \"刘德华帅吗？\",\n",
      "                    \"吴彦祖帅吗？\",\n",
      "                    \"吴彦祖是谁？\"\n",
      "                  ],\n",
      "                  \"publish_year\": null\n",
      "                },\n",
      "                \"id\": \"call_188dpxY0npXTJsjbr9wWQTDt\"\n",
      "              }\n",
      "            ],\n",
      "            \"usage_metadata\": {\n",
      "              \"input_tokens\": 629,\n",
      "              \"output_tokens\": 73,\n",
      "              \"total_tokens\": 702\n",
      "            },\n",
      "            \"invalid_tool_calls\": []\n",
      "          }\n",
      "        }\n",
      "      }\n",
      "    ]\n",
      "  ],\n",
      "  \"llm_output\": {\n",
      "    \"token_usage\": {\n",
      "      \"completion_tokens\": 73,\n",
      "      \"prompt_tokens\": 629,\n",
      "      \"total_tokens\": 702\n",
      "    },\n",
      "    \"model_name\": \"gpt-3.5-turbo-0125\",\n",
      "    \"system_fingerprint\": null\n",
      "  },\n",
      "  \"run\": null\n",
      "}\n",
      "\u001B[32;1m\u001B[1;3m[chain/start]\u001B[0m \u001B[1m[chain:RunnableSequence > parser:PydanticToolsParser] Entering Parser run with input:\n",
      "\u001B[0m[inputs]\n",
      "\u001B[36;1m\u001B[1;3m[chain/end]\u001B[0m \u001B[1m[chain:RunnableSequence > parser:PydanticToolsParser] [1ms] Exiting Parser run with output:\n",
      "\u001B[0m[outputs]\n",
      "\u001B[36;1m\u001B[1;3m[chain/end]\u001B[0m \u001B[1m[chain:RunnableSequence] [3.87s] Exiting Chain run with output:\n",
      "\u001B[0m[outputs]\n"
     ]
    },
    {
     "data": {
      "text/plain": [
       "Search(query='刘德华和吴彦祖谁更帅，吴彦祖是谁', sub_queries=['刘德华帅吗？', '吴彦祖帅吗？', '吴彦祖是谁？'], publish_year=None)"
      ]
     },
     "execution_count": 37,
     "metadata": {},
     "output_type": "execute_result"
    }
   ],
   "execution_count": 37
  },
  {
   "metadata": {},
   "cell_type": "markdown",
   "source": [
    "## 没有生成查询分析的情况改怎么处理\n",
    "\n",
    "这种情况下从本质上区分不了，根本原因是压根儿没有子问题，只能从代码上做考虑，解析Response如果有子问题就返回子问题，没有就返回原始的响应。在没有什么别的好的处理"
   ],
   "id": "f5656c07564329bc"
  },
  {
   "metadata": {
    "ExecuteTime": {
     "end_time": "2024-08-29T14:54:37.049729Z",
     "start_time": "2024-08-29T14:54:37.045159Z"
    }
   },
   "cell_type": "code",
   "source": [
    "from langchain_core.runnables import chain\n",
    "from langchain_core.output_parsers.openai_tools import PydanticToolsParser\n",
    "\n",
    "output_parser = PydanticToolsParser(tools=[Search])\n",
    "\n",
    "structured_llm = llm.bind_tools([Search])\n",
    "query_analyzer = {\"question\": RunnablePassthrough()} | prompt | structured_llm\n",
    "@chain\n",
    "def custom_chain(question):\n",
    "    response = query_analyzer.invoke(question)\n",
    "    if \"tool_calls\" in response.additional_kwargs:\n",
    "        query = output_parser.invoke(response)\n",
    "        # 这里可以做业务逻辑，比如在套入一个chain或者。。。\n",
    "        # Could add more logic - like another LLM call - here\n",
    "        print(\"*\" * 100)\n",
    "        return query\n",
    "    else:\n",
    "        return response"
   ],
   "id": "81675eba6c83972",
   "outputs": [],
   "execution_count": 45
  },
  {
   "metadata": {
    "ExecuteTime": {
     "end_time": "2024-08-29T14:56:24.426388Z",
     "start_time": "2024-08-29T14:56:22.591501Z"
    }
   },
   "cell_type": "code",
   "source": "custom_chain.invoke(\"where did Harrison Work\")",
   "id": "9b8322dc9f74a117",
   "outputs": [
    {
     "name": "stdout",
     "output_type": "stream",
     "text": [
      "\u001B[32;1m\u001B[1;3m[chain/start]\u001B[0m \u001B[1m[chain:custom_chain] Entering Chain run with input:\n",
      "\u001B[0m{\n",
      "  \"input\": \"where did Harrison Work\"\n",
      "}\n",
      "\u001B[32;1m\u001B[1;3m[chain/start]\u001B[0m \u001B[1m[chain:custom_chain > chain:RunnableSequence] Entering Chain run with input:\n",
      "\u001B[0m{\n",
      "  \"input\": \"where did Harrison Work\"\n",
      "}\n",
      "\u001B[32;1m\u001B[1;3m[chain/start]\u001B[0m \u001B[1m[chain:custom_chain > chain:RunnableSequence > chain:RunnableParallel<question>] Entering Chain run with input:\n",
      "\u001B[0m{\n",
      "  \"input\": \"where did Harrison Work\"\n",
      "}\n",
      "\u001B[32;1m\u001B[1;3m[chain/start]\u001B[0m \u001B[1m[chain:custom_chain > chain:RunnableSequence > chain:RunnableParallel<question> > chain:RunnablePassthrough] Entering Chain run with input:\n",
      "\u001B[0m{\n",
      "  \"input\": \"where did Harrison Work\"\n",
      "}\n",
      "\u001B[36;1m\u001B[1;3m[chain/end]\u001B[0m \u001B[1m[chain:custom_chain > chain:RunnableSequence > chain:RunnableParallel<question> > chain:RunnablePassthrough] [1ms] Exiting Chain run with output:\n",
      "\u001B[0m{\n",
      "  \"output\": \"where did Harrison Work\"\n",
      "}\n",
      "\u001B[36;1m\u001B[1;3m[chain/end]\u001B[0m \u001B[1m[chain:custom_chain > chain:RunnableSequence > chain:RunnableParallel<question>] [4ms] Exiting Chain run with output:\n",
      "\u001B[0m{\n",
      "  \"question\": \"where did Harrison Work\"\n",
      "}\n",
      "\u001B[32;1m\u001B[1;3m[chain/start]\u001B[0m \u001B[1m[chain:custom_chain > chain:RunnableSequence > prompt:ChatPromptTemplate] Entering Prompt run with input:\n",
      "\u001B[0m{\n",
      "  \"question\": \"where did Harrison Work\"\n",
      "}\n",
      "\u001B[36;1m\u001B[1;3m[chain/end]\u001B[0m \u001B[1m[chain:custom_chain > chain:RunnableSequence > prompt:ChatPromptTemplate] [1ms] Exiting Prompt run with output:\n",
      "\u001B[0m[outputs]\n",
      "\u001B[32;1m\u001B[1;3m[llm/start]\u001B[0m \u001B[1m[chain:custom_chain > chain:RunnableSequence > llm:ChatOpenAI] Entering LLM run with input:\n",
      "\u001B[0m{\n",
      "  \"prompts\": [\n",
      "    \"System: 您擅长将用户问题转换为数据库查询。您可以访问一个关于构建基于LLM的应用程序的电影视频数据库。给定一个问题，返回一组经过优化以检索最相关结果的数据库查询列表。\\nHuman: where did Harrison Work\"\n",
      "  ]\n",
      "}\n",
      "\u001B[36;1m\u001B[1;3m[llm/end]\u001B[0m \u001B[1m[chain:custom_chain > chain:RunnableSequence > llm:ChatOpenAI] [1.81s] Exiting LLM run with output:\n",
      "\u001B[0m{\n",
      "  \"generations\": [\n",
      "    [\n",
      "      {\n",
      "        \"text\": \"\",\n",
      "        \"generation_info\": {\n",
      "          \"finish_reason\": \"tool_calls\",\n",
      "          \"logprobs\": null\n",
      "        },\n",
      "        \"type\": \"ChatGeneration\",\n",
      "        \"message\": {\n",
      "          \"lc\": 1,\n",
      "          \"type\": \"constructor\",\n",
      "          \"id\": [\n",
      "            \"langchain\",\n",
      "            \"schema\",\n",
      "            \"messages\",\n",
      "            \"AIMessage\"\n",
      "          ],\n",
      "          \"kwargs\": {\n",
      "            \"content\": \"\",\n",
      "            \"additional_kwargs\": {\n",
      "              \"tool_calls\": [\n",
      "                {\n",
      "                  \"id\": \"call_lne733PJ2aiQ2GKnpc19SvNZ\",\n",
      "                  \"function\": {\n",
      "                    \"arguments\": \"{\\\"query\\\":\\\"Harrison Ford\\\",\\\"sub_queries\\\":[\\\"Where did Harrison Ford work?\\\"]}\",\n",
      "                    \"name\": \"Search\",\n",
      "                    \"parameters\": null\n",
      "                  },\n",
      "                  \"type\": \"function\"\n",
      "                }\n",
      "              ]\n",
      "            },\n",
      "            \"response_metadata\": {\n",
      "              \"token_usage\": {\n",
      "                \"completion_tokens\": 25,\n",
      "                \"prompt_tokens\": 268,\n",
      "                \"total_tokens\": 293\n",
      "              },\n",
      "              \"model_name\": \"gpt-3.5-turbo-0125\",\n",
      "              \"system_fingerprint\": null,\n",
      "              \"finish_reason\": \"tool_calls\",\n",
      "              \"logprobs\": null\n",
      "            },\n",
      "            \"type\": \"ai\",\n",
      "            \"id\": \"run-1e6edc3f-41d1-45bc-abd3-ec6ae207280f-0\",\n",
      "            \"tool_calls\": [\n",
      "              {\n",
      "                \"name\": \"Search\",\n",
      "                \"args\": {\n",
      "                  \"query\": \"Harrison Ford\",\n",
      "                  \"sub_queries\": [\n",
      "                    \"Where did Harrison Ford work?\"\n",
      "                  ]\n",
      "                },\n",
      "                \"id\": \"call_lne733PJ2aiQ2GKnpc19SvNZ\"\n",
      "              }\n",
      "            ],\n",
      "            \"usage_metadata\": {\n",
      "              \"input_tokens\": 268,\n",
      "              \"output_tokens\": 25,\n",
      "              \"total_tokens\": 293\n",
      "            },\n",
      "            \"invalid_tool_calls\": []\n",
      "          }\n",
      "        }\n",
      "      }\n",
      "    ]\n",
      "  ],\n",
      "  \"llm_output\": {\n",
      "    \"token_usage\": {\n",
      "      \"completion_tokens\": 25,\n",
      "      \"prompt_tokens\": 268,\n",
      "      \"total_tokens\": 293\n",
      "    },\n",
      "    \"model_name\": \"gpt-3.5-turbo-0125\",\n",
      "    \"system_fingerprint\": null\n",
      "  },\n",
      "  \"run\": null\n",
      "}\n",
      "\u001B[36;1m\u001B[1;3m[chain/end]\u001B[0m \u001B[1m[chain:custom_chain > chain:RunnableSequence] [1.82s] Exiting Chain run with output:\n",
      "\u001B[0m[outputs]\n",
      "\u001B[32;1m\u001B[1;3m[chain/start]\u001B[0m \u001B[1m[chain:custom_chain > parser:PydanticToolsParser] Entering Parser run with input:\n",
      "\u001B[0m[inputs]\n",
      "\u001B[36;1m\u001B[1;3m[chain/end]\u001B[0m \u001B[1m[chain:custom_chain > parser:PydanticToolsParser] [1ms] Exiting Parser run with output:\n",
      "\u001B[0m[outputs]\n",
      "****************************************************************************************************\n",
      "\u001B[36;1m\u001B[1;3m[chain/end]\u001B[0m \u001B[1m[chain:custom_chain] [1.83s] Exiting Chain run with output:\n",
      "\u001B[0m[outputs]\n"
     ]
    },
    {
     "data": {
      "text/plain": [
       "[Search(query='Harrison Ford', sub_queries=['Where did Harrison Ford work?'], publish_year=None)]"
      ]
     },
     "execution_count": 50,
     "metadata": {},
     "output_type": "execute_result"
    }
   ],
   "execution_count": 50
  },
  {
   "metadata": {
    "ExecuteTime": {
     "end_time": "2024-08-29T14:56:38.247413Z",
     "start_time": "2024-08-29T14:56:35.602196Z"
    }
   },
   "cell_type": "code",
   "source": "custom_chain.invoke(\"hi!\")",
   "id": "c9e39728976ef2d6",
   "outputs": [
    {
     "name": "stdout",
     "output_type": "stream",
     "text": [
      "\u001B[32;1m\u001B[1;3m[chain/start]\u001B[0m \u001B[1m[chain:custom_chain] Entering Chain run with input:\n",
      "\u001B[0m{\n",
      "  \"input\": \"hi!\"\n",
      "}\n",
      "\u001B[32;1m\u001B[1;3m[chain/start]\u001B[0m \u001B[1m[chain:custom_chain > chain:RunnableSequence] Entering Chain run with input:\n",
      "\u001B[0m{\n",
      "  \"input\": \"hi!\"\n",
      "}\n",
      "\u001B[32;1m\u001B[1;3m[chain/start]\u001B[0m \u001B[1m[chain:custom_chain > chain:RunnableSequence > chain:RunnableParallel<question>] Entering Chain run with input:\n",
      "\u001B[0m{\n",
      "  \"input\": \"hi!\"\n",
      "}\n",
      "\u001B[32;1m\u001B[1;3m[chain/start]\u001B[0m \u001B[1m[chain:custom_chain > chain:RunnableSequence > chain:RunnableParallel<question> > chain:RunnablePassthrough] Entering Chain run with input:\n",
      "\u001B[0m{\n",
      "  \"input\": \"hi!\"\n",
      "}\n",
      "\u001B[36;1m\u001B[1;3m[chain/end]\u001B[0m \u001B[1m[chain:custom_chain > chain:RunnableSequence > chain:RunnableParallel<question> > chain:RunnablePassthrough] [1ms] Exiting Chain run with output:\n",
      "\u001B[0m{\n",
      "  \"output\": \"hi!\"\n",
      "}\n",
      "\u001B[36;1m\u001B[1;3m[chain/end]\u001B[0m \u001B[1m[chain:custom_chain > chain:RunnableSequence > chain:RunnableParallel<question>] [4ms] Exiting Chain run with output:\n",
      "\u001B[0m{\n",
      "  \"question\": \"hi!\"\n",
      "}\n",
      "\u001B[32;1m\u001B[1;3m[chain/start]\u001B[0m \u001B[1m[chain:custom_chain > chain:RunnableSequence > prompt:ChatPromptTemplate] Entering Prompt run with input:\n",
      "\u001B[0m{\n",
      "  \"question\": \"hi!\"\n",
      "}\n",
      "\u001B[36;1m\u001B[1;3m[chain/end]\u001B[0m \u001B[1m[chain:custom_chain > chain:RunnableSequence > prompt:ChatPromptTemplate] [1ms] Exiting Prompt run with output:\n",
      "\u001B[0m[outputs]\n",
      "\u001B[32;1m\u001B[1;3m[llm/start]\u001B[0m \u001B[1m[chain:custom_chain > chain:RunnableSequence > llm:ChatOpenAI] Entering LLM run with input:\n",
      "\u001B[0m{\n",
      "  \"prompts\": [\n",
      "    \"System: 您擅长将用户问题转换为数据库查询。您可以访问一个关于构建基于LLM的应用程序的电影视频数据库。给定一个问题，返回一组经过优化以检索最相关结果的数据库查询列表。\\nHuman: hi!\"\n",
      "  ]\n",
      "}\n",
      "\u001B[36;1m\u001B[1;3m[llm/end]\u001B[0m \u001B[1m[chain:custom_chain > chain:RunnableSequence > llm:ChatOpenAI] [2.63s] Exiting LLM run with output:\n",
      "\u001B[0m{\n",
      "  \"generations\": [\n",
      "    [\n",
      "      {\n",
      "        \"text\": \"Hello! How can I assist you today?\",\n",
      "        \"generation_info\": {\n",
      "          \"finish_reason\": \"stop\",\n",
      "          \"logprobs\": null\n",
      "        },\n",
      "        \"type\": \"ChatGeneration\",\n",
      "        \"message\": {\n",
      "          \"lc\": 1,\n",
      "          \"type\": \"constructor\",\n",
      "          \"id\": [\n",
      "            \"langchain\",\n",
      "            \"schema\",\n",
      "            \"messages\",\n",
      "            \"AIMessage\"\n",
      "          ],\n",
      "          \"kwargs\": {\n",
      "            \"content\": \"Hello! How can I assist you today?\",\n",
      "            \"response_metadata\": {\n",
      "              \"token_usage\": {\n",
      "                \"completion_tokens\": 10,\n",
      "                \"prompt_tokens\": 266,\n",
      "                \"total_tokens\": 276\n",
      "              },\n",
      "              \"model_name\": \"gpt-3.5-turbo-0125\",\n",
      "              \"system_fingerprint\": null,\n",
      "              \"finish_reason\": \"stop\",\n",
      "              \"logprobs\": null\n",
      "            },\n",
      "            \"type\": \"ai\",\n",
      "            \"id\": \"run-2edeb9e6-d60e-44e2-bfbb-9aa068967732-0\",\n",
      "            \"usage_metadata\": {\n",
      "              \"input_tokens\": 266,\n",
      "              \"output_tokens\": 10,\n",
      "              \"total_tokens\": 276\n",
      "            },\n",
      "            \"tool_calls\": [],\n",
      "            \"invalid_tool_calls\": []\n",
      "          }\n",
      "        }\n",
      "      }\n",
      "    ]\n",
      "  ],\n",
      "  \"llm_output\": {\n",
      "    \"token_usage\": {\n",
      "      \"completion_tokens\": 10,\n",
      "      \"prompt_tokens\": 266,\n",
      "      \"total_tokens\": 276\n",
      "    },\n",
      "    \"model_name\": \"gpt-3.5-turbo-0125\",\n",
      "    \"system_fingerprint\": null\n",
      "  },\n",
      "  \"run\": null\n",
      "}\n",
      "\u001B[36;1m\u001B[1;3m[chain/end]\u001B[0m \u001B[1m[chain:custom_chain > chain:RunnableSequence] [2.64s] Exiting Chain run with output:\n",
      "\u001B[0m[outputs]\n",
      "\u001B[36;1m\u001B[1;3m[chain/end]\u001B[0m \u001B[1m[chain:custom_chain] [2.64s] Exiting Chain run with output:\n",
      "\u001B[0m[outputs]\n"
     ]
    },
    {
     "data": {
      "text/plain": [
       "AIMessage(content='Hello! How can I assist you today?', response_metadata={'token_usage': {'completion_tokens': 10, 'prompt_tokens': 266, 'total_tokens': 276}, 'model_name': 'gpt-3.5-turbo-0125', 'system_fingerprint': None, 'finish_reason': 'stop', 'logprobs': None}, id='run-2edeb9e6-d60e-44e2-bfbb-9aa068967732-0', usage_metadata={'input_tokens': 266, 'output_tokens': 10, 'total_tokens': 276})"
      ]
     },
     "execution_count": 51,
     "metadata": {},
     "output_type": "execute_result"
    }
   ],
   "execution_count": 51
  },
  {
   "metadata": {},
   "cell_type": "markdown",
   "source": "这里的思路是自己解析Response，如果有工具调用就走工具调用，然后就可以自己做逻辑，否则就直接返回",
   "id": "c97a61e21b6227ee"
  },
  {
   "metadata": {},
   "cell_type": "markdown",
   "source": [
    "## 处理多个查询\n",
    "\n",
    "有时，查询分析技术可能允许生成多个查询。在这些情况下，需要记住运行所有的查询，然后将结果合并。将展示一个简单的例子（使用模拟数据）来说明如何做到这一点。\n",
    "\n",
    "这里就是使用async，将上面的chain结合起来，自定义个chain"
   ],
   "id": "8da38032ae2fc398"
  },
  {
   "metadata": {
    "ExecuteTime": {
     "end_time": "2024-08-29T15:13:16.406434Z",
     "start_time": "2024-08-29T15:13:16.403543Z"
    }
   },
   "cell_type": "code",
   "source": [
    "set_debug(False)\n",
    "@chain\n",
    "async def custom_chain(question):\n",
    "    response = await query_analyzer.ainvoke(question)\n",
    "    docs = [response]\n",
    "    # for query in response.queries:\n",
    "    #     # 这里做一些额外的处理\n",
    "    #     # new_docs = await retriever.ainvoke(query)\n",
    "    #     docs.extend(\"new_docs\")\n",
    "    # # You probably want to think about reranking or deduplicating documents here\n",
    "    # # But that is a separate topic\n",
    "    return docs"
   ],
   "id": "f57283c800261508",
   "outputs": [],
   "execution_count": 58
  },
  {
   "metadata": {
    "ExecuteTime": {
     "end_time": "2024-08-29T15:13:19.511876Z",
     "start_time": "2024-08-29T15:13:17.709563Z"
    }
   },
   "cell_type": "code",
   "source": "await custom_chain.ainvoke(\"where did Harrison Work\")",
   "id": "1ca3174c9419fb1",
   "outputs": [
    {
     "data": {
      "text/plain": [
       "[AIMessage(content='', additional_kwargs={'tool_calls': [{'id': 'call_BhRUTWdBhhINAGuah3faaxqN', 'function': {'arguments': '{\"query\":\"Harrison Work\"}', 'name': 'Search'}, 'type': 'function'}]}, response_metadata={'token_usage': {'completion_tokens': 15, 'prompt_tokens': 268, 'total_tokens': 283}, 'model_name': 'gpt-3.5-turbo-0125', 'system_fingerprint': None, 'finish_reason': 'tool_calls', 'logprobs': None}, id='run-3a4a3e7e-f347-451b-84c5-1164c402b5e4-0', tool_calls=[{'name': 'Search', 'args': {'query': 'Harrison Work'}, 'id': 'call_BhRUTWdBhhINAGuah3faaxqN'}], usage_metadata={'input_tokens': 268, 'output_tokens': 15, 'total_tokens': 283})]"
      ]
     },
     "execution_count": 59,
     "metadata": {},
     "output_type": "execute_result"
    }
   ],
   "execution_count": 59
  },
  {
   "metadata": {
    "ExecuteTime": {
     "end_time": "2024-08-29T15:13:23.343497Z",
     "start_time": "2024-08-29T15:13:20.176382Z"
    }
   },
   "cell_type": "code",
   "source": "await custom_chain.ainvoke(\"where did Harrison and ankush Work\")",
   "id": "c0983eb671785319",
   "outputs": [
    {
     "data": {
      "text/plain": [
       "[AIMessage(content='', additional_kwargs={'tool_calls': [{'id': 'call_thnLQggH7i65wH5YtiRaCbgJ', 'function': {'arguments': '{\"query\": \"Workplace of Harrison\", \"sub_queries\": [\"Harrison\\'s workplace\"]}', 'name': 'Search', 'parameters': None}, 'type': 'function'}, {'id': 'call_lFar2Cjq9XYFVom2uc5Y4zDe', 'function': {'arguments': '{\"query\": \"Workplace of Ankush\", \"sub_queries\": [\"Ankush\\'s workplace\"]}', 'name': 'Search', 'parameters': None}, 'type': 'function'}]}, response_metadata={'token_usage': {'completion_tokens': 66, 'prompt_tokens': 271, 'total_tokens': 337}, 'model_name': 'gpt-3.5-turbo-0125', 'system_fingerprint': None, 'finish_reason': 'tool_calls', 'logprobs': None}, id='run-483f12b9-0e95-4898-9243-647f39105c7e-0', tool_calls=[{'name': 'Search', 'args': {'query': 'Workplace of Harrison', 'sub_queries': [\"Harrison's workplace\"]}, 'id': 'call_thnLQggH7i65wH5YtiRaCbgJ'}, {'name': 'Search', 'args': {'query': 'Workplace of Ankush', 'sub_queries': [\"Ankush's workplace\"]}, 'id': 'call_lFar2Cjq9XYFVom2uc5Y4zDe'}], usage_metadata={'input_tokens': 271, 'output_tokens': 66, 'total_tokens': 337})]"
      ]
     },
     "execution_count": 60,
     "metadata": {},
     "output_type": "execute_result"
    }
   ],
   "execution_count": 60
  },
  {
   "metadata": {},
   "cell_type": "markdown",
   "source": [
    "## 处理多个检索\n",
    "原理：他就是让生成的查询中返回了对应的key，从而找到对应的检索器，这样就可以做具体的检索了。"
   ],
   "id": "896fc76281d87b88"
  },
  {
   "metadata": {
    "ExecuteTime": {
     "end_time": "2024-08-29T15:22:14.694996Z",
     "start_time": "2024-08-29T15:22:11.872043Z"
    }
   },
   "cell_type": "code",
   "source": [
    "# 在chroma中添加一些数据\n",
    "\n",
    "from langchain_chroma import Chroma\n",
    "from langchain_openai import OpenAIEmbeddings\n",
    "from langchain_text_splitters import RecursiveCharacterTextSplitter\n",
    "\n",
    "texts = [\"Harrison worked at Kensho\"]\n",
    "embeddings = OpenAIEmbeddings(model=\"text-embedding-3-small\")\n",
    "vectorstore = Chroma.from_texts(texts, embeddings, collection_name=\"harrison\")\n",
    "retriever_harrison = vectorstore.as_retriever(search_kwargs={\"k\": 1})\n",
    "\n",
    "texts = [\"Ankush worked at Facebook\"]\n",
    "embeddings = OpenAIEmbeddings(model=\"text-embedding-3-small\")\n",
    "vectorstore = Chroma.from_texts(texts, embeddings, collection_name=\"ankush\")\n",
    "retriever_ankush = vectorstore.as_retriever(search_kwargs={\"k\": 1})"
   ],
   "id": "6a4414115727c6f3",
   "outputs": [],
   "execution_count": 62
  },
  {
   "metadata": {
    "ExecuteTime": {
     "end_time": "2024-08-29T15:23:30.360469Z",
     "start_time": "2024-08-29T15:23:30.356815Z"
    }
   },
   "cell_type": "code",
   "source": [
    "from typing import List, Optional\n",
    "\n",
    "from langchain_core.pydantic_v1 import BaseModel, Field\n",
    "\n",
    "\n",
    "class Search(BaseModel):\n",
    "    \"\"\"Search for information about a person.\"\"\"\n",
    "\n",
    "    query: str = Field(\n",
    "        ...,\n",
    "        description=\"Query to look up\",\n",
    "    )\n",
    "    person: str = Field(\n",
    "        ..., # 指定资料类型\n",
    "        description=\"Person to look things up for. Should be `HARRISON` or `ANKUSH`.\",\n",
    "    )"
   ],
   "id": "26f3b3600353ecfa",
   "outputs": [],
   "execution_count": 65
  },
  {
   "metadata": {
    "ExecuteTime": {
     "end_time": "2024-08-29T15:23:31.792053Z",
     "start_time": "2024-08-29T15:23:31.683694Z"
    }
   },
   "cell_type": "code",
   "source": [
    "from langchain_core.output_parsers.openai_tools import PydanticToolsParser\n",
    "from langchain_core.prompts import ChatPromptTemplate\n",
    "from langchain_core.runnables import RunnablePassthrough\n",
    "from langchain_openai import ChatOpenAI\n",
    "\n",
    "output_parser = PydanticToolsParser(tools=[Search])\n",
    "\n",
    "system = \"\"\"You have the ability to issue search queries to get information to help answer user information.\"\"\"\n",
    "prompt = ChatPromptTemplate.from_messages(\n",
    "    [\n",
    "        (\"system\", system),\n",
    "        (\"human\", \"{question}\"),\n",
    "    ]\n",
    ")\n",
    "llm = ChatOpenAI(model=\"gpt-3.5-turbo-0125\", temperature=0)\n",
    "structured_llm = llm.with_structured_output(Search)\n",
    "query_analyzer = {\"question\": RunnablePassthrough()} | prompt | structured_llm"
   ],
   "id": "3ad2968dc1d057d8",
   "outputs": [],
   "execution_count": 66
  },
  {
   "metadata": {
    "ExecuteTime": {
     "end_time": "2024-08-29T15:23:35.891868Z",
     "start_time": "2024-08-29T15:23:34.140040Z"
    }
   },
   "cell_type": "code",
   "source": "query_analyzer.invoke(\"where did Harrison Work\")",
   "id": "d460b39701863cdf",
   "outputs": [
    {
     "data": {
      "text/plain": [
       "Search(query='work history', person='HARRISON')"
      ]
     },
     "execution_count": 67,
     "metadata": {},
     "output_type": "execute_result"
    }
   ],
   "execution_count": 67
  },
  {
   "metadata": {
    "ExecuteTime": {
     "end_time": "2024-08-29T15:23:44.016088Z",
     "start_time": "2024-08-29T15:23:42.014702Z"
    }
   },
   "cell_type": "code",
   "source": "query_analyzer.invoke(\"where did ankush Work\")",
   "id": "c1a584924e11da77",
   "outputs": [
    {
     "data": {
      "text/plain": [
       "Search(query='work', person='ANKUSH')"
      ]
     },
     "execution_count": 68,
     "metadata": {},
     "output_type": "execute_result"
    }
   ],
   "execution_count": 68
  },
  {
   "metadata": {},
   "cell_type": "markdown",
   "source": "可以将person中的值和检索器结合起来",
   "id": "f80bc1c7293cecdf"
  },
  {
   "metadata": {
    "ExecuteTime": {
     "end_time": "2024-08-29T15:26:10.735814Z",
     "start_time": "2024-08-29T15:26:07.249025Z"
    }
   },
   "cell_type": "code",
   "source": [
    "retrievers = {\n",
    "    \"HARRISON\": retriever_harrison,\n",
    "    \"ANKUSH\": retriever_ankush,\n",
    "}\n",
    "@chain\n",
    "def custom_chain(question):\n",
    "    response = query_analyzer.invoke(question)\n",
    "    retriever = retrievers[response.person]\n",
    "    # 这里最终调用检索器来做操作\n",
    "    return retriever.invoke(response.query)\n",
    "# 这里\n",
    "custom_chain.invoke(\"where did Harrison Work\")"
   ],
   "id": "5c2daa430ae7ae7b",
   "outputs": [
    {
     "data": {
      "text/plain": [
       "[Document(page_content='Harrison worked at Kensho')]"
      ]
     },
     "execution_count": 69,
     "metadata": {},
     "output_type": "execute_result"
    }
   ],
   "execution_count": 69
  },
  {
   "metadata": {
    "ExecuteTime": {
     "end_time": "2024-08-29T15:26:16.056656Z",
     "start_time": "2024-08-29T15:26:12.922086Z"
    }
   },
   "cell_type": "code",
   "source": "custom_chain.invoke(\"where did ankush Work\")",
   "id": "226b80df9b254fc3",
   "outputs": [
    {
     "data": {
      "text/plain": [
       "[Document(page_content='Ankush worked at Facebook')]"
      ]
     },
     "execution_count": 70,
     "metadata": {},
     "output_type": "execute_result"
    }
   ],
   "execution_count": 70
  },
  {
   "metadata": {},
   "cell_type": "markdown",
   "source": [
    "## 构造filters\n",
    "\n",
    "langchan提供了方法，可以将查询拓展出来的结构转换为对应检索器的查询语句，比如es的查询语句，chroma的查询语句\n"
   ],
   "id": "7febd5afc75526f2"
  },
  {
   "metadata": {
    "ExecuteTime": {
     "end_time": "2024-08-29T15:31:22.443276Z",
     "start_time": "2024-08-29T15:31:22.403848Z"
    }
   },
   "cell_type": "code",
   "source": [
    "from typing import Optional\n",
    "\n",
    "from langchain.chains.query_constructor.ir import (\n",
    "    Comparator,\n",
    "    Comparison,\n",
    "    Operation,\n",
    "    Operator,\n",
    "    StructuredQuery,\n",
    ")\n",
    "from langchain_community.query_constructors.chroma import ChromaTranslator\n",
    "from langchain_community.query_constructors.elasticsearch import ElasticsearchTranslator\n",
    "from langchain_core.pydantic_v1 import BaseModel\n",
    "class Search(BaseModel):\n",
    "    query: str\n",
    "    start_year: Optional[int]\n",
    "    author: Optional[str]"
   ],
   "id": "4c5568fdbff7b520",
   "outputs": [],
   "execution_count": 71
  },
  {
   "metadata": {
    "ExecuteTime": {
     "end_time": "2024-08-29T15:31:24.172396Z",
     "start_time": "2024-08-29T15:31:24.169545Z"
    }
   },
   "cell_type": "code",
   "source": [
    "# 这里的query就可以通过前面的查询分析来做\n",
    "search_query = Search(query=\"RAG\", start_year=2022, author=\"LangChain\")"
   ],
   "id": "12fa31418a889991",
   "outputs": [],
   "execution_count": 72
  },
  {
   "metadata": {
    "ExecuteTime": {
     "end_time": "2024-08-29T15:33:04.333966Z",
     "start_time": "2024-08-29T15:33:04.330520Z"
    }
   },
   "cell_type": "code",
   "source": [
    "def construct_comparisons(query: Search):\n",
    "    comparisons = []\n",
    "    if query.start_year is not None:\n",
    "        comparisons.append(\n",
    "            Comparison(\n",
    "                comparator=Comparator.GT,\n",
    "                attribute=\"start_year\",\n",
    "                value=query.start_year,\n",
    "            )\n",
    "        )\n",
    "    if query.author is not None:\n",
    "        comparisons.append(\n",
    "            Comparison(\n",
    "                comparator=Comparator.EQ,\n",
    "                attribute=\"author\",\n",
    "                value=query.author,\n",
    "            )\n",
    "        )\n",
    "    return comparisons"
   ],
   "id": "9a8161626416d911",
   "outputs": [],
   "execution_count": 76
  },
  {
   "metadata": {
    "ExecuteTime": {
     "end_time": "2024-08-29T15:33:05.553406Z",
     "start_time": "2024-08-29T15:33:05.550602Z"
    }
   },
   "cell_type": "code",
   "source": "comparisons = construct_comparisons(search_query)",
   "id": "c4cbc333e2c2a226",
   "outputs": [],
   "execution_count": 77
  },
  {
   "metadata": {
    "ExecuteTime": {
     "end_time": "2024-08-29T15:33:06.728233Z",
     "start_time": "2024-08-29T15:33:06.725400Z"
    }
   },
   "cell_type": "code",
   "source": "_filter = Operation(operator=Operator.AND, arguments=comparisons)",
   "id": "682af9b1c69261c6",
   "outputs": [],
   "execution_count": 78
  },
  {
   "metadata": {},
   "cell_type": "markdown",
   "source": "到这里，都是langchain独立，自己提供的查询的filter语句",
   "id": "74c3e014a48f206e"
  },
  {
   "metadata": {
    "ExecuteTime": {
     "end_time": "2024-08-29T15:33:07.679595Z",
     "start_time": "2024-08-29T15:33:07.676189Z"
    }
   },
   "cell_type": "code",
   "source": [
    "# 转换为es\n",
    "ElasticsearchTranslator().visit_operation(_filter)"
   ],
   "id": "a3ec806379432731",
   "outputs": [
    {
     "data": {
      "text/plain": [
       "{'bool': {'must': [{'range': {'metadata.start_year': {'gt': 2022}}},\n",
       "   {'term': {'metadata.author.keyword': 'LangChain'}}]}}"
      ]
     },
     "execution_count": 79,
     "metadata": {},
     "output_type": "execute_result"
    }
   ],
   "execution_count": 79
  },
  {
   "metadata": {
    "ExecuteTime": {
     "end_time": "2024-08-29T15:33:41.944503Z",
     "start_time": "2024-08-29T15:33:41.941664Z"
    }
   },
   "cell_type": "code",
   "source": [
    "# 转换为 Chroma的语句\n",
    "ChromaTranslator().visit_operation(_filter)"
   ],
   "id": "34452bb35ec3d049",
   "outputs": [
    {
     "data": {
      "text/plain": [
       "{'$and': [{'start_year': {'$gt': 2022}}, {'author': {'$eq': 'LangChain'}}]}"
      ]
     },
     "execution_count": 80,
     "metadata": {},
     "output_type": "execute_result"
    }
   ],
   "execution_count": 80
  },
  {
   "metadata": {},
   "cell_type": "markdown",
   "source": [
    "## 和Retrieve的结合\n",
    "\n",
    "生成查询分析的时候可以和Retrieve结合，让模型生成的问题在既定范围之内，而不是随意发散，简单的处理方式将所有的值全部塞给模型，这样会导致，context过长，信息密度低，可以和Retrieve结合\n",
    "减少context的长度。"
   ],
   "id": "b2745bd7ae5198b0"
  },
  {
   "metadata": {
    "ExecuteTime": {
     "end_time": "2024-09-01T13:39:42.778592Z",
     "start_time": "2024-09-01T13:39:42.708197Z"
    }
   },
   "cell_type": "code",
   "source": [
    "from faker import Faker\n",
    "# 制造一些假数据\n",
    "fake = Faker()\n",
    "names = [fake.name() for _ in range(1000)]\n",
    "print(names[0])\n",
    "print(names[10])\n",
    "print(names[20])"
   ],
   "id": "3e0b11393fabbff4",
   "outputs": [
    {
     "name": "stdout",
     "output_type": "stream",
     "text": [
      "Andrea Rodriguez\n",
      "Jacob Diaz\n",
      "Darius Gates\n"
     ]
    }
   ],
   "execution_count": 3
  },
  {
   "metadata": {
    "ExecuteTime": {
     "end_time": "2024-09-01T13:40:22.290868Z",
     "start_time": "2024-09-01T13:40:21.559612Z"
    }
   },
   "cell_type": "code",
   "source": [
    "from langchain_core.pydantic_v1 import BaseModel, Field\n",
    "\n",
    "# 定义结构化输出\n",
    "class Search(BaseModel):\n",
    "    query: str\n",
    "    author: str\n",
    "    \n",
    "from langchain_core.prompts import ChatPromptTemplate\n",
    "from langchain_core.runnables import RunnablePassthrough\n",
    "from langchain_openai import ChatOpenAI\n",
    "\n",
    "# 写基础的base prompt\n",
    "system = \"\"\"Generate a relevant search query for a library system\"\"\"\n",
    "prompt = ChatPromptTemplate.from_messages(\n",
    "    [\n",
    "        (\"system\", system),\n",
    "        (\"human\", \"{question}\"),\n",
    "    ]\n",
    ")\n",
    "llm = ChatOpenAI(model=\"gpt-3.5-turbo-0125\", temperature=0)\n",
    "structured_llm = llm.with_structured_output(Search)\n",
    "query_analyzer = {\"question\": RunnablePassthrough()} | prompt | structured_llm"
   ],
   "id": "a6f465beacbf18c6",
   "outputs": [],
   "execution_count": 5
  },
  {
   "metadata": {
    "ExecuteTime": {
     "end_time": "2024-09-01T13:40:25.675241Z",
     "start_time": "2024-09-01T13:40:23.283166Z"
    }
   },
   "cell_type": "code",
   "source": "query_analyzer.invoke(\"what are books about aliens by Andrea Rodriguez\")",
   "id": "2c21c1f1bec9f04e",
   "outputs": [
    {
     "data": {
      "text/plain": [
       "Search(query='books about aliens', author='Andrea Rodriguez')"
      ]
     },
     "execution_count": 6,
     "metadata": {},
     "output_type": "execute_result"
    }
   ],
   "execution_count": 6
  },
  {
   "metadata": {},
   "cell_type": "markdown",
   "source": "注意看这里，有时候写的时候时候可能会写错，这里将错误的问题传递给llm，llm也会生成错误的答案，",
   "id": "5abbf8b02f20696"
  },
  {
   "metadata": {
    "ExecuteTime": {
     "end_time": "2024-09-01T13:40:47.591444Z",
     "start_time": "2024-09-01T13:40:45.434597Z"
    }
   },
   "cell_type": "code",
   "source": "query_analyzer.invoke(\"what are books about aliens by adrea Rodriguez\")",
   "id": "6e252e5ee8ef25d2",
   "outputs": [
    {
     "data": {
      "text/plain": [
       "Search(query='books about aliens', author='Adrea Rodriguez')"
      ]
     },
     "execution_count": 8,
     "metadata": {},
     "output_type": "execute_result"
    }
   ],
   "execution_count": 8
  },
  {
   "metadata": {},
   "cell_type": "markdown",
   "source": "简单的处理方式，将所有的数据在给大模型。这是最简单的方式，但是会导致context过长",
   "id": "4282e632fb351c82"
  },
  {
   "metadata": {
    "ExecuteTime": {
     "end_time": "2024-09-01T13:45:35.073897Z",
     "start_time": "2024-09-01T13:45:35.070794Z"
    }
   },
   "cell_type": "code",
   "source": [
    "\n",
    "system = \"\"\"Generate a relevant search query for a library system.\n",
    "\n",
    "`author` attribute MUST be one of:\n",
    "\n",
    "{authors}\n",
    "\n",
    "Do NOT hallucinate author name!\"\"\"\n",
    "base_prompt = ChatPromptTemplate.from_messages(\n",
    "    [\n",
    "        (\"system\", system),\n",
    "        (\"human\", \"{question}\"),\n",
    "    ]\n",
    ")\n",
    "prompt = base_prompt.partial(authors=\", \".join(names))"
   ],
   "id": "1697ce759744ff73",
   "outputs": [],
   "execution_count": 10
  },
  {
   "metadata": {
    "ExecuteTime": {
     "end_time": "2024-09-01T13:45:36.990279Z",
     "start_time": "2024-09-01T13:45:36.987937Z"
    }
   },
   "cell_type": "code",
   "source": "query_analyzer_all = {\"question\": RunnablePassthrough()} | prompt | structured_llm",
   "id": "5a7ae5f484273bef",
   "outputs": [],
   "execution_count": 11
  },
  {
   "metadata": {
    "ExecuteTime": {
     "end_time": "2024-09-01T13:45:56.803936Z",
     "start_time": "2024-09-01T13:45:54.452633Z"
    }
   },
   "cell_type": "code",
   "source": [
    "from langchain.globals import set_debug\n",
    "set_debug(True)\n",
    "query_analyzer_all.invoke(\"what are books about aliens by adrea Rodriguez\")"
   ],
   "id": "a0b3725082f7a99c",
   "outputs": [
    {
     "name": "stdout",
     "output_type": "stream",
     "text": [
      "\u001B[32;1m\u001B[1;3m[chain/start]\u001B[0m \u001B[1m[chain:RunnableSequence] Entering Chain run with input:\n",
      "\u001B[0m{\n",
      "  \"input\": \"what are books about aliens by adrea Rodriguez\"\n",
      "}\n",
      "\u001B[32;1m\u001B[1;3m[chain/start]\u001B[0m \u001B[1m[chain:RunnableSequence > chain:RunnableParallel<question>] Entering Chain run with input:\n",
      "\u001B[0m{\n",
      "  \"input\": \"what are books about aliens by adrea Rodriguez\"\n",
      "}\n",
      "\u001B[32;1m\u001B[1;3m[chain/start]\u001B[0m \u001B[1m[chain:RunnableSequence > chain:RunnableParallel<question> > chain:RunnablePassthrough] Entering Chain run with input:\n",
      "\u001B[0m{\n",
      "  \"input\": \"what are books about aliens by adrea Rodriguez\"\n",
      "}\n",
      "\u001B[36;1m\u001B[1;3m[chain/end]\u001B[0m \u001B[1m[chain:RunnableSequence > chain:RunnableParallel<question> > chain:RunnablePassthrough] [0ms] Exiting Chain run with output:\n",
      "\u001B[0m{\n",
      "  \"output\": \"what are books about aliens by adrea Rodriguez\"\n",
      "}\n",
      "\u001B[36;1m\u001B[1;3m[chain/end]\u001B[0m \u001B[1m[chain:RunnableSequence > chain:RunnableParallel<question>] [1ms] Exiting Chain run with output:\n",
      "\u001B[0m{\n",
      "  \"question\": \"what are books about aliens by adrea Rodriguez\"\n",
      "}\n",
      "\u001B[32;1m\u001B[1;3m[chain/start]\u001B[0m \u001B[1m[chain:RunnableSequence > prompt:ChatPromptTemplate] Entering Prompt run with input:\n",
      "\u001B[0m{\n",
      "  \"question\": \"what are books about aliens by adrea Rodriguez\"\n",
      "}\n",
      "\u001B[36;1m\u001B[1;3m[chain/end]\u001B[0m \u001B[1m[chain:RunnableSequence > prompt:ChatPromptTemplate] [1ms] Exiting Prompt run with output:\n",
      "\u001B[0m[outputs]\n",
      "\u001B[32;1m\u001B[1;3m[llm/start]\u001B[0m \u001B[1m[chain:RunnableSequence > llm:ChatOpenAI] Entering LLM run with input:\n",
      "\u001B[0m{\n",
      "  \"prompts\": [\n",
      "    \"System: Generate a relevant search query for a library system.\\n\\n`author` attribute MUST be one of:\\n\\nAndrea Rodriguez, Sandra Davis, Michael Howard, Charles Martinez, Jeremy Wright, Elizabeth Shepard, John Mcgee, Kevin Martin, Shawn Yang, Daniel Jones, Jacob Diaz, Katie Sanford, Jesse Nelson, Peter Collins, Michelle Collins, Ryan Jones, Vanessa Delgado, Karen Pratt, Pamela Mullen, Robert Vargas, Darius Gates, Michael Johnson, Walter Austin, Molly Byrd, Mark Foster, David Reynolds, Jeffrey Fleming, Stephen Santos, Jessica Dalton, Tamara Aguirre, Adam Gonzalez, Karen Hernandez, Devon Forbes, Jeff Dean, Jason Henderson, Ryan Lyons, Linda Nolan, Joseph Sanford DDS, Catherine Hale, Michelle Cameron, Mark Baird, Regina Morales, Alicia Carr, James Ali, Tristan Ware, Brian Tyler, James Sandoval, Heather Rogers, Patricia Cantrell, Erin Barnes, Richard Bright, Leroy Bryant, Luke Galvan, Timothy Ashley, Patrick Santana, Mr. Kevin Scott, Audrey Holmes, David Pearson, Alexandra Harrell, Isabel Coleman, Larry Webb, Stephen Estrada, Tracy Rodgers, Autumn Flores, Michelle Warren, Jason Hill, Gabriel Jackson, Kimberly Alvarez, Charles Thompson, Corey Curry, Maria Black, Troy Miller, Arthur Chandler, Becky Reynolds, Angela Johnson, Stephanie Santiago, Mary Nguyen, Lisa Ramirez, Donald Lester, Casey Freeman, John Brooks, Carrie Allen, Misty Torres, Michael Johnson, Megan Massey, Taylor Robinson, George Mccall, Brian Scott, Jeffrey Rios, Charles Garcia, Julian Rodriguez, Jennifer Lane, Heather Nguyen, Christine Davis, John Cooper, Matthew King, Katherine Boyer, Kelly Price, Donna Melton, Steven Thomas, Charles Tate, Whitney Silva, Bryan Mason, Karen Cook, Amber Pitts, Lawrence Patrick, Joel Ortiz, Heather Leach, Michelle Browning, Breanna Marquez, Michael Hunter, Stacy Sheppard, Jessica Martinez, Christopher Bell, Michael Griffin, Victor Sparks, Steven Johnson, Laura Vazquez, Christopher Kelly, Ellen Allison, Charles Campos, Wendy Anderson, Shane Hernandez, John Wong, John Duran, Douglas Sweeney, Kaitlyn Peterson, Mark Oliver, Marissa Anderson, Victoria Smith, Kenneth Williams, John Nelson, Katie Torres, Jason Abbott, Richard Myers, Nancy Hill, Dustin Gonzalez, Adam Ware, Melissa Davenport, Matthew Marquez PhD, Teresa Johnson, Heather Stephens, Amber Terry, Laura Graves, Steven Brown, Sheila Estes, Gary Sparks, Taylor Miller, Heather Garcia, Abigail Smith, Matthew Lee, Mrs. Rose Henry, Sara Noble, Janice Price, Sheryl Wang, Christina Tran, Frederick Turner, Connie Rollins, Douglas Hardy, Kelli Hampton, Raymond Sosa, Jonathan Castro, Michael Bradshaw, Keith Young, Daniel Richardson, Thomas Mccullough, David Davis, Alexandra Lopez, Jamie Smith, Kyle Ryan, Alexander Johnson, Adam Gibbs, Elizabeth Ortiz, Mary Raymond, Tonya Gutierrez, Miguel Anderson, Matthew Watson, Kevin Kelly, Holly Velasquez, Leslie Burke, Dennis Knight, Matthew Martin, Megan Brown, John Rojas, Mikayla Anderson, David Thomas, Thomas Lamb, Debbie Chang, Stuart Hunt, Dana Pittman, Carlos Wright MD, David Erickson, Ruben Franklin, Jerry Mann, Kylie Ruiz, Sharon Richards, Sandra Petersen, Nicole Pace, Mary Peterson, Sarah Flores, Chelsea Garrett, Cynthia Alvarado, Monica Lynch, Brian Clark, Lauren Wu, Stephanie Williams, Tyler Terry, Jerome Olson, Melissa Coffey, Alexandria Ramos, Amy French, Shaun Hall, Stephen Villa MD, Kevin Clarke, Gwendolyn Jennings, Loretta House, Kevin Winters, Amber Scott, Steven Petty, Joshua Johnson, Nicole Pena, Ann Carr, Sabrina Gibson, Gwendolyn Gray, Kathryn Fisher, Patrick Archer, Mark Bowen, Lucas Pena, Brian Church, Corey Alvarez, Taylor Hernandez, Jessica Dalton, Adam Williams, Michelle Berger, Mark Sosa, Mikayla Cook, Sylvia Jacobson, Kristin Gay, Susan Zimmerman, Kathleen Harrison, Christina Gutierrez, Dawn Smith, Jonathan Jones, Anna Herman, Roy Gray, Martin Alexander, Benjamin Garcia, Lisa Stevens, Shane Jimenez, Julia Webb, Daniel Watson, Stacey Baker, Jennifer Arnold, Michael Nguyen, Ryan Bowers, Randy Alexander, Dustin Davis, William Armstrong, Paul Sanchez, Laura Smith, Kevin Reynolds, Gregory Harris, Ms. Rebecca Le, Justin Wright, Rebekah Hart, Cindy Orr, Aaron Watson, Anna Jackson, Patricia Lowe, Joshua Johnson, Larry Mccoy, Sue Russell, Emily Yates, Jill Martin, Richard Herring, Joseph Huang, Christopher Brewer, Brenda Jackson, John Thompson, Keith Reynolds, Ryan Rojas, David Johnson, Heather Hawkins, Benjamin Eaton, Kenneth Dyer, Meredith Fuller, Thomas Hoffman, Lisa Rose, James Hall, Victor Johnson, Patricia Mitchell, Robert Sanders, Lori Mueller MD, William Hill, Ashley White, Michael Fisher, Christopher Cross, Michelle Ramos, Jeffrey Irwin, Jason Bender, Kathy Horton, Heather Simpson, Amanda Johnson, Brett Carter, Matthew Wells, Andrew Chang, Bryan Summers, James Valencia, Lindsey Jackson, Erika Alexander, Janice Caldwell, Kristin Anderson, Barbara Anderson, Dana Bennett, Daniel Mclaughlin, Mr. Jeremy Hall DDS, Theresa Miller, Miranda Ramos, Alicia Williams, Brian Meyer, Joseph Smith MD, Taylor Silva, Christina Butler MD, Autumn Miller, Zachary Sosa, Gregory Johnson, Christy Graham, Stephen Martinez, Ashley Green DVM, Vickie Gibson, Meghan Phillips, Deanna Stephens, Victoria Ford, Nicholas Payne, Duane Werner, Timothy Leach, Christine Simpson, Jon Singh, Thomas Thompson, Joe Martinez, Jaime Franco, Matthew Hoover, George Green, Adam Higgins, Patricia Estes, Bridget Clark, Victoria Campbell, Stephanie Park, Joshua Dominguez, Molly Perez, Nicholas Jackson, Tracey Welch, Jessica Bean, Todd Marshall, Patricia Russell, Tyler Mitchell, Bruce Edwards, Jose Stevenson, Jennifer Mcintosh, Madison Jackson, Maureen Martinez, Ryan Chapman, Raymond Delgado, Justin Martinez, Raymond Malone, Roy Dawson, Eric Velazquez, Dakota Russell, Brenda Watson, Christopher Gray, Tammy Thompson, Sharon Martinez, Jerry Baker, Dorothy Freeman, Regina Kim, Pamela Cook, Kathleen Frazier, Janice Mendez, Courtney Scott, Becky Murphy, Mark Riley, Samantha Patterson, Cory Brock, Michael Richardson, Gary Hunt, Ashley Smith MD, Tara Randolph, Brian Francis, Anthony Fernandez, Thomas Clark, Kathryn Rose, Mr. Daniel Kennedy, Steven Mitchell, Jamie Huber, Daniel Wong, Katherine Smith, Bianca Harmon, Barbara James, Jessica Gomez, Michelle Lopez, Kimberly Bowen, Jessica Turner, Jennifer Garcia, Mrs. Katherine Brooks, Mrs. Jennifer Allen MD, Penny Lee, James Dyer, Thomas Romero, Mark Melendez, Ryan Burton PhD, Danielle Martin, Christopher Thompson, Marie Hernandez, Timothy King, Mitchell Morris, Glenda Carr, Cassandra Davis, April Hill, Ronald Rogers, Cheryl Byrd, Mary Yang, Lauren Kim, Maria Warren, Thomas Lyons, William Yang, Ashley Garcia, Kathy Woods, Scott Oliver, Kenneth Mcintyre, Matthew Yang, Oscar Baker, Rebecca Cameron, Shirley Powell, Steven Chandler, Tammy Ryan, Jaime Oliver, Justin Brown, Kaitlin White, David Christian, Austin Young, Tonya Taylor, Kathy Wilcox, Zachary Barrera, Timothy Levine, Zachary Ramirez, Melissa Thomas, David May, Caitlin Koch DDS, Katie Lynch, Steven Lozano, Donald Benson MD, Samantha Butler, April Nielsen, Justin Wagner, Alicia Sanchez, Curtis Estrada, Christy Fields, Sean Mays, Barbara Stuart, Nicholas Lewis, Melanie Alvarado, Danielle Burton, Claire Jackson, Alexander Adkins, David Murphy, Amy Huber, Wendy Lawson, Karina Beltran, Jared Ruiz, Carol Ramos, Tina Taylor, Emily Rocha, Christina Bryant, Elizabeth Mcclain, Sarah Ochoa, Joshua Jensen, Rachel Hall, Rebecca Jones, Robert Woods, Justin Patel Jr., Paul Wright, Kimberly Hall, Albert Holden, Tiffany Ayers, Jennifer Johnson, Joshua Andersen, Kevin Casey, Joshua Grant, Dave Barry, Roger Livingston, Tyrone Davis, Nicole Wright, Jack Cole, Shannon Ellis, Thomas Page, James Robinson, Glen Miller, Douglas Jacobs, Elizabeth Walker, Robert Aguirre, Melanie Haynes, Carlos Newman, Robert Fields, Jeremy Collins, Jamie Benson DVM, Joseph Bender, Andrew Salazar, Andrea Jones, Ricardo Robinson, Christopher Hayden, Marissa Clark, Amber Flores, Amanda Dodson, Maureen Anthony, Michael Ballard, Austin Nunez, Allison Patel, Dr. Melissa Cunningham, Zoe Zuniga, Gregory Young, David Chen, Lauren Lyons, Michael Meadows, Alexis Massey, Valerie Mathews, Harold Fisher, Todd Vasquez, Edward Flores, Wendy Thompson, John Richardson, Derek Davis, Diana Phillips, Patricia Moody, Gerald Ward, Tanya Weiss, Christine Anderson, Ann Ward, Samantha Wilson, Heather Gilbert, Cynthia Smith MD, Alexandra Hawkins, Caitlin Aguilar, Gregg Butler, Thomas Waller, Russell Hubbard, Lindsay Lowe, Michele Rocha, Darrell Pace, Jack Ayala, Charlotte Murphy, Rebecca Pierce, Tara Ramirez, Linda Garrison, Ann Hill, Richard Webb, Ronald Paul, Emily Black, Kenneth Stevenson, Stephen Williams, Rebecca Benton, Wendy Cochran, Evan Thomas, Nicole Knight, Jody Perez, Donna Ashley, Amy Collins, Julie Bell, Pamela Porter, Alexander Montes Jr., Tina Perez, Michael Robinson, Elizabeth Gonzales, Miss Renee Dawson, Shane Gonzalez, Alejandro Spears, Dylan Bell, Cathy Kennedy, Raymond Obrien, Kara Bell, Cynthia Briggs, Daniel Dixon, Kenneth Garcia, Marie Harper, Ellen Drake, Maureen Rogers, Kristin Brennan, Sarah Martin, Kimberly Padilla MD, Jason Smith, Jose Alexander, Christopher Banks, Lindsey Brown, Patricia Bennett, Christina Hill, Kevin Miranda, Melissa Parker MD, Nina May, Kiara Jenkins, David Walker, David Gill, Brian Valencia, Michael Carr, Beth Arellano, Robert Quinn, Michael Walker, Samantha Bailey, Eric Blair, Ronald Taylor, Christine Ward, Frances Harris, Shane Smith, Barbara Silva, Tyler Skinner, Justin Potter, Stephanie Cain, Kim Pace, Ralph Conner, James White, Richard Myers, Brandon Smith, Shelley Ward, Shawn Hensley, Vincent Allen, Nicole Hanson, Erica Cooper, Roberta Nelson, Laura King, Alexandra Middleton, Heather Smith, Willie Moody, Peter Duncan, Ruben Carter, Samantha Goodman, Michelle Wagner, Alexandria Hendrix, Todd Keller, Ruth Nelson, Lindsey Ryan, Monique Williams, Travis Mcdonald, Robert Jackson, Sarah Lamb, Benjamin Rodriguez, Jeffrey Hughes, Gary Lawrence, Daniel Jones, Samuel Zuniga, Brian Hill, Timothy Fitzgerald, Timothy Golden, Luis Benson, Jeffrey Frederick, Ann Cooper, Wendy Wilson, Nicole Freeman, Sarah Wise, Nancy Jenkins, Kristin Vincent, Daniel Bishop, Alisha Martinez, Austin Bauer, Ryan Jacobson, Carlos Hernandez, Michael Campbell, Charles Everett, Sarah Walker, David Flores, Amy Holmes, Erica Oliver, Lisa Hernandez, Shawn Martinez, Lauren Hebert, Raven Rogers, Thomas Roberts, Taylor Martin, Angela Nichols, Angela Cummings, Steven Knapp, Julian Jones, Gary Reyes, Marissa Campbell, Charles Winters, Randy Evans, Tony Jimenez, Heather Jackson, Kenneth Hansen, Zachary Thompson, Kevin Haney, Ashley Thomas, Roberto Snyder, Jeremy Hill, Jack Castaneda, Rachel Meyer, Mariah Brooks, Sarah Odonnell, David Smith, Scott Lopez, Keith Phillips, Carlos Thompson, Tracy Ramirez, Donald Krueger, Shelly Smith, Sherri Salazar, Carolyn Aguilar, Tracy Smith, Jennifer Lewis, Dr. Cynthia Nelson, Carlos Lewis, Leslie Jones, Philip Jones, Julie Bryant, Justin Avila, Dalton Wade, Felicia Fowler, Jonathan Livingston, Audrey Hood, Stephanie Meyer, Kathryn Miller, Dr. Adrian Valenzuela, Alyssa Porter, Diana West, Parker Phillips, Samuel Davis, Dana Cooper, Benjamin Kelly, Matthew Aguirre, Ryan Guerra, Michelle Smith, Karen Gray, Jimmy Jennings, Denise Bonilla, Amanda Morales DVM, Stephen Davis, Brian Marshall, Jill Gonzales, Joanna Lee, Joseph Kelly, Brian Hernandez, Dennis Soto, David Lopez, Aaron Boyd, Amber Wagner, Lynn Martinez, Melissa Schmidt, Zachary Collins, Amber Thompson, Carl Allen, Paul Hayes, Robert Lowery, Erika Lyons, Tiffany Hines, April Wright, Jeffery Wilson, Eileen Phillips, Jessica Johnson, Lisa Warren, Heather Vaughn, Jacqueline Robinson, Scott Hill, Melissa Hahn, Ryan Lyons, Tracy Moyer, Dale Lee, Stacy Martin, Amy Brown, Marcus Herring, Karen Petersen DDS, Vanessa Smith, David Mathis, Katie Morrison, Diane Sharp, Amanda Price, Karl Navarro, Jessica Reed, Michele Herring, Douglas Lewis, Kathleen Johnson, Roger Kirby, Shannon Spears, Joel Lawrence Jr., William Dunn, Stephen Robertson, John Barker, Joseph Jenkins, Ashley Francis, Jonathan Rodriguez, Angela Williams DVM, Brittney Brown, Mark Matthews, Lisa Rivera, Aaron Camacho, Kimberly Anderson, Leslie Wade, Daniel Gordon, Teresa James, Tamara Hernandez, Melissa Watkins, Daniel Mccormick, Jill Williams, Jennifer Moreno, Tamara Rogers, Michael Nichols, Wesley Patrick, Jennifer Ali, Bridget Cuevas, Janet Williams MD, Brianna Henry, Alexis Mendez, Cole Conway, Marc Smith, Kathy Schultz, Robert Henderson, Shawn Perez, Olivia Anderson, Stephen Cohen, Alyssa Brooks, Melanie Holland, Eddie Pearson, Ana Perry PhD, Tyler White, Donna Santiago, Michael Rodriguez, Tyler Hickman, Katherine Gomez, Katherine Williams, Scott Landry, Rachael Bates, Leonard Cobb, Amanda Romero, Emily Carney DDS, Shawna Scott, Heather Chambers, Austin Waters, Thomas Kennedy, Brandon Simmons, Jennifer Kim, Brian Ray, Sharon Price, Ashley Cantu, Robert Tran, Ashley Green, Gabrielle Adams MD, Tammy Swanson, Richard Baker, Bethany Rivera, Erin Arroyo, Benjamin Reese, Ana Clayton, Melody Turner, Cory Bradford, Joshua Ward, Stephanie Nelson, Dominique Harris, James Silva, Melinda Byrd, Cindy Bowen, Charles Martin, Michael Walker, Lisa Carr, Angela Williams, Sarah Davis, Melissa Foster, Mark Baxter, Juan Jones, Alisha Price, Ruth Fisher, Patricia Rodriguez, Dawn Escobar, Timothy Simpson, Rose Young, Robert Peterson, Gina Hammond, Seth Torres, Cynthia Spencer, Connie Williams, Christopher Cobb, Jacob Sosa, Jimmy Vaughn, Shaun Kent, Lucas Bates, Cody Barnett, Christopher Burns, Tiffany Evans, Andrew Lopez, Marcia Gonzalez, Carlos Avery, Matthew Gomez, Crystal Anderson, Kenneth Smith, Michele Hernandez, Heather Berry, Dustin Brown, Robert Hernandez, Maria Smith, George Lawson, Sean Thomas, Anthony Hoffman, Jesus Schneider, Jennifer Martin, William Ritter, Aaron Harris, Tara Brown, Wendy Bowman, Ronnie Benitez, Wendy Jones, Eugene James, Kenneth Jones, Mark Lambert, Howard Cisneros, Amy Robbins, Rebecca Thompson, Albert Perkins, Patricia Ross, Daniel Schaefer, Amy Wright, Sarah Johnson, Rachel Cox, Christopher Henderson, Kimberly Nichols, Lance Chung Jr., Lisa Brown, Amanda Brooks, David Marshall, Daniel Reid, Bailey Reyes, Kathleen Johnson, Cheyenne Hernandez, Chelsea Wheeler, Kirk Smith, Jerome Landry, Ashley Duran, John Brooks, Adam Nelson, Andrea Fleming, Christopher Montgomery, Gregory Hardy, James Garrett, Vanessa Taylor, Angel Warren, Aaron Johnson, Shawn Morris, Anne Rosales, Matthew Brooks, Joseph Hale, Samantha Vang, Anthony Beard, Travis Richards, Stephen Hayes, Christopher Blevins, Kelsey Solis, Luis Sanchez, Erika Lee, Patricia Nelson, Joseph Campbell, Katie Sanchez, Brenda Watkins, Robert Mckenzie, Jessica Mcmillan, Melody Klein, Michael Ibarra, Lori Nguyen, Mary Mendoza, Eric Grant, Luis Mcdonald, Julia Campbell, Erin Hill, Shari Carlson, Stephen Roberts, Beth Wilson, Cory Burnett, Shawn Harvey, Jonathan Wong, Brent Newton, David Cruz, Clifford Ferguson, Kelly Smith, Michelle Wagner, Alison Jackson, Maria Andersen, Tina Johnson, Katie Watts, Joanna Mejia, Ashley Smith, Jessica Pham, Rebecca Everett, Tiffany Flores, Kathryn Garrett, Juan Ryan, Timothy Gilbert, Jason Bailey, Natasha Fletcher, Eugene Cook, Savannah Armstrong, Mark Salinas, Cynthia Blake, Christopher Morgan, Randy Nelson, Kelly Mcbride, Michael Lawson, Mark Mcguire\\n\\nDo NOT hallucinate author name!\\nHuman: what are books about aliens by adrea Rodriguez\"\n",
      "  ]\n",
      "}\n",
      "\u001B[36;1m\u001B[1;3m[llm/end]\u001B[0m \u001B[1m[chain:RunnableSequence > llm:ChatOpenAI] [2.34s] Exiting LLM run with output:\n",
      "\u001B[0m{\n",
      "  \"generations\": [\n",
      "    [\n",
      "      {\n",
      "        \"text\": \"\",\n",
      "        \"generation_info\": {\n",
      "          \"finish_reason\": \"stop\",\n",
      "          \"logprobs\": null\n",
      "        },\n",
      "        \"type\": \"ChatGeneration\",\n",
      "        \"message\": {\n",
      "          \"lc\": 1,\n",
      "          \"type\": \"constructor\",\n",
      "          \"id\": [\n",
      "            \"langchain\",\n",
      "            \"schema\",\n",
      "            \"messages\",\n",
      "            \"AIMessage\"\n",
      "          ],\n",
      "          \"kwargs\": {\n",
      "            \"content\": \"\",\n",
      "            \"additional_kwargs\": {\n",
      "              \"tool_calls\": [\n",
      "                {\n",
      "                  \"id\": \"call_2Grpq9G8uDdezOG6u5OaG9U3\",\n",
      "                  \"function\": {\n",
      "                    \"arguments\": \"{\\\"author\\\":\\\"Andrea Rodriguez\\\",\\\"query\\\":\\\"books about aliens\\\"}\",\n",
      "                    \"name\": \"Search\",\n",
      "                    \"parameters\": null\n",
      "                  },\n",
      "                  \"type\": \"function\"\n",
      "                }\n",
      "              ]\n",
      "            },\n",
      "            \"response_metadata\": {\n",
      "              \"token_usage\": {\n",
      "                \"completion_tokens\": 13,\n",
      "                \"prompt_tokens\": 3452,\n",
      "                \"total_tokens\": 3465\n",
      "              },\n",
      "              \"model_name\": \"gpt-3.5-turbo-0125\",\n",
      "              \"system_fingerprint\": null,\n",
      "              \"finish_reason\": \"stop\",\n",
      "              \"logprobs\": null\n",
      "            },\n",
      "            \"type\": \"ai\",\n",
      "            \"id\": \"run-ec359395-c4f0-4681-bf8d-862bed3e9c1f-0\",\n",
      "            \"tool_calls\": [\n",
      "              {\n",
      "                \"name\": \"Search\",\n",
      "                \"args\": {\n",
      "                  \"author\": \"Andrea Rodriguez\",\n",
      "                  \"query\": \"books about aliens\"\n",
      "                },\n",
      "                \"id\": \"call_2Grpq9G8uDdezOG6u5OaG9U3\"\n",
      "              }\n",
      "            ],\n",
      "            \"usage_metadata\": {\n",
      "              \"input_tokens\": 3452,\n",
      "              \"output_tokens\": 13,\n",
      "              \"total_tokens\": 3465\n",
      "            },\n",
      "            \"invalid_tool_calls\": []\n",
      "          }\n",
      "        }\n",
      "      }\n",
      "    ]\n",
      "  ],\n",
      "  \"llm_output\": {\n",
      "    \"token_usage\": {\n",
      "      \"completion_tokens\": 13,\n",
      "      \"prompt_tokens\": 3452,\n",
      "      \"total_tokens\": 3465\n",
      "    },\n",
      "    \"model_name\": \"gpt-3.5-turbo-0125\",\n",
      "    \"system_fingerprint\": null\n",
      "  },\n",
      "  \"run\": null\n",
      "}\n",
      "\u001B[32;1m\u001B[1;3m[chain/start]\u001B[0m \u001B[1m[chain:RunnableSequence > parser:PydanticToolsParser] Entering Parser run with input:\n",
      "\u001B[0m[inputs]\n",
      "\u001B[36;1m\u001B[1;3m[chain/end]\u001B[0m \u001B[1m[chain:RunnableSequence > parser:PydanticToolsParser] [1ms] Exiting Parser run with output:\n",
      "\u001B[0m[outputs]\n",
      "\u001B[36;1m\u001B[1;3m[chain/end]\u001B[0m \u001B[1m[chain:RunnableSequence] [2.34s] Exiting Chain run with output:\n",
      "\u001B[0m[outputs]\n"
     ]
    },
    {
     "data": {
      "text/plain": [
       "Search(query='books about aliens', author='Andrea Rodriguez')"
      ]
     },
     "execution_count": 13,
     "metadata": {},
     "output_type": "execute_result"
    }
   ],
   "execution_count": 13
  },
  {
   "metadata": {},
   "cell_type": "markdown",
   "source": [
    "将所有的数据，传递给大模型，这样再问他错误的问题的时候，他会自动修复 。\n",
    "还有一种方式是通过向量数据库搜索。在传递给模型之前先做一遍，先走一遍向量化搜索，这样可以保证有限的上下文 。"
   ],
   "id": "4adf42902c8120c6"
  },
  {
   "metadata": {
    "ExecuteTime": {
     "end_time": "2024-09-01T13:50:32.528279Z",
     "start_time": "2024-09-01T13:50:26.486876Z"
    }
   },
   "cell_type": "code",
   "source": [
    "from langchain_chroma import Chroma\n",
    "from langchain_openai import OpenAIEmbeddings\n",
    "\n",
    "embeddings = OpenAIEmbeddings(model=\"text-embedding-3-small\")\n",
    "# 构建向量数据库\n",
    "vectorstore = Chroma.from_texts(names, embeddings, collection_name=\"author_names\")"
   ],
   "id": "6505062273d4cbc",
   "outputs": [],
   "execution_count": 15
  },
  {
   "metadata": {
    "ExecuteTime": {
     "end_time": "2024-09-01T13:50:32.531151Z",
     "start_time": "2024-09-01T13:50:32.529324Z"
    }
   },
   "cell_type": "code",
   "source": [
    "# 从向量数据库中先做一遍筛选\n",
    "def select_names(question):\n",
    "    _docs = vectorstore.similarity_search(question, k=10)\n",
    "    _names = [d.page_content for d in _docs]\n",
    "    return \", \".join(_names)"
   ],
   "id": "6da19f043fced251",
   "outputs": [],
   "execution_count": 16
  },
  {
   "metadata": {
    "ExecuteTime": {
     "end_time": "2024-09-01T13:50:32.533429Z",
     "start_time": "2024-09-01T13:50:32.531726Z"
    }
   },
   "cell_type": "code",
   "source": [
    "create_prompt = {\n",
    "    \"question\": RunnablePassthrough(),\n",
    "    \"authors\": select_names,\n",
    "} | base_prompt"
   ],
   "id": "3600d6eb49d85d7",
   "outputs": [],
   "execution_count": 17
  },
  {
   "metadata": {
    "ExecuteTime": {
     "end_time": "2024-09-01T13:50:32.535778Z",
     "start_time": "2024-09-01T13:50:32.534449Z"
    }
   },
   "cell_type": "code",
   "source": "query_analyzer_select = create_prompt | structured_llm",
   "id": "ec469a83f3359a64",
   "outputs": [],
   "execution_count": 18
  },
  {
   "metadata": {
    "ExecuteTime": {
     "end_time": "2024-09-01T13:50:33.687557Z",
     "start_time": "2024-09-01T13:50:32.536170Z"
    }
   },
   "cell_type": "code",
   "source": "create_prompt.invoke(\"what are books by adrea Rodriguez\")",
   "id": "b2b1f7fd7176046c",
   "outputs": [
    {
     "name": "stdout",
     "output_type": "stream",
     "text": [
      "\u001B[32;1m\u001B[1;3m[chain/start]\u001B[0m \u001B[1m[chain:RunnableSequence] Entering Chain run with input:\n",
      "\u001B[0m{\n",
      "  \"input\": \"what are books by adrea Rodriguez\"\n",
      "}\n",
      "\u001B[32;1m\u001B[1;3m[chain/start]\u001B[0m \u001B[1m[chain:RunnableSequence > chain:RunnableParallel<question,authors>] Entering Chain run with input:\n",
      "\u001B[0m{\n",
      "  \"input\": \"what are books by adrea Rodriguez\"\n",
      "}\n",
      "\u001B[32;1m\u001B[1;3m[chain/start]\u001B[0m \u001B[1m[chain:RunnableSequence > chain:RunnableParallel<question,authors> > chain:RunnablePassthrough] Entering Chain run with input:\n",
      "\u001B[0m{\n",
      "  \"input\": \"what are books by adrea Rodriguez\"\n",
      "}\n",
      "\u001B[36;1m\u001B[1;3m[chain/end]\u001B[0m \u001B[1m[chain:RunnableSequence > chain:RunnableParallel<question,authors> > chain:RunnablePassthrough] [0ms] Exiting Chain run with output:\n",
      "\u001B[0m{\n",
      "  \"output\": \"what are books by adrea Rodriguez\"\n",
      "}\n",
      "\u001B[32;1m\u001B[1;3m[chain/start]\u001B[0m \u001B[1m[chain:RunnableSequence > chain:RunnableParallel<question,authors> > chain:select_names] Entering Chain run with input:\n",
      "\u001B[0m{\n",
      "  \"input\": \"what are books by adrea Rodriguez\"\n",
      "}\n",
      "\u001B[36;1m\u001B[1;3m[chain/end]\u001B[0m \u001B[1m[chain:RunnableSequence > chain:RunnableParallel<question,authors> > chain:select_names] [1.14s] Exiting Chain run with output:\n",
      "\u001B[0m{\n",
      "  \"output\": \"Andrea Rodriguez, Andrea Rodriguez, Jonathan Rodriguez, Jonathan Rodriguez, Patricia Rodriguez, Patricia Rodriguez, Michael Rodriguez, Michael Rodriguez, Andrea Jones, Andrea Jones\"\n",
      "}\n",
      "\u001B[36;1m\u001B[1;3m[chain/end]\u001B[0m \u001B[1m[chain:RunnableSequence > chain:RunnableParallel<question,authors>] [1.14s] Exiting Chain run with output:\n",
      "\u001B[0m{\n",
      "  \"question\": \"what are books by adrea Rodriguez\",\n",
      "  \"authors\": \"Andrea Rodriguez, Andrea Rodriguez, Jonathan Rodriguez, Jonathan Rodriguez, Patricia Rodriguez, Patricia Rodriguez, Michael Rodriguez, Michael Rodriguez, Andrea Jones, Andrea Jones\"\n",
      "}\n",
      "\u001B[32;1m\u001B[1;3m[chain/start]\u001B[0m \u001B[1m[chain:RunnableSequence > prompt:ChatPromptTemplate] Entering Prompt run with input:\n",
      "\u001B[0m{\n",
      "  \"question\": \"what are books by adrea Rodriguez\",\n",
      "  \"authors\": \"Andrea Rodriguez, Andrea Rodriguez, Jonathan Rodriguez, Jonathan Rodriguez, Patricia Rodriguez, Patricia Rodriguez, Michael Rodriguez, Michael Rodriguez, Andrea Jones, Andrea Jones\"\n",
      "}\n",
      "\u001B[36;1m\u001B[1;3m[chain/end]\u001B[0m \u001B[1m[chain:RunnableSequence > prompt:ChatPromptTemplate] [1ms] Exiting Prompt run with output:\n",
      "\u001B[0m[outputs]\n",
      "\u001B[36;1m\u001B[1;3m[chain/end]\u001B[0m \u001B[1m[chain:RunnableSequence] [1.14s] Exiting Chain run with output:\n",
      "\u001B[0m[outputs]\n"
     ]
    },
    {
     "data": {
      "text/plain": [
       "ChatPromptValue(messages=[SystemMessage(content='Generate a relevant search query for a library system.\\n\\n`author` attribute MUST be one of:\\n\\nAndrea Rodriguez, Andrea Rodriguez, Jonathan Rodriguez, Jonathan Rodriguez, Patricia Rodriguez, Patricia Rodriguez, Michael Rodriguez, Michael Rodriguez, Andrea Jones, Andrea Jones\\n\\nDo NOT hallucinate author name!'), HumanMessage(content='what are books by adrea Rodriguez')])"
      ]
     },
     "execution_count": 19,
     "metadata": {},
     "output_type": "execute_result"
    }
   ],
   "execution_count": 19
  },
  {
   "metadata": {},
   "cell_type": "markdown",
   "source": "这里可以看到传递给模型的prompt中已经有相关的答案了。",
   "id": "a5f0af2eb4c3fe0b"
  },
  {
   "metadata": {
    "ExecuteTime": {
     "end_time": "2024-09-01T13:51:28.207772Z",
     "start_time": "2024-09-01T13:51:24.541844Z"
    }
   },
   "cell_type": "code",
   "source": "query_analyzer_select.invoke(\"what are books about aliens by adrea Rodriguez\")",
   "id": "f8a55c728cbb3227",
   "outputs": [
    {
     "name": "stdout",
     "output_type": "stream",
     "text": [
      "\u001B[32;1m\u001B[1;3m[chain/start]\u001B[0m \u001B[1m[chain:RunnableSequence] Entering Chain run with input:\n",
      "\u001B[0m{\n",
      "  \"input\": \"what are books about aliens by adrea Rodriguez\"\n",
      "}\n",
      "\u001B[32;1m\u001B[1;3m[chain/start]\u001B[0m \u001B[1m[chain:RunnableSequence > chain:RunnableParallel<question,authors>] Entering Chain run with input:\n",
      "\u001B[0m{\n",
      "  \"input\": \"what are books about aliens by adrea Rodriguez\"\n",
      "}\n",
      "\u001B[32;1m\u001B[1;3m[chain/start]\u001B[0m \u001B[1m[chain:RunnableSequence > chain:RunnableParallel<question,authors> > chain:RunnablePassthrough] Entering Chain run with input:\n",
      "\u001B[0m{\n",
      "  \"input\": \"what are books about aliens by adrea Rodriguez\"\n",
      "}\n",
      "\u001B[36;1m\u001B[1;3m[chain/end]\u001B[0m \u001B[1m[chain:RunnableSequence > chain:RunnableParallel<question,authors> > chain:RunnablePassthrough] [1ms] Exiting Chain run with output:\n",
      "\u001B[0m{\n",
      "  \"output\": \"what are books about aliens by adrea Rodriguez\"\n",
      "}\n",
      "\u001B[32;1m\u001B[1;3m[chain/start]\u001B[0m \u001B[1m[chain:RunnableSequence > chain:RunnableParallel<question,authors> > chain:select_names] Entering Chain run with input:\n",
      "\u001B[0m{\n",
      "  \"input\": \"what are books about aliens by adrea Rodriguez\"\n",
      "}\n",
      "\u001B[36;1m\u001B[1;3m[chain/end]\u001B[0m \u001B[1m[chain:RunnableSequence > chain:RunnableParallel<question,authors> > chain:select_names] [1.20s] Exiting Chain run with output:\n",
      "\u001B[0m{\n",
      "  \"output\": \"Andrea Rodriguez, Andrea Rodriguez, Michael Rodriguez, Michael Rodriguez, Jonathan Rodriguez, Jonathan Rodriguez, Andrea Jones, Andrea Jones, Patricia Rodriguez, Patricia Rodriguez\"\n",
      "}\n",
      "\u001B[36;1m\u001B[1;3m[chain/end]\u001B[0m \u001B[1m[chain:RunnableSequence > chain:RunnableParallel<question,authors>] [1.20s] Exiting Chain run with output:\n",
      "\u001B[0m{\n",
      "  \"question\": \"what are books about aliens by adrea Rodriguez\",\n",
      "  \"authors\": \"Andrea Rodriguez, Andrea Rodriguez, Michael Rodriguez, Michael Rodriguez, Jonathan Rodriguez, Jonathan Rodriguez, Andrea Jones, Andrea Jones, Patricia Rodriguez, Patricia Rodriguez\"\n",
      "}\n",
      "\u001B[32;1m\u001B[1;3m[chain/start]\u001B[0m \u001B[1m[chain:RunnableSequence > prompt:ChatPromptTemplate] Entering Prompt run with input:\n",
      "\u001B[0m{\n",
      "  \"question\": \"what are books about aliens by adrea Rodriguez\",\n",
      "  \"authors\": \"Andrea Rodriguez, Andrea Rodriguez, Michael Rodriguez, Michael Rodriguez, Jonathan Rodriguez, Jonathan Rodriguez, Andrea Jones, Andrea Jones, Patricia Rodriguez, Patricia Rodriguez\"\n",
      "}\n",
      "\u001B[36;1m\u001B[1;3m[chain/end]\u001B[0m \u001B[1m[chain:RunnableSequence > prompt:ChatPromptTemplate] [1ms] Exiting Prompt run with output:\n",
      "\u001B[0m[outputs]\n",
      "\u001B[32;1m\u001B[1;3m[llm/start]\u001B[0m \u001B[1m[chain:RunnableSequence > llm:ChatOpenAI] Entering LLM run with input:\n",
      "\u001B[0m{\n",
      "  \"prompts\": [\n",
      "    \"System: Generate a relevant search query for a library system.\\n\\n`author` attribute MUST be one of:\\n\\nAndrea Rodriguez, Andrea Rodriguez, Michael Rodriguez, Michael Rodriguez, Jonathan Rodriguez, Jonathan Rodriguez, Andrea Jones, Andrea Jones, Patricia Rodriguez, Patricia Rodriguez\\n\\nDo NOT hallucinate author name!\\nHuman: what are books about aliens by adrea Rodriguez\"\n",
      "  ]\n",
      "}\n",
      "\u001B[36;1m\u001B[1;3m[llm/end]\u001B[0m \u001B[1m[chain:RunnableSequence > llm:ChatOpenAI] [2.45s] Exiting LLM run with output:\n",
      "\u001B[0m{\n",
      "  \"generations\": [\n",
      "    [\n",
      "      {\n",
      "        \"text\": \"\",\n",
      "        \"generation_info\": {\n",
      "          \"finish_reason\": \"stop\",\n",
      "          \"logprobs\": null\n",
      "        },\n",
      "        \"type\": \"ChatGeneration\",\n",
      "        \"message\": {\n",
      "          \"lc\": 1,\n",
      "          \"type\": \"constructor\",\n",
      "          \"id\": [\n",
      "            \"langchain\",\n",
      "            \"schema\",\n",
      "            \"messages\",\n",
      "            \"AIMessage\"\n",
      "          ],\n",
      "          \"kwargs\": {\n",
      "            \"content\": \"\",\n",
      "            \"additional_kwargs\": {\n",
      "              \"tool_calls\": [\n",
      "                {\n",
      "                  \"id\": \"call_LDLxdqWdzv8TcUfqq9saf3M9\",\n",
      "                  \"function\": {\n",
      "                    \"arguments\": \"{\\\"author\\\":\\\"Andrea Rodriguez\\\",\\\"query\\\":\\\"aliens\\\"}\",\n",
      "                    \"name\": \"Search\",\n",
      "                    \"parameters\": null\n",
      "                  },\n",
      "                  \"type\": \"function\"\n",
      "                }\n",
      "              ]\n",
      "            },\n",
      "            \"response_metadata\": {\n",
      "              \"token_usage\": {\n",
      "                \"completion_tokens\": 12,\n",
      "                \"prompt_tokens\": 114,\n",
      "                \"total_tokens\": 126\n",
      "              },\n",
      "              \"model_name\": \"gpt-3.5-turbo-0125\",\n",
      "              \"system_fingerprint\": null,\n",
      "              \"finish_reason\": \"stop\",\n",
      "              \"logprobs\": null\n",
      "            },\n",
      "            \"type\": \"ai\",\n",
      "            \"id\": \"run-56567bdd-d53f-4aa1-a4b3-d287612f714c-0\",\n",
      "            \"tool_calls\": [\n",
      "              {\n",
      "                \"name\": \"Search\",\n",
      "                \"args\": {\n",
      "                  \"author\": \"Andrea Rodriguez\",\n",
      "                  \"query\": \"aliens\"\n",
      "                },\n",
      "                \"id\": \"call_LDLxdqWdzv8TcUfqq9saf3M9\"\n",
      "              }\n",
      "            ],\n",
      "            \"usage_metadata\": {\n",
      "              \"input_tokens\": 114,\n",
      "              \"output_tokens\": 12,\n",
      "              \"total_tokens\": 126\n",
      "            },\n",
      "            \"invalid_tool_calls\": []\n",
      "          }\n",
      "        }\n",
      "      }\n",
      "    ]\n",
      "  ],\n",
      "  \"llm_output\": {\n",
      "    \"token_usage\": {\n",
      "      \"completion_tokens\": 12,\n",
      "      \"prompt_tokens\": 114,\n",
      "      \"total_tokens\": 126\n",
      "    },\n",
      "    \"model_name\": \"gpt-3.5-turbo-0125\",\n",
      "    \"system_fingerprint\": null\n",
      "  },\n",
      "  \"run\": null\n",
      "}\n",
      "\u001B[32;1m\u001B[1;3m[chain/start]\u001B[0m \u001B[1m[chain:RunnableSequence > parser:PydanticToolsParser] Entering Parser run with input:\n",
      "\u001B[0m[inputs]\n",
      "\u001B[36;1m\u001B[1;3m[chain/end]\u001B[0m \u001B[1m[chain:RunnableSequence > parser:PydanticToolsParser] [2ms] Exiting Parser run with output:\n",
      "\u001B[0m[outputs]\n",
      "\u001B[36;1m\u001B[1;3m[chain/end]\u001B[0m \u001B[1m[chain:RunnableSequence] [3.66s] Exiting Chain run with output:\n",
      "\u001B[0m[outputs]\n"
     ]
    },
    {
     "data": {
      "text/plain": [
       "Search(query='aliens', author='Andrea Rodriguez')"
      ]
     },
     "execution_count": 20,
     "metadata": {},
     "output_type": "execute_result"
    }
   ],
   "execution_count": 20
  }
 ],
 "metadata": {
  "kernelspec": {
   "display_name": "Python 3",
   "language": "python",
   "name": "python3"
  },
  "language_info": {
   "codemirror_mode": {
    "name": "ipython",
    "version": 2
   },
   "file_extension": ".py",
   "mimetype": "text/x-python",
   "name": "python",
   "nbconvert_exporter": "python",
   "pygments_lexer": "ipython2",
   "version": "2.7.6"
  }
 },
 "nbformat": 4,
 "nbformat_minor": 5
}
