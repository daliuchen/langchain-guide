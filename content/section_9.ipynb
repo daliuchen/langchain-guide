{
 "cells": [
  {
   "metadata": {},
   "cell_type": "markdown",
   "source": [
    "# LangChain的History的使用\n",
    "\n",
    "History是LangChain提供了一个保存对话历史的功能，LangChain的社区有很多的实现，他们都是基于`BaseChatMessageHistory`子类来拓展的，LangChain在`langchain_core`包中只实现了`InMemoryChatMessageHistory`。\n",
    "社区提供的如下:\n",
    "![](../resource/img_9.png)\n",
    "\n",
    "\n",
    "LangChain中memory和History的主要区别是：\n",
    "- Memory是用于在Chain的执行过程中存储和加载状态信息的抽象接口。\n",
    "- History是用于存储和管理对话历史消息的抽象接口。\n",
    "- memory是短时间的记忆，History是长时间的记忆。\n",
    "\n",
    "## InMemoryChatMessageHistory\n",
    "在内存中记录的对话历史"
   ],
   "id": "efacf50af4fee692"
  },
  {
   "metadata": {
    "ExecuteTime": {
     "end_time": "2024-07-11T13:31:57.762102Z",
     "start_time": "2024-07-11T13:31:53.858647Z"
    }
   },
   "cell_type": "code",
   "source": [
    "from langchain_core.chat_history import InMemoryChatMessageHistory\n",
    "from langchain_core.output_parsers import StrOutputParser\n",
    "from langchain_core.prompts import ChatPromptTemplate\n",
    "from langchain_core.runnables.history import RunnableWithMessageHistory\n",
    "from langchain_openai import ChatOpenAI\n",
    "import langchain\n",
    "\n",
    "langchain.debug=True\n",
    "\n",
    "prompt = ChatPromptTemplate.from_messages(\n",
    "    [\n",
    "        (\"system\", \"你是一个ai助手，基于下面的对话历史来回答问题\"),\n",
    "        (\"placeholder\", \"{chat_history}\"),\n",
    "        (\"human\", \"{input}\"),\n",
    "    ]\n",
    ")\n",
    "\n",
    "history = InMemoryChatMessageHistory()\n",
    "\n",
    "chain = prompt | ChatOpenAI() | StrOutputParser()\n",
    "\n",
    "wrapped_chain = RunnableWithMessageHistory(chain, lambda x: history)\n",
    "res = wrapped_chain.invoke(\n",
    "{\"input\": \"你是谁\"},\n",
    "config={\"configurable\": {\"session_id\": \"42\"}})\n",
    "wrapped_chain.invoke({\"input\": \"我刚才问你什么了？\"},config={\"configurable\": {\"session_id\": \"42\"}})"
   ],
   "id": "4287f885751ec7bc",
   "execution_count": 14,
   "outputs": []
  },
  {
   "metadata": {
    "ExecuteTime": {
     "end_time": "2024-07-11T13:32:14.929779Z",
     "start_time": "2024-07-11T13:32:14.926087Z"
    }
   },
   "cell_type": "code",
   "source": "history.messages",
   "id": "ea56d4305ec820e9",
   "execution_count": 15,
   "outputs": []
  },
  {
   "metadata": {},
   "cell_type": "markdown",
   "source": [
    "## RedisChatMessageHistory\n",
    "\n",
    "数据存放在redis中，需要引入redis,需要在本地先启动redis\n",
    "`RedisChatMessageHistory`在构建的时候需要链接信息，默认是`redis://localhost:6379/0`,key的前缀是`message_store`,存储的数据类型是`list`"
   ],
   "id": "13f3a37839bb226b"
  },
  {
   "metadata": {
    "ExecuteTime": {
     "end_time": "2024-07-11T13:55:10.387159Z",
     "start_time": "2024-07-11T13:55:10.381853Z"
    }
   },
   "cell_type": "code",
   "source": [
    "from langchain_community.chat_message_histories import RedisChatMessageHistory\n",
    "from langchain_core.output_parsers import StrOutputParser\n",
    "from langchain_core.prompts import ChatPromptTemplate\n",
    "from langchain_core.runnables.history import RunnableWithMessageHistory\n",
    "from langchain_openai import ChatOpenAI\n",
    "import langchain\n",
    "langchain.debug=True\n",
    "\n",
    "prompt = ChatPromptTemplate.from_messages(\n",
    "    [\n",
    "        (\"system\", \"你是一个ai助手，基于下面的对话历史来回答问题\"),\n",
    "        (\"placeholder\", \"{chat_history}\"),\n",
    "        (\"human\", \"{input}\"),\n",
    "    ]\n",
    ")\n",
    "history = RedisChatMessageHistory(session_id=\"42\")\n",
    "history.clear()"
   ],
   "id": "8cab204bbd4320f4",
   "execution_count": 2,
   "outputs": []
  },
  {
   "metadata": {
    "ExecuteTime": {
     "end_time": "2024-07-11T13:55:14.208146Z",
     "start_time": "2024-07-11T13:55:14.203447Z"
    }
   },
   "cell_type": "code",
   "source": "history.messages",
   "id": "814ef12bab9aba44",
   "execution_count": 3,
   "outputs": []
  },
  {
   "metadata": {
    "ExecuteTime": {
     "end_time": "2024-07-11T13:55:36.485829Z",
     "start_time": "2024-07-11T13:55:32.287928Z"
    }
   },
   "cell_type": "code",
   "source": [
    "chain = prompt | ChatOpenAI() | StrOutputParser()\n",
    "\n",
    "wrapped_chain = RunnableWithMessageHistory(chain, lambda x: history)\n",
    "res = wrapped_chain.invoke(\n",
    "{\"input\": \"你是谁\"},\n",
    "config={\"configurable\": {\"session_id\": \"42\"}})"
   ],
   "id": "8b6811585530d9e8",
   "execution_count": 4,
   "outputs": []
  },
  {
   "metadata": {
    "ExecuteTime": {
     "end_time": "2024-07-11T13:55:44.677531Z",
     "start_time": "2024-07-11T13:55:44.673145Z"
    }
   },
   "cell_type": "code",
   "source": "history.messages",
   "id": "ed9558fd58e2709d",
   "execution_count": 5,
   "outputs": []
  },
  {
   "metadata": {
    "ExecuteTime": {
     "end_time": "2024-07-11T13:56:02.976331Z",
     "start_time": "2024-07-11T13:56:00.280570Z"
    }
   },
   "cell_type": "code",
   "source": "wrapped_chain.invoke({\"input\": \"我刚才问你什么了？\"},config={\"configurable\": {\"session_id\": \"42\"}})",
   "id": "78d598aab93f8dd",
   "execution_count": 6,
   "outputs": []
  },
  {
   "metadata": {
    "ExecuteTime": {
     "end_time": "2024-07-11T13:56:42.602918Z",
     "start_time": "2024-07-11T13:56:42.596793Z"
    }
   },
   "cell_type": "code",
   "source": "history.messages",
   "id": "39570b4826b31c52",
   "execution_count": 7,
   "outputs": []
  },
  {
   "metadata": {
    "ExecuteTime": {
     "end_time": "2024-07-11T14:00:07.405854Z",
     "start_time": "2024-07-11T14:00:07.402307Z"
    }
   },
   "cell_type": "code",
   "source": "history.redis_client.type(history.key)",
   "id": "cb42e750f722bb0b",
   "execution_count": 12,
   "outputs": []
  },
  {
   "metadata": {},
   "cell_type": "markdown",
   "source": [
    "与此类似的有`MongoDBChatMessageHistory`，`ElasticsearchChatMessageHistory`,`SQLChatMessageHistory`。\n",
    "`SQLChatMessageHistory`是将数据存储在sql数据库中。"
   ],
   "id": "c10580178a63d87d"
  },
  {
   "metadata": {},
   "cell_type": "markdown",
   "source": [
    "## Memory和History同时使用\n",
    "\n",
    "### Memory中使用History\n",
    "Memory中底层实现就是History，可以在构造Memory的时候指定chat_Memory，默认是`InMemoryChatMessageHistory`"
   ],
   "id": "3a435fe0479eb23b"
  },
  {
   "metadata": {
    "ExecuteTime": {
     "end_time": "2024-07-17T14:53:03.992850Z",
     "start_time": "2024-07-17T14:53:01.932378Z"
    }
   },
   "cell_type": "code",
   "source": [
    "from langchain.memory import ConversationBufferWindowMemory\n",
    "from langchain.chains import ConversationChain\n",
    "from langchain_core.prompts import ChatPromptTemplate\n",
    "from langchain_openai import ChatOpenAI\n",
    "\n",
    "template = \"\"\"\n",
    "你是一个ai助手，叫做小李，你需要根据对话历史来回答用户问题.\n",
    "Chat history: {history}\n",
    "Question: {input}\n",
    "\"\"\"\n",
    "\n",
    "prompt = ChatPromptTemplate.from_template(template)\n",
    "\n",
    "history = RedisChatMessageHistory(session_id=\"42\")\n",
    "history.clear()\n",
    "memory = ConversationBufferWindowMemory(chat_memory=history,k=2)\n",
    "\n",
    "chain = ConversationChain(\n",
    "    llm=ChatOpenAI(),\n",
    "    memory=memory,\n",
    "    prompt=prompt,\n",
    ")\n",
    "\n",
    "chain.invoke({\"input\":\"你是谁？\"})"
   ],
   "id": "f72b536fe10c4892",
   "execution_count": 13,
   "outputs": []
  },
  {
   "metadata": {
    "ExecuteTime": {
     "end_time": "2024-07-17T14:53:08.897244Z",
     "start_time": "2024-07-17T14:53:07.669038Z"
    }
   },
   "cell_type": "code",
   "source": "chain.invoke({\"input\":\"你知道1+1等于？\"})",
   "id": "cc492c4a6f567c6e",
   "execution_count": 14,
   "outputs": []
  },
  {
   "metadata": {},
   "cell_type": "markdown",
   "source": [
    "redis中看数据\n",
    "![](../resource/img_11.png)\n",
    "key存在了，数据已经存在了，在进件多轮对话看redis中结果"
   ],
   "id": "d518ad9fb7f24767"
  },
  {
   "metadata": {
    "ExecuteTime": {
     "end_time": "2024-07-17T14:53:40.443826Z",
     "start_time": "2024-07-17T14:53:36.313375Z"
    }
   },
   "cell_type": "code",
   "source": [
    "chain.invoke({\"input\":\"你知道1+2等于？\"})\n",
    "chain.invoke({\"input\":\"你知道1+3于？\"})\n",
    "chain.invoke({\"input\":\"我问你的第一个问题是什么？\"})"
   ],
   "id": "b5280f56e30c8858",
   "execution_count": 15,
   "outputs": []
  },
  {
   "metadata": {},
   "cell_type": "markdown",
   "source": [
    "redis中数据如下：\n",
    "![](../resource/img_10.png)\n",
    "怎么看起来不是预期的，预期是保存4条对话记录，也就是2轮对话。但是redis中全部都保存起来了。从上面的执行过程中可以看到，确实传递给llm的是最后两轮对话，是预期的。翻找代码发现\n",
    "**Memory中对对话历史做处理是不影响History的，History会记录完整的对话历史，Memory会对History中的message做加工** ，具体可以看`langchain.memory.chat_memory.BaseChatMemory.save_context`。\n",
    "\n",
    "\n",
    "上面的例子是Memory中套入了History，并且使用的是老的LangChain的写法，不是LCEL。\n",
    "LCEL使用的是`RunnableWithMessageHistory`来包装`chain`，他需要返回的是一个`BaseChatMessageHistory`的子类，看起来Memory这一套并不适用，需要自己在包装一下，在返回History的时候使用Memory来处理一下。\n"
   ],
   "id": "9cac7d2dc67dc1dd"
  },
  {
   "metadata": {},
   "cell_type": "markdown",
   "source": [
    "### History中使用Memory（使用LCEL）\n",
    "\n",
    "不兼容，需要手动做兼容\n",
    "原因如下\n",
    "1. 在Memory的实现中，是通过History的`add_message`的方式来完成的。这个接口的入参就一个 `message`，但是Memory对外暴漏的接口是`save_context`，每次都要求传递两个参数，`input，output`，这里就不能兼容，需要有一种方式来判断本次添加的message是那种，在我的代码中我是通过`switch`来做的。\n",
    "2. 需要处理数据首次加载的问题，先从Memory中获取数据，如果没有，在从History中获取，最后数据回灌到History。\n",
    "\n",
    "**下面的代码没有跑动**"
   ],
   "id": "9bd6f421d7b6dc7d"
  },
  {
   "metadata": {
    "ExecuteTime": {
     "end_time": "2024-07-17T15:31:59.456176Z",
     "start_time": "2024-07-17T15:31:57.492063Z"
    }
   },
   "cell_type": "code",
   "source": [
    "import json\n",
    "import logging\n",
    "from typing import List, Optional\n",
    "\n",
    "from langchain_core.chat_history import BaseChatMessageHistory\n",
    "from langchain_core.messages import (\n",
    "    BaseMessage,\n",
    "    message_to_dict,\n",
    "    messages_from_dict,\n",
    ")\n",
    "\n",
    "from langchain_community.utilities.redis import get_client\n",
    "\n",
    "logger = logging.getLogger(__name__)\n",
    "\n",
    "\n",
    "class RedisConversationBufferHistory(RedisChatMessageHistory):\n",
    "    \"\"\"Chat message history stored in a Redis database. use ConversationBufferMemory\"\"\"\n",
    "\n",
    "    def __init__(\n",
    "        self,\n",
    "        **kwargs\n",
    "    ):\n",
    "        super().__init__(**kwargs)\n",
    "        self.memory = ConversationBufferWindowMemory(k=2)\n",
    "        self.switch = True\n",
    "        \n",
    "\n",
    "    def change_switch(self):\n",
    "        self.switch = !self.switch\n",
    "        \n",
    "    def is_open_switch(self):\n",
    "        return self.switch\n",
    "\n",
    "    @property\n",
    "    def messages(self) -> List[BaseMessage]:\n",
    "        return self.memory.buffer_as_messages\n",
    "\n",
    "    def add_message(self, message: BaseMessage) -> None:\n",
    "        \"\"\"Append the message to the record in Redis\"\"\"\n",
    "        if len(message.content) > 0:\n",
    "            self.redis_client.lpush(self.key, json.dumps(message_to_dict(message)))\n",
    "        if self.ttl:\n",
    "            self.redis_client.expire(self.key, self.ttl)\n",
    "        \n",
    "        if self.is_open_switch():\n",
    "            self.memory.save_context(message,\"\")\n",
    "        else:\n",
    "            self.memory.save_context(\"\",message)\n",
    "        \n",
    "\n",
    "    def clear(self) -> None:\n",
    "        super().clear()\n",
    "        self.memory.clear()\n",
    "\n",
    "\n",
    "from langchain_core.output_parsers import StrOutputParser\n",
    "from langchain_core.prompts import ChatPromptTemplate\n",
    "from langchain_core.runnables.history import RunnableWithMessageHistory\n",
    "from langchain_openai import ChatOpenAI\n",
    "import langchain\n",
    "langchain.debug=True\n",
    "\n",
    "prompt = ChatPromptTemplate.from_messages(\n",
    "    [\n",
    "        (\"system\", \"你是一个ai助手，基于下面的对话历史来回答问题\"),\n",
    "        (\"placeholder\", \"{chat_history}\"),\n",
    "        (\"human\", \"{input}\"),\n",
    "    ]\n",
    ")\n",
    "chain = prompt | ChatOpenAI() | StrOutputParser()\n",
    "\n",
    "history = RedisConversationBufferHistory(session_id=\"43\")\n",
    "history.clear()\n",
    "wrapped_chain = RunnableWithMessageHistory(chain,lambda x: history)\n",
    "res = wrapped_chain.invoke(\n",
    "{\"input\": \"你是谁\"},\n",
    "config={\"configurable\": {\"session_id\": \"43\"}})"
   ],
   "id": "ba7c98eeb99f8947",
   "execution_count": 20,
   "outputs": []
  },
  {
   "metadata": {
    "ExecuteTime": {
     "end_time": "2024-07-17T15:32:35.302249Z",
     "start_time": "2024-07-17T15:32:33.354989Z"
    }
   },
   "cell_type": "code",
   "source": [
    "res = wrapped_chain.invoke(\n",
    "{\"input\": \"hello\"},\n",
    "config={\"configurable\": {\"session_id\": \"42\"}})"
   ],
   "id": "6f64b0136ca7893",
   "execution_count": 21,
   "outputs": []
  },
  {
   "metadata": {},
   "cell_type": "markdown",
   "source": "end end end",
   "id": "bc167f62bedea5da"
  }
 ],
 "metadata": {
  "kernelspec": {
   "display_name": "Python 3",
   "language": "python",
   "name": "python3"
  },
  "language_info": {
   "codemirror_mode": {
    "name": "ipython",
    "version": 2
   },
   "file_extension": ".py",
   "mimetype": "text/x-python",
   "name": "python",
   "nbconvert_exporter": "python",
   "pygments_lexer": "ipython2",
   "version": "2.7.6"
  }
 },
 "nbformat": 4,
 "nbformat_minor": 5
}
