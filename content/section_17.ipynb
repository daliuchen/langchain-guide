{
 "cells": [
  {
   "metadata": {},
   "cell_type": "markdown",
   "source": [
    "# LangGraph\n",
    "官网：https://langchain-ai.github.io/langgraph/\n",
    "\n",
    "LangGraph 是什么：\n",
    "LangGraph 是一个用于构建具有状态、多角色应用程序的库，适用于创建代理和多代理工作流。\n",
    "\n",
    "能干什么：\n",
    "\n",
    "- 实现应用中的循环和分支。\n",
    "- 自动在图的每一步之后保存状态，支持暂停和恢复图的执行，以支持错误恢复、人工控制agent\n",
    "- 支持agent中人为可控制，可中断图的执行以批准或编辑代理计划的下一个动作。\n",
    "- 支持流输出，包括每个节点产生的令牌流。\n",
    "- 与 LangChain 和 LangSmith 无缝集成。\n"
   ],
   "id": "d76e249158b95353"
  },
  {
   "metadata": {},
   "cell_type": "markdown",
   "source": "# 快速开始",
   "id": "8d860d65561dcb7f"
  },
  {
   "metadata": {
    "ExecuteTime": {
     "end_time": "2024-09-08T13:12:20.736632Z",
     "start_time": "2024-09-08T13:12:14.313349Z"
    }
   },
   "cell_type": "code",
   "source": [
    "!pip install -U langgraph\n",
    "!pip install langchain-anthropic"
   ],
   "id": "c7c7b519bbca7037",
   "outputs": [
    {
     "name": "stdout",
     "output_type": "stream",
     "text": [
      "Requirement already satisfied: langgraph in /Users/cliu/.virtualenvs/langchain-guide/lib/python3.11/site-packages (0.2.19)\r\n",
      "Requirement already satisfied: langchain-core<0.4,>=0.2.38 in /Users/cliu/.virtualenvs/langchain-guide/lib/python3.11/site-packages (from langgraph) (0.2.38)\r\n",
      "Requirement already satisfied: langgraph-checkpoint<2.0.0,>=1.0.2 in /Users/cliu/.virtualenvs/langchain-guide/lib/python3.11/site-packages (from langgraph) (1.0.8)\r\n",
      "Requirement already satisfied: PyYAML>=5.3 in /Users/cliu/.virtualenvs/langchain-guide/lib/python3.11/site-packages (from langchain-core<0.4,>=0.2.38->langgraph) (6.0.1)\r\n",
      "Requirement already satisfied: jsonpatch<2.0,>=1.33 in /Users/cliu/.virtualenvs/langchain-guide/lib/python3.11/site-packages (from langchain-core<0.4,>=0.2.38->langgraph) (1.33)\r\n",
      "Requirement already satisfied: langsmith<0.2.0,>=0.1.75 in /Users/cliu/.virtualenvs/langchain-guide/lib/python3.11/site-packages (from langchain-core<0.4,>=0.2.38->langgraph) (0.1.83)\r\n",
      "Requirement already satisfied: packaging<25,>=23.2 in /Users/cliu/.virtualenvs/langchain-guide/lib/python3.11/site-packages (from langchain-core<0.4,>=0.2.38->langgraph) (24.1)\r\n",
      "Requirement already satisfied: pydantic<3,>=1 in /Users/cliu/.virtualenvs/langchain-guide/lib/python3.11/site-packages (from langchain-core<0.4,>=0.2.38->langgraph) (2.8.0)\r\n",
      "Requirement already satisfied: tenacity!=8.4.0,<9.0.0,>=8.1.0 in /Users/cliu/.virtualenvs/langchain-guide/lib/python3.11/site-packages (from langchain-core<0.4,>=0.2.38->langgraph) (8.4.2)\r\n",
      "Requirement already satisfied: typing-extensions>=4.7 in /Users/cliu/.virtualenvs/langchain-guide/lib/python3.11/site-packages (from langchain-core<0.4,>=0.2.38->langgraph) (4.12.2)\r\n",
      "Requirement already satisfied: jsonpointer>=1.9 in /Users/cliu/.virtualenvs/langchain-guide/lib/python3.11/site-packages (from jsonpatch<2.0,>=1.33->langchain-core<0.4,>=0.2.38->langgraph) (3.0.0)\r\n",
      "Requirement already satisfied: orjson<4.0.0,>=3.9.14 in /Users/cliu/.virtualenvs/langchain-guide/lib/python3.11/site-packages (from langsmith<0.2.0,>=0.1.75->langchain-core<0.4,>=0.2.38->langgraph) (3.10.5)\r\n",
      "Requirement already satisfied: requests<3,>=2 in /Users/cliu/.virtualenvs/langchain-guide/lib/python3.11/site-packages (from langsmith<0.2.0,>=0.1.75->langchain-core<0.4,>=0.2.38->langgraph) (2.32.3)\r\n",
      "Requirement already satisfied: annotated-types>=0.4.0 in /Users/cliu/.virtualenvs/langchain-guide/lib/python3.11/site-packages (from pydantic<3,>=1->langchain-core<0.4,>=0.2.38->langgraph) (0.7.0)\r\n",
      "Requirement already satisfied: pydantic-core==2.20.0 in /Users/cliu/.virtualenvs/langchain-guide/lib/python3.11/site-packages (from pydantic<3,>=1->langchain-core<0.4,>=0.2.38->langgraph) (2.20.0)\r\n",
      "Requirement already satisfied: charset-normalizer<4,>=2 in /Users/cliu/.virtualenvs/langchain-guide/lib/python3.11/site-packages (from requests<3,>=2->langsmith<0.2.0,>=0.1.75->langchain-core<0.4,>=0.2.38->langgraph) (3.3.2)\r\n",
      "Requirement already satisfied: idna<4,>=2.5 in /Users/cliu/.virtualenvs/langchain-guide/lib/python3.11/site-packages (from requests<3,>=2->langsmith<0.2.0,>=0.1.75->langchain-core<0.4,>=0.2.38->langgraph) (3.7)\r\n",
      "Requirement already satisfied: urllib3<3,>=1.21.1 in /Users/cliu/.virtualenvs/langchain-guide/lib/python3.11/site-packages (from requests<3,>=2->langsmith<0.2.0,>=0.1.75->langchain-core<0.4,>=0.2.38->langgraph) (2.2.2)\r\n",
      "Requirement already satisfied: certifi>=2017.4.17 in /Users/cliu/.virtualenvs/langchain-guide/lib/python3.11/site-packages (from requests<3,>=2->langsmith<0.2.0,>=0.1.75->langchain-core<0.4,>=0.2.38->langgraph) (2024.6.2)\r\n",
      "\r\n",
      "\u001B[1m[\u001B[0m\u001B[34;49mnotice\u001B[0m\u001B[1;39;49m]\u001B[0m\u001B[39;49m A new release of pip is available: \u001B[0m\u001B[31;49m24.0\u001B[0m\u001B[39;49m -> \u001B[0m\u001B[32;49m24.2\u001B[0m\r\n",
      "\u001B[1m[\u001B[0m\u001B[34;49mnotice\u001B[0m\u001B[1;39;49m]\u001B[0m\u001B[39;49m To update, run: \u001B[0m\u001B[32;49mpip install --upgrade pip\u001B[0m\r\n",
      "Collecting langchain-anthropic\r\n",
      "  Downloading langchain_anthropic-0.1.23-py3-none-any.whl.metadata (2.2 kB)\r\n",
      "Collecting anthropic<1,>=0.30.0 (from langchain-anthropic)\r\n",
      "  Downloading anthropic-0.34.2-py3-none-any.whl.metadata (18 kB)\r\n",
      "Requirement already satisfied: defusedxml<0.8.0,>=0.7.1 in /Users/cliu/.virtualenvs/langchain-guide/lib/python3.11/site-packages (from langchain-anthropic) (0.7.1)\r\n",
      "Requirement already satisfied: langchain-core<0.3.0,>=0.2.26 in /Users/cliu/.virtualenvs/langchain-guide/lib/python3.11/site-packages (from langchain-anthropic) (0.2.38)\r\n",
      "Requirement already satisfied: anyio<5,>=3.5.0 in /Users/cliu/.virtualenvs/langchain-guide/lib/python3.11/site-packages (from anthropic<1,>=0.30.0->langchain-anthropic) (4.4.0)\r\n",
      "Requirement already satisfied: distro<2,>=1.7.0 in /Users/cliu/.virtualenvs/langchain-guide/lib/python3.11/site-packages (from anthropic<1,>=0.30.0->langchain-anthropic) (1.9.0)\r\n",
      "Requirement already satisfied: httpx<1,>=0.23.0 in /Users/cliu/.virtualenvs/langchain-guide/lib/python3.11/site-packages (from anthropic<1,>=0.30.0->langchain-anthropic) (0.27.0)\r\n",
      "Collecting jiter<1,>=0.4.0 (from anthropic<1,>=0.30.0->langchain-anthropic)\r\n",
      "  Downloading jiter-0.5.0-cp311-cp311-macosx_11_0_arm64.whl.metadata (3.6 kB)\r\n",
      "Requirement already satisfied: pydantic<3,>=1.9.0 in /Users/cliu/.virtualenvs/langchain-guide/lib/python3.11/site-packages (from anthropic<1,>=0.30.0->langchain-anthropic) (2.8.0)\r\n",
      "Requirement already satisfied: sniffio in /Users/cliu/.virtualenvs/langchain-guide/lib/python3.11/site-packages (from anthropic<1,>=0.30.0->langchain-anthropic) (1.3.1)\r\n",
      "Requirement already satisfied: tokenizers>=0.13.0 in /Users/cliu/.virtualenvs/langchain-guide/lib/python3.11/site-packages (from anthropic<1,>=0.30.0->langchain-anthropic) (0.19.1)\r\n",
      "Requirement already satisfied: typing-extensions<5,>=4.7 in /Users/cliu/.virtualenvs/langchain-guide/lib/python3.11/site-packages (from anthropic<1,>=0.30.0->langchain-anthropic) (4.12.2)\r\n",
      "Requirement already satisfied: PyYAML>=5.3 in /Users/cliu/.virtualenvs/langchain-guide/lib/python3.11/site-packages (from langchain-core<0.3.0,>=0.2.26->langchain-anthropic) (6.0.1)\r\n",
      "Requirement already satisfied: jsonpatch<2.0,>=1.33 in /Users/cliu/.virtualenvs/langchain-guide/lib/python3.11/site-packages (from langchain-core<0.3.0,>=0.2.26->langchain-anthropic) (1.33)\r\n",
      "Requirement already satisfied: langsmith<0.2.0,>=0.1.75 in /Users/cliu/.virtualenvs/langchain-guide/lib/python3.11/site-packages (from langchain-core<0.3.0,>=0.2.26->langchain-anthropic) (0.1.83)\r\n",
      "Requirement already satisfied: packaging<25,>=23.2 in /Users/cliu/.virtualenvs/langchain-guide/lib/python3.11/site-packages (from langchain-core<0.3.0,>=0.2.26->langchain-anthropic) (24.1)\r\n",
      "Requirement already satisfied: tenacity!=8.4.0,<9.0.0,>=8.1.0 in /Users/cliu/.virtualenvs/langchain-guide/lib/python3.11/site-packages (from langchain-core<0.3.0,>=0.2.26->langchain-anthropic) (8.4.2)\r\n",
      "Requirement already satisfied: idna>=2.8 in /Users/cliu/.virtualenvs/langchain-guide/lib/python3.11/site-packages (from anyio<5,>=3.5.0->anthropic<1,>=0.30.0->langchain-anthropic) (3.7)\r\n",
      "Requirement already satisfied: certifi in /Users/cliu/.virtualenvs/langchain-guide/lib/python3.11/site-packages (from httpx<1,>=0.23.0->anthropic<1,>=0.30.0->langchain-anthropic) (2024.6.2)\r\n",
      "Requirement already satisfied: httpcore==1.* in /Users/cliu/.virtualenvs/langchain-guide/lib/python3.11/site-packages (from httpx<1,>=0.23.0->anthropic<1,>=0.30.0->langchain-anthropic) (1.0.5)\r\n",
      "Requirement already satisfied: h11<0.15,>=0.13 in /Users/cliu/.virtualenvs/langchain-guide/lib/python3.11/site-packages (from httpcore==1.*->httpx<1,>=0.23.0->anthropic<1,>=0.30.0->langchain-anthropic) (0.14.0)\r\n",
      "Requirement already satisfied: jsonpointer>=1.9 in /Users/cliu/.virtualenvs/langchain-guide/lib/python3.11/site-packages (from jsonpatch<2.0,>=1.33->langchain-core<0.3.0,>=0.2.26->langchain-anthropic) (3.0.0)\r\n",
      "Requirement already satisfied: orjson<4.0.0,>=3.9.14 in /Users/cliu/.virtualenvs/langchain-guide/lib/python3.11/site-packages (from langsmith<0.2.0,>=0.1.75->langchain-core<0.3.0,>=0.2.26->langchain-anthropic) (3.10.5)\r\n",
      "Requirement already satisfied: requests<3,>=2 in /Users/cliu/.virtualenvs/langchain-guide/lib/python3.11/site-packages (from langsmith<0.2.0,>=0.1.75->langchain-core<0.3.0,>=0.2.26->langchain-anthropic) (2.32.3)\r\n",
      "Requirement already satisfied: annotated-types>=0.4.0 in /Users/cliu/.virtualenvs/langchain-guide/lib/python3.11/site-packages (from pydantic<3,>=1.9.0->anthropic<1,>=0.30.0->langchain-anthropic) (0.7.0)\r\n",
      "Requirement already satisfied: pydantic-core==2.20.0 in /Users/cliu/.virtualenvs/langchain-guide/lib/python3.11/site-packages (from pydantic<3,>=1.9.0->anthropic<1,>=0.30.0->langchain-anthropic) (2.20.0)\r\n",
      "Requirement already satisfied: huggingface-hub<1.0,>=0.16.4 in /Users/cliu/.virtualenvs/langchain-guide/lib/python3.11/site-packages (from tokenizers>=0.13.0->anthropic<1,>=0.30.0->langchain-anthropic) (0.23.4)\r\n",
      "Requirement already satisfied: filelock in /Users/cliu/.virtualenvs/langchain-guide/lib/python3.11/site-packages (from huggingface-hub<1.0,>=0.16.4->tokenizers>=0.13.0->anthropic<1,>=0.30.0->langchain-anthropic) (3.15.4)\r\n",
      "Requirement already satisfied: fsspec>=2023.5.0 in /Users/cliu/.virtualenvs/langchain-guide/lib/python3.11/site-packages (from huggingface-hub<1.0,>=0.16.4->tokenizers>=0.13.0->anthropic<1,>=0.30.0->langchain-anthropic) (2024.6.1)\r\n",
      "Requirement already satisfied: tqdm>=4.42.1 in /Users/cliu/.virtualenvs/langchain-guide/lib/python3.11/site-packages (from huggingface-hub<1.0,>=0.16.4->tokenizers>=0.13.0->anthropic<1,>=0.30.0->langchain-anthropic) (4.66.4)\r\n",
      "Requirement already satisfied: charset-normalizer<4,>=2 in /Users/cliu/.virtualenvs/langchain-guide/lib/python3.11/site-packages (from requests<3,>=2->langsmith<0.2.0,>=0.1.75->langchain-core<0.3.0,>=0.2.26->langchain-anthropic) (3.3.2)\r\n",
      "Requirement already satisfied: urllib3<3,>=1.21.1 in /Users/cliu/.virtualenvs/langchain-guide/lib/python3.11/site-packages (from requests<3,>=2->langsmith<0.2.0,>=0.1.75->langchain-core<0.3.0,>=0.2.26->langchain-anthropic) (2.2.2)\r\n",
      "Downloading langchain_anthropic-0.1.23-py3-none-any.whl (21 kB)\r\n",
      "Downloading anthropic-0.34.2-py3-none-any.whl (891 kB)\r\n",
      "\u001B[2K   \u001B[90m━━━━━━━━━━━━━━━━━━━━━━━━━━━━━━━━━━━━━━━━\u001B[0m \u001B[32m891.9/891.9 kB\u001B[0m \u001B[31m3.0 MB/s\u001B[0m eta \u001B[36m0:00:00\u001B[0ma \u001B[36m0:00:01\u001B[0mm\r\n",
      "\u001B[?25hDownloading jiter-0.5.0-cp311-cp311-macosx_11_0_arm64.whl (299 kB)\r\n",
      "\u001B[2K   \u001B[90m━━━━━━━━━━━━━━━━━━━━━━━━━━━━━━━━━━━━━━━━\u001B[0m \u001B[32m299.3/299.3 kB\u001B[0m \u001B[31m17.1 MB/s\u001B[0m eta \u001B[36m0:00:00\u001B[0m\r\n",
      "\u001B[?25hInstalling collected packages: jiter, anthropic, langchain-anthropic\r\n",
      "Successfully installed anthropic-0.34.2 jiter-0.5.0 langchain-anthropic-0.1.23\r\n",
      "\r\n",
      "\u001B[1m[\u001B[0m\u001B[34;49mnotice\u001B[0m\u001B[1;39;49m]\u001B[0m\u001B[39;49m A new release of pip is available: \u001B[0m\u001B[31;49m24.0\u001B[0m\u001B[39;49m -> \u001B[0m\u001B[32;49m24.2\u001B[0m\r\n",
      "\u001B[1m[\u001B[0m\u001B[34;49mnotice\u001B[0m\u001B[1;39;49m]\u001B[0m\u001B[39;49m To update, run: \u001B[0m\u001B[32;49mpip install --upgrade pip\u001B[0m\r\n"
     ]
    }
   ],
   "execution_count": 3
  },
  {
   "metadata": {
    "ExecuteTime": {
     "end_time": "2024-09-08T13:28:04.325610Z",
     "start_time": "2024-09-08T13:28:02.030142Z"
    }
   },
   "cell_type": "code",
   "source": [
    "from typing import Annotated, Literal, TypedDict\n",
    "from langchain_core.messages import HumanMessage\n",
    "from langchain_core.tools import tool\n",
    "from langgraph.checkpoint.memory import MemorySaver\n",
    "from langgraph.graph import END, START, StateGraph, MessagesState\n",
    "from langgraph.prebuilt import ToolNode\n",
    "from langchain_openai import ChatOpenAI\n",
    "from langchain.globals import set_verbose\n",
    "\n",
    "set_verbose(True)\n",
    "\n",
    "# 给agent定义工具\n",
    "@tool\n",
    "def search(query: str):\n",
    "    \"\"\"搜索提亲\"\"\"\n",
    "    # This is a placeholder, but don't tell the LLM that...\n",
    "    if \"sf\" in query.lower() or \"san francisco\" in query.lower():\n",
    "        return \"It's 60 degrees and foggy.\"\n",
    "    return \"It's 90 degrees and sunny.\"\n",
    "\n",
    "\n",
    "# 绑定工具给模型，\n",
    "tools = [search]\n",
    "# 定义工具节点\n",
    "tool_node = ToolNode(tools)\n",
    "model = ChatOpenAI(model=\"gpt-3.5-turbo-0125\", temperature=0)\n",
    "model = model.bind_tools(tools)\n",
    "\n",
    "# 定义函数来判断是否要继续执行\n",
    "def should_continue(state: MessagesState) -> Literal[\"tools\", END]:\n",
    "    messages = state['messages']\n",
    "    last_message = messages[-1]\n",
    "    # 如果模型需要调用工具，则继续执行\n",
    "    if last_message.tool_calls:\n",
    "        return \"tools\"\n",
    "    # 否则，我们停止（回复用户）\n",
    "    return END\n",
    "\n",
    "\n",
    "# 定义函数来调用模型，需要注意，这里的方法的入参的类型`MessagesState`\n",
    "def call_model(state: MessagesState):\n",
    "    messages = state['messages']\n",
    "    response = model.invoke(messages)\n",
    "    # We return a list, because this will get added to the existing list\n",
    "    return {\"messages\": [response]}\n",
    "\n",
    "\n",
    "# 定义工作流\n",
    "workflow = StateGraph(MessagesState)\n",
    "# 添加节点，一个是模型节点，一个是工具节点\n",
    "workflow.add_node(\"agent\", call_model)\n",
    "workflow.add_node(\"tools\", tool_node)\n",
    "\n",
    "# 添加边，从开始节点到agent节点\n",
    "workflow.add_edge(START, \"agent\")\n",
    "\n",
    "# 添加了边，从agent节点到should_continue对应的节点\n",
    "workflow.add_conditional_edges(\n",
    "    # First, we define the start node. We use `agent`.\n",
    "    # This means these are the edges taken after the `agent` node is called.\n",
    "    \"agent\",\n",
    "    # Next, we pass in the function that will determine which node is called next.\n",
    "    should_continue,\n",
    ")\n",
    "\n",
    "# 添加边，从tools节点到agent节点\n",
    "workflow.add_edge(\"tools\", 'agent')\n",
    "\n",
    "# 初始化一个内存保存器，用来保存中间状态\n",
    "checkpointer = MemorySaver()\n",
    "\n",
    "# Finally, we compile it!\n",
    "# This compiles it into a LangChain Runnable,\n",
    "# meaning you can use it as you would any other runnable.\n",
    "# Note that we're (optionally) passing the memory when compiling the graph\n",
    "app = workflow.compile(checkpointer=checkpointer)\n",
    "\n",
    "# Use the Runnable\n",
    "final_state = app.invoke(\n",
    "    {\"messages\": [HumanMessage(content=\"what is the weather in sf\")]},\n",
    "    config={\"configurable\": {\"thread_id\": 42}}\n",
    ")\n",
    "final_state[\"messages\"][-1].content"
   ],
   "id": "23e5bf3fe0374ff0",
   "outputs": [
    {
     "data": {
      "text/plain": [
       "'The weather in San Francisco is 60 degrees Fahrenheit and foggy.'"
      ]
     },
     "execution_count": 17,
     "metadata": {},
     "output_type": "execute_result"
    }
   ],
   "execution_count": 17
  },
  {
   "metadata": {},
   "cell_type": "markdown",
   "source": "在`final_state`中保存了所有的消息，我们可以查看每一步的消息，如下：",
   "id": "bb1ec79a4a93f676"
  },
  {
   "metadata": {
    "ExecuteTime": {
     "end_time": "2024-09-08T13:26:18.961842Z",
     "start_time": "2024-09-08T13:26:18.958984Z"
    }
   },
   "cell_type": "code",
   "source": [
    "for index,item in enumerate(final_state['messages']):\n",
    "    print(f'{index}:     {item}\\n')"
   ],
   "id": "abe55f586a12293b",
   "outputs": [
    {
     "name": "stdout",
     "output_type": "stream",
     "text": [
      "0:     content='what is the weather in sf' id='c9f135bf-a5f1-4ed7-8dd7-d11ca22dec1c'\n",
      "\n",
      "1:     content='' additional_kwargs={'tool_calls': [{'id': 'call_9xEBQ03d0EM8Z7GnR602Tz7Z', 'function': {'arguments': '{\"query\":\"weather in San Francisco\"}', 'name': 'search'}, 'type': 'function'}]} response_metadata={'token_usage': {'completion_tokens': 16, 'prompt_tokens': 49, 'total_tokens': 65}, 'model_name': 'gpt-35-turbo', 'system_fingerprint': 'fp_e49e4201a9', 'finish_reason': 'tool_calls', 'logprobs': None} id='run-f81b46ec-423e-43d1-af2a-db6821faa87d-0' tool_calls=[{'name': 'search', 'args': {'query': 'weather in San Francisco'}, 'id': 'call_9xEBQ03d0EM8Z7GnR602Tz7Z', 'type': 'tool_call'}] usage_metadata={'input_tokens': 49, 'output_tokens': 16, 'total_tokens': 65}\n",
      "\n",
      "2:     content=\"It's 60 degrees and foggy.\" name='search' id='1b4a8e65-f185-4861-b763-b137f6d35749' tool_call_id='call_9xEBQ03d0EM8Z7GnR602Tz7Z'\n",
      "\n",
      "3:     content='The weather in San Francisco is currently 60 degrees and foggy.' response_metadata={'token_usage': {'completion_tokens': 15, 'prompt_tokens': 81, 'total_tokens': 96}, 'model_name': 'gpt-3.5-turbo-0125', 'system_fingerprint': None, 'finish_reason': 'stop', 'logprobs': None} id='run-a48dd699-a6b5-44fe-811b-773658a9223e-0' usage_metadata={'input_tokens': 81, 'output_tokens': 15, 'total_tokens': 96}\n",
      "\n"
     ]
    }
   ],
   "execution_count": 15
  },
  {
   "metadata": {},
   "cell_type": "markdown",
   "source": [
    "Langsmith中的观察如下:\n",
    "![图片的替代文本](../resource/img_21.png)\n",
    "链接： https://smith.langchain.com/public/b811deb0-0464-47d2-8380-d85c377b0992/r"
   ],
   "id": "ab31cd4eaebde68e"
  },
  {
   "metadata": {},
   "cell_type": "markdown",
   "source": [
    "下面我们对上面的代码做具体的解释\n",
    "1. LangGraph本身是一个图，图有节点和边，上面的agent，tool都是在定义节点，节点需要通过边来连接起来\n",
    "2. 图需要有开始和结束节点。上面的代码中有start和end\n",
    "3. 这里不同的是，当前节点执行完毕，下一个节点是可以动态选择的。\n",
    "4. 具体的在代码里面已详细的注释了，代入到图的概念里面比较好理解\n",
    "\n",
    "按照执行过程解释如下\n",
    "1. 从`start`节点开始， star节点加了一个朝向agent的边。一开始就会执行agent节点。\n",
    "2. `agent` 节点, 会和模型做交互\n",
    "3. `agent` 节点有一个`should_continue`的边，在边里面决定走tools节点还是end节点。\n",
    "4. 模型的返回是要调用工具的，所以`should_continue`返回了tools\n",
    "5. `tools`执行结束后，tools节点有一个朝向agent的边， 所以，他会继续执行agent\n",
    "6. agent结束之后，会继续`should_continue`，此时返回了end节点，agent flow结束\n",
    "\n",
    "\n",
    "总结：\n",
    "    对比LangChain之前提供了Agent和`agent_executor`，这种方式可操作性更强，可控制性更强。\n",
    "之前LangChain的`agent_executor`，想要做人为控制是很不方便的，没有这样的入口，是否继续执行是模型决定的，并且他的实现本质上是迭代器。`agent_executor`将工具的输出一直输入到模型，直到没有工具可调用，agent才结束。此外，它还可以保存整个agent的过程数据，比如对话历史，但是`agent_executor`就不行，它没有提供这样的功能，本质上对话历史LangChain自己处理。"
   ],
   "id": "622b595b22065806"
  }
 ],
 "metadata": {
  "kernelspec": {
   "display_name": "Python 3",
   "language": "python",
   "name": "python3"
  },
  "language_info": {
   "codemirror_mode": {
    "name": "ipython",
    "version": 2
   },
   "file_extension": ".py",
   "mimetype": "text/x-python",
   "name": "python",
   "nbconvert_exporter": "python",
   "pygments_lexer": "ipython2",
   "version": "2.7.6"
  }
 },
 "nbformat": 4,
 "nbformat_minor": 5
}
