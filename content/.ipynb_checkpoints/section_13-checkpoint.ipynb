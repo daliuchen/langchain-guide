{
 "cells": [
  {
   "metadata": {},
   "cell_type": "markdown",
   "source": [
    "# Chatbots一些相关问题\n",
    "Chatbot使用了LLM做对话，下面的列举了相关问题\n",
    "\n",
    "## 如何管理对话记忆\n",
    "聊天机器人的特点是可以将之前对话的内容用户当前上下文。在之前我们讲过，有多种方式可以做，但之前使用的不是LCEL表达式。下面展示使用LCEL的实现"
   ],
   "id": "6ebd7b61123bdfa"
  },
  {
   "metadata": {
    "ExecuteTime": {
     "end_time": "2024-08-06T15:19:45.885672Z",
     "start_time": "2024-08-06T15:19:43.897975Z"
    }
   },
   "cell_type": "code",
   "source": [
    "from langchain_openai import ChatOpenAI\n",
    "from langchain_core.prompts import ChatPromptTemplate\n",
    "\n",
    "chat = ChatOpenAI(model=\"gpt-3.5-turbo-0125\")\n",
    "prompt = ChatPromptTemplate.from_messages(\n",
    "    [\n",
    "        (\n",
    "            \"system\",\n",
    "            \"你是一个AI小助手，你要尽可能的回答用户的问题\",\n",
    "        ),\n",
    "        (\"placeholder\", \"{messages}\"),\n",
    "    ]\n",
    ")\n",
    "\n",
    "chain = prompt | chat\n",
    "\n",
    "ai_msg = chain.invoke(\n",
    "    {\n",
    "        \"messages\": [\n",
    "            (\n",
    "                \"human\",\n",
    "                \"你是什么\",\n",
    "            ),\n",
    "            (\"ai\", \"我是AI小助手\"),\n",
    "            (\"human\", \"刚才问你什么了?\"),\n",
    "        ],\n",
    "    }\n",
    ")\n",
    "print(ai_msg.content)"
   ],
   "id": "a0d47645a21f4a68",
   "outputs": [
    {
     "name": "stdout",
     "output_type": "stream",
     "text": [
      "您刚才问我我是什么。\n"
     ]
    }
   ],
   "execution_count": 2
  }
 ],
 "metadata": {
  "kernelspec": {
   "display_name": "Python 3",
   "language": "python",
   "name": "python3"
  },
  "language_info": {
   "codemirror_mode": {
    "name": "ipython",
    "version": 2
   },
   "file_extension": ".py",
   "mimetype": "text/x-python",
   "name": "python",
   "nbconvert_exporter": "python",
   "pygments_lexer": "ipython2",
   "version": "2.7.6"
  }
 },
 "nbformat": 4,
 "nbformat_minor": 5
}
