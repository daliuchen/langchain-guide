{
 "cells": [
  {
   "metadata": {},
   "cell_type": "markdown",
   "source": [
    "# RAG检索增强\n",
    "\n",
    "## RAG是什么？\n",
    "\n",
    "RAG全称Retrieval augmented generation\n",
    "LLM是在一个固定庞大的数据集上训练的，这就导致一些数据他获取不到，比如最新的数据，虽然LLM提供了微调的方式，但这种方式也比较昂贵，所以就有了RAG，RAG是将相关的信息提供给LLM，基于这些信息来回答问题。所以，他是一种便宜并且实用的技术。\n",
    "\n",
    "RAG大体步骤如下\n",
    "\n",
    "1. 输入问题\n",
    "2. 在资料中找到和这个问题相关的数据\n",
    "3. 组成Prompt，和LLM交互\n",
    "\n",
    "\n",
    "## Embedding\n",
    "\n",
    "解决的是如何通过输入的问题找到相关的数据，这就说到向量化了。\n",
    "向量化就是将输入的一段文本或者任意形式的数据转换为一组数字，这些数字表示的是这组数据的特点，这些数据在数学上用向量表示，存储这些数据的数据库叫做向量数据库。\n",
    "具体可看：https://guangzhengli.com/blog/zh/vector-database/\n",
    "\n",
    "## RAG架构\n",
    "具体可看：https://python.langchain.com/v0.1/docs/use_cases/question_answering/#rag-architecture\n",
    "主要有两点\n",
    "1. Indexing\n",
    "    做数据索引和向量化\n",
    "2. 检索和生成\n",
    "    实际的RAG链，在运行时接收用户查询并从索引中检索相关数据，然后将其传递给模型。\n",
    "\n",
    "### Indexing\n",
    "![](../resource/img_6.png)\n",
    "分为三步\n",
    "1. 加载\n",
    "    加载数据，通过 DocumentLoaders.\n",
    "2. 切分\n",
    "    上一步加载后返回了Documents对象，这一步将它切分为小块，为了更好的索引和存储，大的快更难搜索，并且无法适应LLM的有限上下文窗口。\n",
    "3. 存储\n",
    "    将特征值存储\n",
    "### 检索和生成\n",
    "![](../resource/img_7.png)\n",
    "1. 检索\n",
    "    从存储中找到相关的数据，使用Retriever.\n",
    "2. 生成\n",
    "    在生成的Prompt中嵌入相关数据和用户输入问题，llm生成答案\n",
    "\n",
    "所以，在这章节中，步骤如下\n",
    "1. 加载资源\n",
    "2. 做Embedding，存储到向量数据库\n",
    "3. 输入问题，Embedding，在向量数据库中找相关文档\n",
    "4. 组成Prompt，和LLM交互"
   ],
   "id": "6b7c8a5d5847f225"
  },
  {
   "metadata": {},
   "cell_type": "markdown",
   "source": [
    "## 加载资源\n",
    "LangChain提供了很多的加载器，具体可看 \n",
    "\n",
    "https://api.python.langchain.com/en/latest/community_api_reference.html#module-langchain_community.document_loaders\n",
    "\n",
    "https://python.langchain.com/v0.1/docs/modules/data_connection/document_loaders/\n",
    "\n",
    "在这里，我们加载html"
   ],
   "id": "5b884201e9dd11a"
  },
  {
   "metadata": {
    "ExecuteTime": {
     "end_time": "2024-07-02T15:42:01.270075Z",
     "start_time": "2024-07-02T15:41:57.174055Z"
    }
   },
   "cell_type": "code",
   "source": [
    "from langchain_community.document_loaders import WebBaseLoader\n",
    "import langchain \n",
    "langchain.debug=True\n",
    "from langchain_text_splitters import RecursiveCharacterTextSplitter\n",
    "\n",
    "loader = WebBaseLoader(\n",
    "    web_paths=(\"https://daliuchen.github.io/langchain-guide/intro.html\",)\n",
    ")\n",
    "docs = loader.load()\n",
    "print(docs)"
   ],
   "id": "d06f15860eb1a7f",
   "execution_count": 23,
   "outputs": []
  },
  {
   "metadata": {},
   "cell_type": "markdown",
   "source": "## 切分chunk",
   "id": "245c9e4b521508d0"
  },
  {
   "metadata": {
    "ExecuteTime": {
     "end_time": "2024-07-02T15:42:13.177873Z",
     "start_time": "2024-07-02T15:42:13.175268Z"
    }
   },
   "cell_type": "code",
   "source": [
    "from langchain_text_splitters import RecursiveCharacterTextSplitter\n",
    "\n",
    "text_splitter = RecursiveCharacterTextSplitter(chunk_size=500, chunk_overlap=200) # 每500个字符为一块，两个块之间交替重合200个字符\n",
    "splits = text_splitter.split_documents(docs)\n",
    "print(splits)\n",
    "print(len(splits))"
   ],
   "id": "491265c7fe1146e3",
   "execution_count": 26,
   "outputs": []
  },
  {
   "metadata": {},
   "cell_type": "markdown",
   "source": "## Embedding",
   "id": "cfeecda54021901d"
  },
  {
   "metadata": {
    "ExecuteTime": {
     "end_time": "2024-07-02T15:43:02.841297Z",
     "start_time": "2024-07-02T15:42:59.636890Z"
    }
   },
   "cell_type": "code",
   "source": [
    "from langchain_chroma import Chroma\n",
    "from langchain_openai import OpenAIEmbeddings\n",
    "vectorstore = Chroma.from_documents(documents=splits, embedding=OpenAIEmbeddings())\n",
    "vectorstore.similarity_search(\"LangChain特点\",k=1)"
   ],
   "id": "4b59aa5001d0e431",
   "execution_count": 30,
   "outputs": []
  },
  {
   "metadata": {},
   "cell_type": "markdown",
   "source": "## 套入Prompt中生成",
   "id": "bed764b8f0f1f9f0"
  },
  {
   "metadata": {
    "ExecuteTime": {
     "end_time": "2024-07-02T15:43:12.026056Z",
     "start_time": "2024-07-02T15:43:09.729110Z"
    }
   },
   "cell_type": "code",
   "source": [
    "from langchain import hub\n",
    "from langchain_core.prompts import ChatPromptTemplate\n",
    "# Retrieve and generate using the relevant snippets of the blog.\n",
    "retriever = vectorstore.as_retriever()\n",
    "prompt = hub.pull(\"rlm/rag-prompt\") # 从LangChainhub上拿到已经写好的promot\n",
    "prompt.messages"
   ],
   "id": "da3eefe89a3a637f",
   "execution_count": 31,
   "outputs": []
  },
  {
   "metadata": {
    "ExecuteTime": {
     "end_time": "2024-07-02T15:43:19.412614Z",
     "start_time": "2024-07-02T15:43:14.789116Z"
    }
   },
   "cell_type": "code",
   "source": [
    "# 从上面看到，有两个参数，context，和question\n",
    "from langchain_core.output_parsers import StrOutputParser\n",
    "from langchain_openai import ChatOpenAI\n",
    "from langchain_core.runnables import RunnablePassthrough\n",
    "\n",
    "\n",
    "llm = ChatOpenAI(model=\"gpt-3.5-turbo-0125\")\n",
    "rag_chain = (\n",
    "    {\"context\": retriever , \"question\": RunnablePassthrough()}\n",
    "    | prompt\n",
    "    | llm\n",
    "    | StrOutputParser()\n",
    "    )\n",
    "\n",
    "rag_chain.invoke(\"LangChain是什么？\")"
   ],
   "id": "c62ad2f8cb1ea1c3",
   "execution_count": 32,
   "outputs": []
  },
  {
   "metadata": {},
   "cell_type": "markdown",
   "source": [
    "虽然上面已经拿到了答案，但是细看promot中发现，在从向量数据库中查找完后，format Prompt的时候没有format Document。\n",
    "所以，应该添加一个方法，在检索之后"
   ],
   "id": "df95ec46ffdc42c4"
  },
  {
   "metadata": {
    "ExecuteTime": {
     "end_time": "2024-07-02T15:52:06.575143Z",
     "start_time": "2024-07-02T15:52:01.619466Z"
    }
   },
   "cell_type": "code",
   "source": [
    "def format_docs(docs):\n",
    "    return \"\\n\\n\".join(doc.page_content for doc in docs)\n",
    "   \n",
    "rag_chain = (\n",
    "    {\"context\": retriever | format_docs, \"question\": RunnablePassthrough()}\n",
    "    | prompt\n",
    "    | llm\n",
    "    | StrOutputParser()\n",
    ")\n",
    "rag_chain.invoke(\"LangChain的特点是什么\")"
   ],
   "id": "43aae14a737d6f1b",
   "execution_count": 38,
   "outputs": []
  },
  {
   "metadata": {},
   "cell_type": "markdown",
   "source": "这一章只是介绍了RAG的基本思路和简单demo，在后续，会有复杂有趣的示例。",
   "id": "c1884e6b4108411e"
  }
 ],
 "metadata": {
  "kernelspec": {
   "display_name": "Python 3",
   "language": "python",
   "name": "python3"
  },
  "language_info": {
   "codemirror_mode": {
    "name": "ipython",
    "version": 2
   },
   "file_extension": ".py",
   "mimetype": "text/x-python",
   "name": "python",
   "nbconvert_exporter": "python",
   "pygments_lexer": "ipython2",
   "version": "2.7.6"
  }
 },
 "nbformat": 4,
 "nbformat_minor": 5
}
