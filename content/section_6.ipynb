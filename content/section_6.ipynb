{
 "cells": [
  {
   "metadata": {},
   "cell_type": "markdown",
   "source": [
    "# RAG检索增强\n",
    "\n",
    "## RAG是什么？\n",
    "\n",
    "RAG全称Retrieval augmented generation\n",
    "LLM是在一个固定庞大的数据集上训练的，这就导致一些数据他获取不到，比如最新的数据，虽然LLM提供了微调的方式，但这种方式也比较昂贵，所以就有了RAG，RAG是将相关的信息提供给LLM，基于这些信息来回答问题。所以，他是一种便宜并且实用的技术。\n",
    "\n",
    "RAG大体步骤如下\n",
    "\n",
    "1. 输入问题\n",
    "2. 在资料中找到和这个问题相关的数据\n",
    "3. 组成Prompt，和LLM交互\n",
    "\n",
    "\n",
    "## Embedding\n",
    "\n",
    "解决的是如何通过输入的问题找到相关的数据，这就说到向量化了。\n",
    "向量化就是将输入的一段文本或者任意形式的数据转换为一组数字，这些数字表示的是这组数据的特点，这些数据在数学上用向量表示，存储这些数据的数据库叫做向量数据库。\n",
    "具体可看：https://guangzhengli.com/blog/zh/vector-database/\n",
    "\n",
    "## RAG架构\n",
    "具体可看：https://python.langchain.com/v0.1/docs/use_cases/question_answering/#rag-architecture\n",
    "主要有两点\n",
    "1. Indexing\n",
    "    做数据索引和向量化\n",
    "2. 检索和生成\n",
    "    实际的RAG链，在运行时接收用户查询并从索引中检索相关数据，然后将其传递给模型。\n",
    "\n",
    "### Indexing\n",
    "![](../resource/img_6.png)\n",
    "分为三步\n",
    "1. 加载\n",
    "    加载数据，通过 DocumentLoaders.\n",
    "2. 切分\n",
    "    上一步加载后返回了Documents对象，这一步将它切分为小块，为了更好的索引和存储，大的快更难搜索，并且无法适应LLM的有限上下文窗口。\n",
    "3. 存储\n",
    "    将特征值存储\n",
    "### 检索和生成\n",
    "![](../resource/img_7.png)\n",
    "1. 检索\n",
    "    从存储中找到相关的数据，使用Retriever.\n",
    "2. 生成\n",
    "    在生成的Prompt中嵌入相关数据和用户输入问题，llm生成答案\n",
    "\n",
    "所以，在这章节中，步骤如下\n",
    "1. 加载资源\n",
    "2. 做Embedding，存储到向量数据库\n",
    "3. 输入问题，Embedding，在向量数据库中找相关文档\n",
    "4. 组成Prompt，和LLM交互"
   ],
   "id": "6b7c8a5d5847f225"
  },
  {
   "metadata": {},
   "cell_type": "markdown",
   "source": [
    "## 加载资源\n",
    "LangChain提供了很多的加载器，具体可看 \n",
    "\n",
    "https://api.python.langchain.com/en/latest/community_api_reference.html#module-langchain_community.document_loaders\n",
    "\n",
    "https://python.langchain.com/v0.1/docs/modules/data_connection/document_loaders/\n",
    "\n",
    "在这里，我们加载html"
   ],
   "id": "5b884201e9dd11a"
  },
  {
   "metadata": {
    "ExecuteTime": {
     "end_time": "2024-07-02T15:42:01.270075Z",
     "start_time": "2024-07-02T15:41:57.174055Z"
    }
   },
   "cell_type": "code",
   "source": [
    "from langchain_community.document_loaders import WebBaseLoader\n",
    "import langchain \n",
    "langchain.debug=True\n",
    "from langchain_text_splitters import RecursiveCharacterTextSplitter\n",
    "\n",
    "loader = WebBaseLoader(\n",
    "    web_paths=(\"https://daliuchen.github.io/langchain-guide/intro.html\",)\n",
    ")\n",
    "docs = loader.load()\n",
    "print(docs)"
   ],
   "id": "d06f15860eb1a7f",
   "outputs": [
    {
     "name": "stdout",
     "output_type": "stream",
     "text": [
      "[Document(page_content='\\n\\n\\n\\n\\n\\n欢迎来到我的langchain的学习手册 — langchan study guide\\n\\n\\n\\n\\n\\n\\n\\n\\n\\n\\n\\n\\n\\n\\n\\n\\n\\n\\n\\n\\n\\n\\n\\n\\n\\n\\n\\n\\n\\n\\n\\n\\n\\n\\n\\n\\n\\n\\n\\n\\n\\n\\n\\n\\nSkip to main content\\n\\n\\nBack to top\\n\\n\\n\\n\\n\\n\\n\\n\\n\\n\\nCtrl+K\\n\\n\\n\\n\\n\\n\\n\\n\\n\\n\\n\\n\\n\\n\\n\\n\\n\\n\\n\\n\\n\\n\\n\\n\\n\\n                    欢迎来到我的langchain的学习手册\\n                \\n\\n\\n\\nhappy path\\nLangChain Expression Language\\nPrompt templates\\nExample selectors\\nOutput parsers\\n\\n\\n\\n\\n\\n\\n\\n\\n\\n\\n\\n\\n\\n\\n\\n\\n\\n\\n\\n\\n\\n\\n\\n\\n\\n\\n\\n\\n\\n\\n\\nRepository\\n\\n\\n\\n\\n\\n\\nOpen issue\\n\\n\\n\\n\\n\\n\\n\\n\\n\\n\\n\\n\\n\\n.md\\n\\n\\n\\n\\n\\n\\n\\n.pdf\\n\\n\\n\\n\\n\\n\\n\\n\\n\\n\\n\\n\\n\\n\\n\\n\\n\\n\\n\\n欢迎来到我的langchain的学习手册\\n\\n\\n\\n\\n Contents \\n\\n\\n\\n欢迎来到我的langchain的学习手册\\nlangchain总述\\n一句话说清\\n是什么？\\n特点\\n整体架构\\n\\n\\n\\n\\n\\n\\n\\n\\n\\n\\n欢迎来到我的langchain的学习手册#\\nlangchain最近很火热，在这里记录我对langchain的学习。\\n欢迎大家一块添砖加瓦\\n\\n\\nlangchain总述#\\nlangchain官网：\\nhttps://python.langchain.com/v0.2/docs/introduction/\\n\\n一句话说清#\\n在和LLM交互的时候，首先需要写prompt，在调用LLM提供的API，解析输出。这里面就有三步，langchain将这三步抽象简化，并且提供了很多组件，他有强大的社区，\\n有很多好用的东西，方便我们开发LLM的应用程序\\n\\n\\n是什么？#\\n\\n基于大语言模型的开发框架（LLM）\\n大语言模型的一站式开发框架\\n\\n\\n\\n特点#\\n\\n简化了大语言模型开发的难度，将和模型交互的各个阶段做抽象组合。\\n提供了一站式的开发框架，包括开发，部署，观测\\n简化了llm应用生命周期阶段，包括\\n\\n开发：Langchain提供了很多的组件，模块来构建应用程序，并且有有强大的社区生态。\\n生产：LangSmith可以检查、监控和评估chain。\\n部署：LangServe可以将chain暴露给外部服务来使用（API）\\n\\n\\n\\n\\n\\n整体架构#\\n\\n如上图所示，langchain的库如下\\n\\nlangchain-core\\n对langchain的基础抽象和langchain表达式\\nlangchain-community\\n和第三方的整合（langchain是基于LLM的开发框架，他本身并不提供关于LLM的能力，它只是简化了和LLM交互的难度）\\n和一些模型的包（例如，langchain-openai、langchain-anthropic等），一些集成已经进一步分离为只依赖于langchain-core的独立轻量级包。\\nlangchain\\nChains、agents、和让应用程序有认知能力的检索策略（retrieval strategies）\\nlanggraph\\n通过将步骤建模为图中的边和节点，使用LLM构建健壮且有状态的多参与者应用程序。\\nlangserve\\n将chain变为REST APIs\\nLangSmith\\n一个开发者平台，让你调试、测试、评估和监控LLM应用程序。\\n\\n\\n\\n\\n\\n\\n\\n\\n\\n\\n\\n\\nnext\\nhappy path\\n\\n\\n\\n\\n\\n\\n\\n\\n\\n Contents\\n  \\n\\n\\n欢迎来到我的langchain的学习手册\\nlangchain总述\\n一句话说清\\n是什么？\\n特点\\n整体架构\\n\\n\\n\\n\\n\\n\\n\\n\\n\\n\\nBy liuchen\\n\\n\\n\\n\\n    \\n      © Copyright 2023.\\n      \\n\\n\\n\\n\\n\\n\\n\\n\\n\\n\\n\\n\\n\\n\\n\\n\\n\\n', metadata={'source': 'https://daliuchen.github.io/langchain-guide/intro.html', 'title': '欢迎来到我的langchain的学习手册 — langchan study guide', 'language': 'en'})]\n"
     ]
    }
   ],
   "execution_count": 23
  },
  {
   "metadata": {},
   "cell_type": "markdown",
   "source": "## 切分chunk",
   "id": "245c9e4b521508d0"
  },
  {
   "metadata": {
    "ExecuteTime": {
     "end_time": "2024-07-02T15:42:13.177873Z",
     "start_time": "2024-07-02T15:42:13.175268Z"
    }
   },
   "cell_type": "code",
   "source": [
    "from langchain_text_splitters import RecursiveCharacterTextSplitter\n",
    "\n",
    "text_splitter = RecursiveCharacterTextSplitter(chunk_size=500, chunk_overlap=200) # 每500个字符为一块，两个块之间交替重合200个字符\n",
    "splits = text_splitter.split_documents(docs)\n",
    "print(splits)\n",
    "print(len(splits))"
   ],
   "id": "491265c7fe1146e3",
   "outputs": [
    {
     "name": "stdout",
     "output_type": "stream",
     "text": [
      "[Document(page_content='欢迎来到我的langchain的学习手册 — langchan study guide\\n\\n\\n\\n\\n\\n\\n\\n\\n\\n\\n\\n\\n\\n\\n\\n\\n\\n\\n\\n\\n\\n\\n\\n\\n\\n\\n\\n\\n\\n\\n\\n\\n\\n\\n\\n\\n\\n\\n\\n\\n\\n\\n\\n\\nSkip to main content\\n\\n\\nBack to top\\n\\n\\n\\n\\n\\n\\n\\n\\n\\n\\nCtrl+K\\n\\n\\n\\n\\n\\n\\n\\n\\n\\n\\n\\n\\n\\n\\n\\n\\n\\n\\n\\n\\n\\n\\n\\n\\n\\n                    欢迎来到我的langchain的学习手册\\n                \\n\\n\\n\\nhappy path\\nLangChain Expression Language\\nPrompt templates\\nExample selectors\\nOutput parsers\\n\\n\\n\\n\\n\\n\\n\\n\\n\\n\\n\\n\\n\\n\\n\\n\\n\\n\\n\\n\\n\\n\\n\\n\\n\\n\\n\\n\\n\\n\\n\\nRepository\\n\\n\\n\\n\\n\\n\\nOpen issue\\n\\n\\n\\n\\n\\n\\n\\n\\n\\n\\n\\n\\n\\n.md\\n\\n\\n\\n\\n\\n\\n\\n.pdf\\n\\n\\n\\n\\n\\n\\n\\n\\n\\n\\n\\n\\n\\n\\n\\n\\n\\n\\n\\n欢迎来到我的langchain的学习手册\\n\\n\\n\\n\\n Contents', metadata={'source': 'https://daliuchen.github.io/langchain-guide/intro.html', 'title': '欢迎来到我的langchain的学习手册 — langchan study guide', 'language': 'en'}), Document(page_content='Repository\\n\\n\\n\\n\\n\\n\\nOpen issue\\n\\n\\n\\n\\n\\n\\n\\n\\n\\n\\n\\n\\n\\n.md\\n\\n\\n\\n\\n\\n\\n\\n.pdf\\n\\n\\n\\n\\n\\n\\n\\n\\n\\n\\n\\n\\n\\n\\n\\n\\n\\n\\n\\n欢迎来到我的langchain的学习手册\\n\\n\\n\\n\\n Contents \\n\\n\\n\\n欢迎来到我的langchain的学习手册\\nlangchain总述\\n一句话说清\\n是什么？\\n特点\\n整体架构\\n\\n\\n\\n\\n\\n\\n\\n\\n\\n\\n欢迎来到我的langchain的学习手册#\\nlangchain最近很火热，在这里记录我对langchain的学习。\\n欢迎大家一块添砖加瓦\\n\\n\\nlangchain总述#\\nlangchain官网：\\nhttps://python.langchain.com/v0.2/docs/introduction/\\n\\n一句话说清#\\n在和LLM交互的时候，首先需要写prompt，在调用LLM提供的API，解析输出。这里面就有三步，langchain将这三步抽象简化，并且提供了很多组件，他有强大的社区，\\n有很多好用的东西，方便我们开发LLM的应用程序\\n\\n\\n是什么？#', metadata={'source': 'https://daliuchen.github.io/langchain-guide/intro.html', 'title': '欢迎来到我的langchain的学习手册 — langchan study guide', 'language': 'en'}), Document(page_content='一句话说清#\\n在和LLM交互的时候，首先需要写prompt，在调用LLM提供的API，解析输出。这里面就有三步，langchain将这三步抽象简化，并且提供了很多组件，他有强大的社区，\\n有很多好用的东西，方便我们开发LLM的应用程序\\n\\n\\n是什么？#\\n\\n基于大语言模型的开发框架（LLM）\\n大语言模型的一站式开发框架\\n\\n\\n\\n特点#\\n\\n简化了大语言模型开发的难度，将和模型交互的各个阶段做抽象组合。\\n提供了一站式的开发框架，包括开发，部署，观测\\n简化了llm应用生命周期阶段，包括\\n\\n开发：Langchain提供了很多的组件，模块来构建应用程序，并且有有强大的社区生态。\\n生产：LangSmith可以检查、监控和评估chain。\\n部署：LangServe可以将chain暴露给外部服务来使用（API）\\n\\n\\n\\n\\n\\n整体架构#\\n\\n如上图所示，langchain的库如下', metadata={'source': 'https://daliuchen.github.io/langchain-guide/intro.html', 'title': '欢迎来到我的langchain的学习手册 — langchan study guide', 'language': 'en'}), Document(page_content='整体架构#\\n\\n如上图所示，langchain的库如下\\n\\nlangchain-core\\n对langchain的基础抽象和langchain表达式\\nlangchain-community\\n和第三方的整合（langchain是基于LLM的开发框架，他本身并不提供关于LLM的能力，它只是简化了和LLM交互的难度）\\n和一些模型的包（例如，langchain-openai、langchain-anthropic等），一些集成已经进一步分离为只依赖于langchain-core的独立轻量级包。\\nlangchain\\nChains、agents、和让应用程序有认知能力的检索策略（retrieval strategies）\\nlanggraph\\n通过将步骤建模为图中的边和节点，使用LLM构建健壮且有状态的多参与者应用程序。\\nlangserve\\n将chain变为REST APIs\\nLangSmith\\n一个开发者平台，让你调试、测试、评估和监控LLM应用程序。\\n\\n\\n\\n\\n\\n\\n\\n\\n\\n\\n\\n\\nnext\\nhappy path\\n\\n\\n\\n\\n\\n\\n\\n\\n\\n Contents', metadata={'source': 'https://daliuchen.github.io/langchain-guide/intro.html', 'title': '欢迎来到我的langchain的学习手册 — langchan study guide', 'language': 'en'}), Document(page_content='next\\nhappy path\\n\\n\\n\\n\\n\\n\\n\\n\\n\\n Contents\\n  \\n\\n\\n欢迎来到我的langchain的学习手册\\nlangchain总述\\n一句话说清\\n是什么？\\n特点\\n整体架构\\n\\n\\n\\n\\n\\n\\n\\n\\n\\n\\nBy liuchen\\n\\n\\n\\n\\n    \\n      © Copyright 2023.', metadata={'source': 'https://daliuchen.github.io/langchain-guide/intro.html', 'title': '欢迎来到我的langchain的学习手册 — langchan study guide', 'language': 'en'})]\n",
      "5\n"
     ]
    }
   ],
   "execution_count": 26
  },
  {
   "metadata": {},
   "cell_type": "markdown",
   "source": "## Embedding",
   "id": "cfeecda54021901d"
  },
  {
   "metadata": {
    "ExecuteTime": {
     "end_time": "2024-07-02T15:43:02.841297Z",
     "start_time": "2024-07-02T15:42:59.636890Z"
    }
   },
   "cell_type": "code",
   "source": [
    "from langchain_chroma import Chroma\n",
    "from langchain_openai import OpenAIEmbeddings\n",
    "vectorstore = Chroma.from_documents(documents=splits, embedding=OpenAIEmbeddings())\n",
    "vectorstore.similarity_search(\"LangChain特点\",k=1)"
   ],
   "id": "4b59aa5001d0e431",
   "outputs": [
    {
     "data": {
      "text/plain": [
       "[Document(page_content='一句话说清#\\n在和LLM交互的时候，首先需要写prompt，在调用LLM提供的API，解析输出。这里面就有三步，langchain将这三步抽象简化，并且提供了很多组件，他有强大的社区，\\n有很多好用的东西，方便我们开发LLM的应用程序\\n\\n\\n是什么？#\\n\\n基于大语言模型的开发框架（LLM）\\n大语言模型的一站式开发框架\\n\\n\\n\\n特点#\\n\\n简化了大语言模型开发的难度，将和模型交互的各个阶段做抽象组合。\\n提供了一站式的开发框架，包括开发，部署，观测\\n简化了llm应用生命周期阶段，包括\\n\\n开发：Langchain提供了很多的组件，模块来构建应用程序，并且有有强大的社区生态。\\n生产：LangSmith可以检查、监控和评估chain。\\n部署：LangServe可以将chain暴露给外部服务来使用（API）\\n\\n\\n\\n\\n\\n整体架构#\\n\\n如上图所示，langchain的库如下', metadata={'language': 'en', 'source': 'https://daliuchen.github.io/langchain-guide/intro.html', 'title': '欢迎来到我的langchain的学习手册 — langchan study guide'})]"
      ]
     },
     "execution_count": 30,
     "metadata": {},
     "output_type": "execute_result"
    }
   ],
   "execution_count": 30
  },
  {
   "metadata": {},
   "cell_type": "markdown",
   "source": "## 套入Prompt中生成",
   "id": "bed764b8f0f1f9f0"
  },
  {
   "metadata": {
    "ExecuteTime": {
     "end_time": "2024-07-02T15:43:12.026056Z",
     "start_time": "2024-07-02T15:43:09.729110Z"
    }
   },
   "cell_type": "code",
   "source": [
    "from langchain import hub\n",
    "from langchain_core.prompts import ChatPromptTemplate\n",
    "# Retrieve and generate using the relevant snippets of the blog.\n",
    "retriever = vectorstore.as_retriever()\n",
    "prompt = hub.pull(\"rlm/rag-prompt\") # 从LangChainhub上拿到已经写好的promot\n",
    "prompt.messages"
   ],
   "id": "da3eefe89a3a637f",
   "outputs": [
    {
     "data": {
      "text/plain": [
       "[HumanMessagePromptTemplate(prompt=PromptTemplate(input_variables=['context', 'question'], template=\"You are an assistant for question-answering tasks. Use the following pieces of retrieved context to answer the question. If you don't know the answer, just say that you don't know. Use three sentences maximum and keep the answer concise.\\nQuestion: {question} \\nContext: {context} \\nAnswer:\"))]"
      ]
     },
     "execution_count": 31,
     "metadata": {},
     "output_type": "execute_result"
    }
   ],
   "execution_count": 31
  },
  {
   "metadata": {
    "ExecuteTime": {
     "end_time": "2024-07-02T15:43:19.412614Z",
     "start_time": "2024-07-02T15:43:14.789116Z"
    }
   },
   "cell_type": "code",
   "source": [
    "# 从上面看到，有两个参数，context，和question\n",
    "from langchain_core.output_parsers import StrOutputParser\n",
    "from langchain_openai import ChatOpenAI\n",
    "from langchain_core.runnables import RunnablePassthrough\n",
    "\n",
    "\n",
    "llm = ChatOpenAI(model=\"gpt-3.5-turbo-0125\")\n",
    "rag_chain = (\n",
    "    {\"context\": retriever , \"question\": RunnablePassthrough()}\n",
    "    | prompt\n",
    "    | llm\n",
    "    | StrOutputParser()\n",
    "    )\n",
    "\n",
    "rag_chain.invoke(\"LangChain是什么？\")"
   ],
   "id": "c62ad2f8cb1ea1c3",
   "outputs": [
    {
     "name": "stdout",
     "output_type": "stream",
     "text": [
      "\u001B[32;1m\u001B[1;3m[chain/start]\u001B[0m \u001B[1m[chain:RunnableSequence] Entering Chain run with input:\n",
      "\u001B[0m{\n",
      "  \"input\": \"LangChain是什么？\"\n",
      "}\n",
      "\u001B[32;1m\u001B[1;3m[chain/start]\u001B[0m \u001B[1m[chain:RunnableSequence > chain:RunnableParallel<context,question>] Entering Chain run with input:\n",
      "\u001B[0m{\n",
      "  \"input\": \"LangChain是什么？\"\n",
      "}\n",
      "\u001B[32;1m\u001B[1;3m[chain/start]\u001B[0m \u001B[1m[chain:RunnableSequence > chain:RunnableParallel<context,question> > chain:RunnablePassthrough] Entering Chain run with input:\n",
      "\u001B[0m{\n",
      "  \"input\": \"LangChain是什么？\"\n",
      "}\n",
      "\u001B[36;1m\u001B[1;3m[chain/end]\u001B[0m \u001B[1m[chain:RunnableSequence > chain:RunnableParallel<context,question> > chain:RunnablePassthrough] [0ms] Exiting Chain run with output:\n",
      "\u001B[0m{\n",
      "  \"output\": \"LangChain是什么？\"\n",
      "}\n",
      "\u001B[36;1m\u001B[1;3m[chain/end]\u001B[0m \u001B[1m[chain:RunnableSequence > chain:RunnableParallel<context,question>] [1.85s] Exiting Chain run with output:\n",
      "\u001B[0m[outputs]\n",
      "\u001B[32;1m\u001B[1;3m[chain/start]\u001B[0m \u001B[1m[chain:RunnableSequence > prompt:ChatPromptTemplate] Entering Prompt run with input:\n",
      "\u001B[0m[inputs]\n",
      "\u001B[36;1m\u001B[1;3m[chain/end]\u001B[0m \u001B[1m[chain:RunnableSequence > prompt:ChatPromptTemplate] [1ms] Exiting Prompt run with output:\n",
      "\u001B[0m[outputs]\n",
      "\u001B[32;1m\u001B[1;3m[llm/start]\u001B[0m \u001B[1m[chain:RunnableSequence > llm:ChatOpenAI] Entering LLM run with input:\n",
      "\u001B[0m{\n",
      "  \"prompts\": [\n",
      "    \"Human: You are an assistant for question-answering tasks. Use the following pieces of retrieved context to answer the question. If you don't know the answer, just say that you don't know. Use three sentences maximum and keep the answer concise.\\nQuestion: LangChain是什么？ \\nContext: [Document(page_content='Repository\\\\n\\\\n\\\\n\\\\n\\\\n\\\\n\\\\nOpen issue\\\\n\\\\n\\\\n\\\\n\\\\n\\\\n\\\\n\\\\n\\\\n\\\\n\\\\n\\\\n\\\\n\\\\n.md\\\\n\\\\n\\\\n\\\\n\\\\n\\\\n\\\\n\\\\n.pdf\\\\n\\\\n\\\\n\\\\n\\\\n\\\\n\\\\n\\\\n\\\\n\\\\n\\\\n\\\\n\\\\n\\\\n\\\\n\\\\n\\\\n\\\\n\\\\n\\\\n欢迎来到我的langchain的学习手册\\\\n\\\\n\\\\n\\\\n\\\\n Contents \\\\n\\\\n\\\\n\\\\n欢迎来到我的langchain的学习手册\\\\nlangchain总述\\\\n一句话说清\\\\n是什么？\\\\n特点\\\\n整体架构\\\\n\\\\n\\\\n\\\\n\\\\n\\\\n\\\\n\\\\n\\\\n\\\\n\\\\n欢迎来到我的langchain的学习手册#\\\\nlangchain最近很火热，在这里记录我对langchain的学习。\\\\n欢迎大家一块添砖加瓦\\\\n\\\\n\\\\nlangchain总述#\\\\nlangchain官网：\\\\nhttps://python.langchain.com/v0.2/docs/introduction/\\\\n\\\\n一句话说清#\\\\n在和LLM交互的时候，首先需要写prompt，在调用LLM提供的API，解析输出。这里面就有三步，langchain将这三步抽象简化，并且提供了很多组件，他有强大的社区，\\\\n有很多好用的东西，方便我们开发LLM的应用程序\\\\n\\\\n\\\\n是什么？#', metadata={'language': 'en', 'source': 'https://daliuchen.github.io/langchain-guide/intro.html', 'title': '欢迎来到我的langchain的学习手册 — langchan study guide'}), Document(page_content='Repository\\\\n\\\\n\\\\n\\\\n\\\\n\\\\n\\\\nOpen issue\\\\n\\\\n\\\\n\\\\n\\\\n\\\\n\\\\n\\\\n\\\\n\\\\n\\\\n\\\\n\\\\n\\\\n.md\\\\n\\\\n\\\\n\\\\n\\\\n\\\\n\\\\n\\\\n.pdf\\\\n\\\\n\\\\n\\\\n\\\\n\\\\n\\\\n\\\\n\\\\n\\\\n\\\\n\\\\n\\\\n\\\\n\\\\n\\\\n\\\\n\\\\n\\\\n\\\\n欢迎来到我的langchain的学习手册\\\\n\\\\n\\\\n\\\\n\\\\n Contents \\\\n\\\\n\\\\n\\\\n欢迎来到我的langchain的学习手册\\\\nlangchain总述\\\\n一句话说清\\\\n是什么？\\\\n特点\\\\n整体架构\\\\n\\\\n\\\\n\\\\n\\\\n\\\\n\\\\n\\\\n\\\\n\\\\n\\\\n欢迎来到我的langchain的学习手册#\\\\nlangchain最近很火热，在这里记录我对langchain的学习。\\\\n欢迎大家一块添砖加瓦\\\\n\\\\n\\\\nlangchain总述#\\\\nlangchain官网：\\\\nhttps://python.langchain.com/v0.2/docs/introduction/\\\\n\\\\n一句话说清#\\\\n在和LLM交互的时候，首先需要写prompt，在调用LLM提供的API，解析输出。这里面就有三步，langchain将这三步抽象简化，并且提供了很多组件，他有强大的社区，\\\\n有很多好用的东西，方便我们开发LLM的应用程序\\\\n\\\\n\\\\n是什么？#', metadata={'language': 'en', 'source': 'https://daliuchen.github.io/langchain-guide/intro.html', 'title': '欢迎来到我的langchain的学习手册 — langchan study guide'}), Document(page_content='Repository\\\\n\\\\n\\\\n\\\\n\\\\n\\\\n\\\\nOpen issue\\\\n\\\\n\\\\n\\\\n\\\\n\\\\n\\\\n\\\\n\\\\n\\\\n\\\\n\\\\n\\\\n\\\\n.md\\\\n\\\\n\\\\n\\\\n\\\\n\\\\n\\\\n\\\\n.pdf\\\\n\\\\n\\\\n\\\\n\\\\n\\\\n\\\\n\\\\n\\\\n\\\\n\\\\n\\\\n\\\\n\\\\n\\\\n\\\\n\\\\n\\\\n\\\\n\\\\n欢迎来到我的langchain的学习手册\\\\n\\\\n\\\\n\\\\n\\\\n Contents \\\\n\\\\n\\\\n\\\\n欢迎来到我的langchain的学习手册\\\\nlangchain总述\\\\n一句话说清\\\\n是什么？\\\\n特点\\\\n整体架构\\\\n\\\\n\\\\n\\\\n\\\\n\\\\n\\\\n\\\\n\\\\n\\\\n\\\\n欢迎来到我的langchain的学习手册#\\\\nlangchain最近很火热，在这里记录我对langchain的学习。\\\\n欢迎大家一块添砖加瓦\\\\n\\\\n\\\\nlangchain总述#\\\\nlangchain官网：\\\\nhttps://python.langchain.com/v0.2/docs/introduction/\\\\n\\\\n一句话说清#\\\\n在和LLM交互的时候，首先需要写prompt，在调用LLM提供的API，解析输出。这里面就有三步，langchain将这三步抽象简化，并且提供了很多组件，他有强大的社区，\\\\n有很多好用的东西，方便我们开发LLM的应用程序\\\\n\\\\n\\\\n是什么？#', metadata={'language': 'en', 'source': 'https://daliuchen.github.io/langchain-guide/intro.html', 'title': '欢迎来到我的langchain的学习手册 — langchan study guide'}), Document(page_content='Repository\\\\n\\\\n\\\\n\\\\n\\\\n\\\\n\\\\nOpen issue\\\\n\\\\n\\\\n\\\\n\\\\n\\\\n\\\\n\\\\n\\\\n\\\\n\\\\n\\\\n\\\\n\\\\n.md\\\\n\\\\n\\\\n\\\\n\\\\n\\\\n\\\\n\\\\n.pdf\\\\n\\\\n\\\\n\\\\n\\\\n\\\\n\\\\n\\\\n\\\\n\\\\n\\\\n\\\\n\\\\n\\\\n\\\\n\\\\n\\\\n\\\\n\\\\n\\\\n欢迎来到我的langchain的学习手册\\\\n\\\\n\\\\n\\\\n\\\\n Contents \\\\n\\\\n\\\\n\\\\n欢迎来到我的langchain的学习手册\\\\nlangchain总述\\\\n一句话说清\\\\n是什么？\\\\n特点\\\\n整体架构\\\\n\\\\n\\\\n\\\\n\\\\n\\\\n\\\\n\\\\n\\\\n\\\\n\\\\n欢迎来到我的langchain的学习手册#\\\\nlangchain最近很火热，在这里记录我对langchain的学习。\\\\n欢迎大家一块添砖加瓦\\\\n\\\\n\\\\nlangchain总述#\\\\nlangchain官网：\\\\nhttps://python.langchain.com/v0.2/docs/introduction/\\\\n\\\\n一句话说清#\\\\n在和LLM交互的时候，首先需要写prompt，在调用LLM提供的API，解析输出。这里面就有三步，langchain将这三步抽象简化，并且提供了很多组件，他有强大的社区，\\\\n有很多好用的东西，方便我们开发LLM的应用程序\\\\n\\\\n\\\\n是什么？#', metadata={'language': 'en', 'source': 'https://daliuchen.github.io/langchain-guide/intro.html', 'title': '欢迎来到我的langchain的学习手册 — langchan study guide'})] \\nAnswer:\"\n",
      "  ]\n",
      "}\n",
      "\u001B[36;1m\u001B[1;3m[llm/end]\u001B[0m \u001B[1m[chain:RunnableSequence > llm:ChatOpenAI] [2.66s] Exiting LLM run with output:\n",
      "\u001B[0m{\n",
      "  \"generations\": [\n",
      "    [\n",
      "      {\n",
      "        \"text\": \"LangChain是一个允许用户与LLM交互的平台，简化了写prompt、调用API和解析输出的步骤，并提供了许多组件和社区支持。您可以在https://python.langchain.com/v0.2/docs/introduction/找到官方网站。\",\n",
      "        \"generation_info\": {\n",
      "          \"finish_reason\": \"stop\",\n",
      "          \"logprobs\": null\n",
      "        },\n",
      "        \"type\": \"ChatGeneration\",\n",
      "        \"message\": {\n",
      "          \"lc\": 1,\n",
      "          \"type\": \"constructor\",\n",
      "          \"id\": [\n",
      "            \"langchain\",\n",
      "            \"schema\",\n",
      "            \"messages\",\n",
      "            \"AIMessage\"\n",
      "          ],\n",
      "          \"kwargs\": {\n",
      "            \"content\": \"LangChain是一个允许用户与LLM交互的平台，简化了写prompt、调用API和解析输出的步骤，并提供了许多组件和社区支持。您可以在https://python.langchain.com/v0.2/docs/introduction/找到官方网站。\",\n",
      "            \"response_metadata\": {\n",
      "              \"token_usage\": {\n",
      "                \"completion_tokens\": 77,\n",
      "                \"prompt_tokens\": 1649,\n",
      "                \"total_tokens\": 1726\n",
      "              },\n",
      "              \"model_name\": \"gpt-3.5-turbo-0125\",\n",
      "              \"system_fingerprint\": null,\n",
      "              \"finish_reason\": \"stop\",\n",
      "              \"logprobs\": null\n",
      "            },\n",
      "            \"type\": \"ai\",\n",
      "            \"id\": \"run-700f9b25-fff5-47c1-a2ad-99d29d4bbc8f-0\",\n",
      "            \"usage_metadata\": {\n",
      "              \"input_tokens\": 1649,\n",
      "              \"output_tokens\": 77,\n",
      "              \"total_tokens\": 1726\n",
      "            },\n",
      "            \"tool_calls\": [],\n",
      "            \"invalid_tool_calls\": []\n",
      "          }\n",
      "        }\n",
      "      }\n",
      "    ]\n",
      "  ],\n",
      "  \"llm_output\": {\n",
      "    \"token_usage\": {\n",
      "      \"completion_tokens\": 77,\n",
      "      \"prompt_tokens\": 1649,\n",
      "      \"total_tokens\": 1726\n",
      "    },\n",
      "    \"model_name\": \"gpt-3.5-turbo-0125\",\n",
      "    \"system_fingerprint\": null\n",
      "  },\n",
      "  \"run\": null\n",
      "}\n",
      "\u001B[32;1m\u001B[1;3m[chain/start]\u001B[0m \u001B[1m[chain:RunnableSequence > parser:StrOutputParser] Entering Parser run with input:\n",
      "\u001B[0m[inputs]\n",
      "\u001B[36;1m\u001B[1;3m[chain/end]\u001B[0m \u001B[1m[chain:RunnableSequence > parser:StrOutputParser] [1ms] Exiting Parser run with output:\n",
      "\u001B[0m{\n",
      "  \"output\": \"LangChain是一个允许用户与LLM交互的平台，简化了写prompt、调用API和解析输出的步骤，并提供了许多组件和社区支持。您可以在https://python.langchain.com/v0.2/docs/introduction/找到官方网站。\"\n",
      "}\n",
      "\u001B[36;1m\u001B[1;3m[chain/end]\u001B[0m \u001B[1m[chain:RunnableSequence] [4.52s] Exiting Chain run with output:\n",
      "\u001B[0m{\n",
      "  \"output\": \"LangChain是一个允许用户与LLM交互的平台，简化了写prompt、调用API和解析输出的步骤，并提供了许多组件和社区支持。您可以在https://python.langchain.com/v0.2/docs/introduction/找到官方网站。\"\n",
      "}\n"
     ]
    },
    {
     "data": {
      "text/plain": [
       "'LangChain是一个允许用户与LLM交互的平台，简化了写prompt、调用API和解析输出的步骤，并提供了许多组件和社区支持。您可以在https://python.langchain.com/v0.2/docs/introduction/找到官方网站。'"
      ]
     },
     "execution_count": 32,
     "metadata": {},
     "output_type": "execute_result"
    }
   ],
   "execution_count": 32
  },
  {
   "metadata": {},
   "cell_type": "markdown",
   "source": [
    "虽然上面已经拿到了答案，但是细看promot中发现，在从向量数据库中查找完后，format Prompt的时候没有format Document。\n",
    "所以，应该添加一个方法，在检索之后"
   ],
   "id": "df95ec46ffdc42c4"
  },
  {
   "metadata": {
    "ExecuteTime": {
     "end_time": "2024-07-02T15:52:06.575143Z",
     "start_time": "2024-07-02T15:52:01.619466Z"
    }
   },
   "cell_type": "code",
   "source": [
    "def format_docs(docs):\n",
    "    return \"\\n\\n\".join(doc.page_content for doc in docs)\n",
    "   \n",
    "rag_chain = (\n",
    "    {\"context\": retriever | format_docs, \"question\": RunnablePassthrough()}\n",
    "    | prompt\n",
    "    | llm\n",
    "    | StrOutputParser()\n",
    ")\n",
    "rag_chain.invoke(\"LangChain的特点是什么\")"
   ],
   "id": "43aae14a737d6f1b",
   "outputs": [
    {
     "name": "stdout",
     "output_type": "stream",
     "text": [
      "\u001B[32;1m\u001B[1;3m[chain/start]\u001B[0m \u001B[1m[chain:RunnableSequence] Entering Chain run with input:\n",
      "\u001B[0m{\n",
      "  \"input\": \"LangChain的特点是什么\"\n",
      "}\n",
      "\u001B[32;1m\u001B[1;3m[chain/start]\u001B[0m \u001B[1m[chain:RunnableSequence > chain:RunnableParallel<context,question>] Entering Chain run with input:\n",
      "\u001B[0m{\n",
      "  \"input\": \"LangChain的特点是什么\"\n",
      "}\n",
      "\u001B[32;1m\u001B[1;3m[chain/start]\u001B[0m \u001B[1m[chain:RunnableSequence > chain:RunnableParallel<context,question> > chain:RunnablePassthrough] Entering Chain run with input:\n",
      "\u001B[0m{\n",
      "  \"input\": \"LangChain的特点是什么\"\n",
      "}\n",
      "\u001B[36;1m\u001B[1;3m[chain/end]\u001B[0m \u001B[1m[chain:RunnableSequence > chain:RunnableParallel<context,question> > chain:RunnablePassthrough] [1ms] Exiting Chain run with output:\n",
      "\u001B[0m{\n",
      "  \"output\": \"LangChain的特点是什么\"\n",
      "}\n",
      "\u001B[32;1m\u001B[1;3m[chain/start]\u001B[0m \u001B[1m[chain:RunnableSequence > chain:RunnableParallel<context,question> > chain:RunnableSequence] Entering Chain run with input:\n",
      "\u001B[0m{\n",
      "  \"input\": \"LangChain的特点是什么\"\n",
      "}\n",
      "\u001B[32;1m\u001B[1;3m[chain/start]\u001B[0m \u001B[1m[chain:RunnableSequence > chain:RunnableParallel<context,question> > chain:RunnableSequence > chain:format_docs] Entering Chain run with input:\n",
      "\u001B[0m[inputs]\n",
      "\u001B[36;1m\u001B[1;3m[chain/end]\u001B[0m \u001B[1m[chain:RunnableSequence > chain:RunnableParallel<context,question> > chain:RunnableSequence > chain:format_docs] [2ms] Exiting Chain run with output:\n",
      "\u001B[0m{\n",
      "  \"output\": \"一句话说清#\\n在和LLM交互的时候，首先需要写prompt，在调用LLM提供的API，解析输出。这里面就有三步，langchain将这三步抽象简化，并且提供了很多组件，他有强大的社区，\\n有很多好用的东西，方便我们开发LLM的应用程序\\n\\n\\n是什么？#\\n\\n基于大语言模型的开发框架（LLM）\\n大语言模型的一站式开发框架\\n\\n\\n\\n特点#\\n\\n简化了大语言模型开发的难度，将和模型交互的各个阶段做抽象组合。\\n提供了一站式的开发框架，包括开发，部署，观测\\n简化了llm应用生命周期阶段，包括\\n\\n开发：Langchain提供了很多的组件，模块来构建应用程序，并且有有强大的社区生态。\\n生产：LangSmith可以检查、监控和评估chain。\\n部署：LangServe可以将chain暴露给外部服务来使用（API）\\n\\n\\n\\n\\n\\n整体架构#\\n\\n如上图所示，langchain的库如下\\n\\n一句话说清#\\n在和LLM交互的时候，首先需要写prompt，在调用LLM提供的API，解析输出。这里面就有三步，langchain将这三步抽象简化，并且提供了很多组件，他有强大的社区，\\n有很多好用的东西，方便我们开发LLM的应用程序\\n\\n\\n是什么？#\\n\\n基于大语言模型的开发框架（LLM）\\n大语言模型的一站式开发框架\\n\\n\\n\\n特点#\\n\\n简化了大语言模型开发的难度，将和模型交互的各个阶段做抽象组合。\\n提供了一站式的开发框架，包括开发，部署，观测\\n简化了llm应用生命周期阶段，包括\\n\\n开发：Langchain提供了很多的组件，模块来构建应用程序，并且有有强大的社区生态。\\n生产：LangSmith可以检查、监控和评估chain。\\n部署：LangServe可以将chain暴露给外部服务来使用（API）\\n\\n\\n\\n\\n\\n整体架构#\\n\\n如上图所示，langchain的库如下\\n\\n一句话说清#\\n在和LLM交互的时候，首先需要写prompt，在调用LLM提供的API，解析输出。这里面就有三步，langchain将这三步抽象简化，并且提供了很多组件，他有强大的社区，\\n有很多好用的东西，方便我们开发LLM的应用程序\\n\\n\\n是什么？#\\n\\n基于大语言模型的开发框架（LLM）\\n大语言模型的一站式开发框架\\n\\n\\n\\n特点#\\n\\n简化了大语言模型开发的难度，将和模型交互的各个阶段做抽象组合。\\n提供了一站式的开发框架，包括开发，部署，观测\\n简化了llm应用生命周期阶段，包括\\n\\n开发：Langchain提供了很多的组件，模块来构建应用程序，并且有有强大的社区生态。\\n生产：LangSmith可以检查、监控和评估chain。\\n部署：LangServe可以将chain暴露给外部服务来使用（API）\\n\\n\\n\\n\\n\\n整体架构#\\n\\n如上图所示，langchain的库如下\\n\\n一句话说清#\\n在和LLM交互的时候，首先需要写prompt，在调用LLM提供的API，解析输出。这里面就有三步，langchain将这三步抽象简化，并且提供了很多组件，他有强大的社区，\\n有很多好用的东西，方便我们开发LLM的应用程序\\n\\n\\n是什么？#\\n\\n基于大语言模型的开发框架（LLM）\\n大语言模型的一站式开发框架\\n\\n\\n\\n特点#\\n\\n简化了大语言模型开发的难度，将和模型交互的各个阶段做抽象组合。\\n提供了一站式的开发框架，包括开发，部署，观测\\n简化了llm应用生命周期阶段，包括\\n\\n开发：Langchain提供了很多的组件，模块来构建应用程序，并且有有强大的社区生态。\\n生产：LangSmith可以检查、监控和评估chain。\\n部署：LangServe可以将chain暴露给外部服务来使用（API）\\n\\n\\n\\n\\n\\n整体架构#\\n\\n如上图所示，langchain的库如下\"\n",
      "}\n",
      "\u001B[36;1m\u001B[1;3m[chain/end]\u001B[0m \u001B[1m[chain:RunnableSequence > chain:RunnableParallel<context,question> > chain:RunnableSequence] [1.26s] Exiting Chain run with output:\n",
      "\u001B[0m{\n",
      "  \"output\": \"一句话说清#\\n在和LLM交互的时候，首先需要写prompt，在调用LLM提供的API，解析输出。这里面就有三步，langchain将这三步抽象简化，并且提供了很多组件，他有强大的社区，\\n有很多好用的东西，方便我们开发LLM的应用程序\\n\\n\\n是什么？#\\n\\n基于大语言模型的开发框架（LLM）\\n大语言模型的一站式开发框架\\n\\n\\n\\n特点#\\n\\n简化了大语言模型开发的难度，将和模型交互的各个阶段做抽象组合。\\n提供了一站式的开发框架，包括开发，部署，观测\\n简化了llm应用生命周期阶段，包括\\n\\n开发：Langchain提供了很多的组件，模块来构建应用程序，并且有有强大的社区生态。\\n生产：LangSmith可以检查、监控和评估chain。\\n部署：LangServe可以将chain暴露给外部服务来使用（API）\\n\\n\\n\\n\\n\\n整体架构#\\n\\n如上图所示，langchain的库如下\\n\\n一句话说清#\\n在和LLM交互的时候，首先需要写prompt，在调用LLM提供的API，解析输出。这里面就有三步，langchain将这三步抽象简化，并且提供了很多组件，他有强大的社区，\\n有很多好用的东西，方便我们开发LLM的应用程序\\n\\n\\n是什么？#\\n\\n基于大语言模型的开发框架（LLM）\\n大语言模型的一站式开发框架\\n\\n\\n\\n特点#\\n\\n简化了大语言模型开发的难度，将和模型交互的各个阶段做抽象组合。\\n提供了一站式的开发框架，包括开发，部署，观测\\n简化了llm应用生命周期阶段，包括\\n\\n开发：Langchain提供了很多的组件，模块来构建应用程序，并且有有强大的社区生态。\\n生产：LangSmith可以检查、监控和评估chain。\\n部署：LangServe可以将chain暴露给外部服务来使用（API）\\n\\n\\n\\n\\n\\n整体架构#\\n\\n如上图所示，langchain的库如下\\n\\n一句话说清#\\n在和LLM交互的时候，首先需要写prompt，在调用LLM提供的API，解析输出。这里面就有三步，langchain将这三步抽象简化，并且提供了很多组件，他有强大的社区，\\n有很多好用的东西，方便我们开发LLM的应用程序\\n\\n\\n是什么？#\\n\\n基于大语言模型的开发框架（LLM）\\n大语言模型的一站式开发框架\\n\\n\\n\\n特点#\\n\\n简化了大语言模型开发的难度，将和模型交互的各个阶段做抽象组合。\\n提供了一站式的开发框架，包括开发，部署，观测\\n简化了llm应用生命周期阶段，包括\\n\\n开发：Langchain提供了很多的组件，模块来构建应用程序，并且有有强大的社区生态。\\n生产：LangSmith可以检查、监控和评估chain。\\n部署：LangServe可以将chain暴露给外部服务来使用（API）\\n\\n\\n\\n\\n\\n整体架构#\\n\\n如上图所示，langchain的库如下\\n\\n一句话说清#\\n在和LLM交互的时候，首先需要写prompt，在调用LLM提供的API，解析输出。这里面就有三步，langchain将这三步抽象简化，并且提供了很多组件，他有强大的社区，\\n有很多好用的东西，方便我们开发LLM的应用程序\\n\\n\\n是什么？#\\n\\n基于大语言模型的开发框架（LLM）\\n大语言模型的一站式开发框架\\n\\n\\n\\n特点#\\n\\n简化了大语言模型开发的难度，将和模型交互的各个阶段做抽象组合。\\n提供了一站式的开发框架，包括开发，部署，观测\\n简化了llm应用生命周期阶段，包括\\n\\n开发：Langchain提供了很多的组件，模块来构建应用程序，并且有有强大的社区生态。\\n生产：LangSmith可以检查、监控和评估chain。\\n部署：LangServe可以将chain暴露给外部服务来使用（API）\\n\\n\\n\\n\\n\\n整体架构#\\n\\n如上图所示，langchain的库如下\"\n",
      "}\n",
      "\u001B[36;1m\u001B[1;3m[chain/end]\u001B[0m \u001B[1m[chain:RunnableSequence > chain:RunnableParallel<context,question>] [1.26s] Exiting Chain run with output:\n",
      "\u001B[0m{\n",
      "  \"context\": \"一句话说清#\\n在和LLM交互的时候，首先需要写prompt，在调用LLM提供的API，解析输出。这里面就有三步，langchain将这三步抽象简化，并且提供了很多组件，他有强大的社区，\\n有很多好用的东西，方便我们开发LLM的应用程序\\n\\n\\n是什么？#\\n\\n基于大语言模型的开发框架（LLM）\\n大语言模型的一站式开发框架\\n\\n\\n\\n特点#\\n\\n简化了大语言模型开发的难度，将和模型交互的各个阶段做抽象组合。\\n提供了一站式的开发框架，包括开发，部署，观测\\n简化了llm应用生命周期阶段，包括\\n\\n开发：Langchain提供了很多的组件，模块来构建应用程序，并且有有强大的社区生态。\\n生产：LangSmith可以检查、监控和评估chain。\\n部署：LangServe可以将chain暴露给外部服务来使用（API）\\n\\n\\n\\n\\n\\n整体架构#\\n\\n如上图所示，langchain的库如下\\n\\n一句话说清#\\n在和LLM交互的时候，首先需要写prompt，在调用LLM提供的API，解析输出。这里面就有三步，langchain将这三步抽象简化，并且提供了很多组件，他有强大的社区，\\n有很多好用的东西，方便我们开发LLM的应用程序\\n\\n\\n是什么？#\\n\\n基于大语言模型的开发框架（LLM）\\n大语言模型的一站式开发框架\\n\\n\\n\\n特点#\\n\\n简化了大语言模型开发的难度，将和模型交互的各个阶段做抽象组合。\\n提供了一站式的开发框架，包括开发，部署，观测\\n简化了llm应用生命周期阶段，包括\\n\\n开发：Langchain提供了很多的组件，模块来构建应用程序，并且有有强大的社区生态。\\n生产：LangSmith可以检查、监控和评估chain。\\n部署：LangServe可以将chain暴露给外部服务来使用（API）\\n\\n\\n\\n\\n\\n整体架构#\\n\\n如上图所示，langchain的库如下\\n\\n一句话说清#\\n在和LLM交互的时候，首先需要写prompt，在调用LLM提供的API，解析输出。这里面就有三步，langchain将这三步抽象简化，并且提供了很多组件，他有强大的社区，\\n有很多好用的东西，方便我们开发LLM的应用程序\\n\\n\\n是什么？#\\n\\n基于大语言模型的开发框架（LLM）\\n大语言模型的一站式开发框架\\n\\n\\n\\n特点#\\n\\n简化了大语言模型开发的难度，将和模型交互的各个阶段做抽象组合。\\n提供了一站式的开发框架，包括开发，部署，观测\\n简化了llm应用生命周期阶段，包括\\n\\n开发：Langchain提供了很多的组件，模块来构建应用程序，并且有有强大的社区生态。\\n生产：LangSmith可以检查、监控和评估chain。\\n部署：LangServe可以将chain暴露给外部服务来使用（API）\\n\\n\\n\\n\\n\\n整体架构#\\n\\n如上图所示，langchain的库如下\\n\\n一句话说清#\\n在和LLM交互的时候，首先需要写prompt，在调用LLM提供的API，解析输出。这里面就有三步，langchain将这三步抽象简化，并且提供了很多组件，他有强大的社区，\\n有很多好用的东西，方便我们开发LLM的应用程序\\n\\n\\n是什么？#\\n\\n基于大语言模型的开发框架（LLM）\\n大语言模型的一站式开发框架\\n\\n\\n\\n特点#\\n\\n简化了大语言模型开发的难度，将和模型交互的各个阶段做抽象组合。\\n提供了一站式的开发框架，包括开发，部署，观测\\n简化了llm应用生命周期阶段，包括\\n\\n开发：Langchain提供了很多的组件，模块来构建应用程序，并且有有强大的社区生态。\\n生产：LangSmith可以检查、监控和评估chain。\\n部署：LangServe可以将chain暴露给外部服务来使用（API）\\n\\n\\n\\n\\n\\n整体架构#\\n\\n如上图所示，langchain的库如下\",\n",
      "  \"question\": \"LangChain的特点是什么\"\n",
      "}\n",
      "\u001B[32;1m\u001B[1;3m[chain/start]\u001B[0m \u001B[1m[chain:RunnableSequence > prompt:ChatPromptTemplate] Entering Prompt run with input:\n",
      "\u001B[0m{\n",
      "  \"context\": \"一句话说清#\\n在和LLM交互的时候，首先需要写prompt，在调用LLM提供的API，解析输出。这里面就有三步，langchain将这三步抽象简化，并且提供了很多组件，他有强大的社区，\\n有很多好用的东西，方便我们开发LLM的应用程序\\n\\n\\n是什么？#\\n\\n基于大语言模型的开发框架（LLM）\\n大语言模型的一站式开发框架\\n\\n\\n\\n特点#\\n\\n简化了大语言模型开发的难度，将和模型交互的各个阶段做抽象组合。\\n提供了一站式的开发框架，包括开发，部署，观测\\n简化了llm应用生命周期阶段，包括\\n\\n开发：Langchain提供了很多的组件，模块来构建应用程序，并且有有强大的社区生态。\\n生产：LangSmith可以检查、监控和评估chain。\\n部署：LangServe可以将chain暴露给外部服务来使用（API）\\n\\n\\n\\n\\n\\n整体架构#\\n\\n如上图所示，langchain的库如下\\n\\n一句话说清#\\n在和LLM交互的时候，首先需要写prompt，在调用LLM提供的API，解析输出。这里面就有三步，langchain将这三步抽象简化，并且提供了很多组件，他有强大的社区，\\n有很多好用的东西，方便我们开发LLM的应用程序\\n\\n\\n是什么？#\\n\\n基于大语言模型的开发框架（LLM）\\n大语言模型的一站式开发框架\\n\\n\\n\\n特点#\\n\\n简化了大语言模型开发的难度，将和模型交互的各个阶段做抽象组合。\\n提供了一站式的开发框架，包括开发，部署，观测\\n简化了llm应用生命周期阶段，包括\\n\\n开发：Langchain提供了很多的组件，模块来构建应用程序，并且有有强大的社区生态。\\n生产：LangSmith可以检查、监控和评估chain。\\n部署：LangServe可以将chain暴露给外部服务来使用（API）\\n\\n\\n\\n\\n\\n整体架构#\\n\\n如上图所示，langchain的库如下\\n\\n一句话说清#\\n在和LLM交互的时候，首先需要写prompt，在调用LLM提供的API，解析输出。这里面就有三步，langchain将这三步抽象简化，并且提供了很多组件，他有强大的社区，\\n有很多好用的东西，方便我们开发LLM的应用程序\\n\\n\\n是什么？#\\n\\n基于大语言模型的开发框架（LLM）\\n大语言模型的一站式开发框架\\n\\n\\n\\n特点#\\n\\n简化了大语言模型开发的难度，将和模型交互的各个阶段做抽象组合。\\n提供了一站式的开发框架，包括开发，部署，观测\\n简化了llm应用生命周期阶段，包括\\n\\n开发：Langchain提供了很多的组件，模块来构建应用程序，并且有有强大的社区生态。\\n生产：LangSmith可以检查、监控和评估chain。\\n部署：LangServe可以将chain暴露给外部服务来使用（API）\\n\\n\\n\\n\\n\\n整体架构#\\n\\n如上图所示，langchain的库如下\\n\\n一句话说清#\\n在和LLM交互的时候，首先需要写prompt，在调用LLM提供的API，解析输出。这里面就有三步，langchain将这三步抽象简化，并且提供了很多组件，他有强大的社区，\\n有很多好用的东西，方便我们开发LLM的应用程序\\n\\n\\n是什么？#\\n\\n基于大语言模型的开发框架（LLM）\\n大语言模型的一站式开发框架\\n\\n\\n\\n特点#\\n\\n简化了大语言模型开发的难度，将和模型交互的各个阶段做抽象组合。\\n提供了一站式的开发框架，包括开发，部署，观测\\n简化了llm应用生命周期阶段，包括\\n\\n开发：Langchain提供了很多的组件，模块来构建应用程序，并且有有强大的社区生态。\\n生产：LangSmith可以检查、监控和评估chain。\\n部署：LangServe可以将chain暴露给外部服务来使用（API）\\n\\n\\n\\n\\n\\n整体架构#\\n\\n如上图所示，langchain的库如下\",\n",
      "  \"question\": \"LangChain的特点是什么\"\n",
      "}\n",
      "\u001B[36;1m\u001B[1;3m[chain/end]\u001B[0m \u001B[1m[chain:RunnableSequence > prompt:ChatPromptTemplate] [1ms] Exiting Prompt run with output:\n",
      "\u001B[0m[outputs]\n",
      "\u001B[32;1m\u001B[1;3m[llm/start]\u001B[0m \u001B[1m[chain:RunnableSequence > llm:ChatOpenAI] Entering LLM run with input:\n",
      "\u001B[0m{\n",
      "  \"prompts\": [\n",
      "    \"Human: You are an assistant for question-answering tasks. Use the following pieces of retrieved context to answer the question. If you don't know the answer, just say that you don't know. Use three sentences maximum and keep the answer concise.\\nQuestion: LangChain的特点是什么 \\nContext: 一句话说清#\\n在和LLM交互的时候，首先需要写prompt，在调用LLM提供的API，解析输出。这里面就有三步，langchain将这三步抽象简化，并且提供了很多组件，他有强大的社区，\\n有很多好用的东西，方便我们开发LLM的应用程序\\n\\n\\n是什么？#\\n\\n基于大语言模型的开发框架（LLM）\\n大语言模型的一站式开发框架\\n\\n\\n\\n特点#\\n\\n简化了大语言模型开发的难度，将和模型交互的各个阶段做抽象组合。\\n提供了一站式的开发框架，包括开发，部署，观测\\n简化了llm应用生命周期阶段，包括\\n\\n开发：Langchain提供了很多的组件，模块来构建应用程序，并且有有强大的社区生态。\\n生产：LangSmith可以检查、监控和评估chain。\\n部署：LangServe可以将chain暴露给外部服务来使用（API）\\n\\n\\n\\n\\n\\n整体架构#\\n\\n如上图所示，langchain的库如下\\n\\n一句话说清#\\n在和LLM交互的时候，首先需要写prompt，在调用LLM提供的API，解析输出。这里面就有三步，langchain将这三步抽象简化，并且提供了很多组件，他有强大的社区，\\n有很多好用的东西，方便我们开发LLM的应用程序\\n\\n\\n是什么？#\\n\\n基于大语言模型的开发框架（LLM）\\n大语言模型的一站式开发框架\\n\\n\\n\\n特点#\\n\\n简化了大语言模型开发的难度，将和模型交互的各个阶段做抽象组合。\\n提供了一站式的开发框架，包括开发，部署，观测\\n简化了llm应用生命周期阶段，包括\\n\\n开发：Langchain提供了很多的组件，模块来构建应用程序，并且有有强大的社区生态。\\n生产：LangSmith可以检查、监控和评估chain。\\n部署：LangServe可以将chain暴露给外部服务来使用（API）\\n\\n\\n\\n\\n\\n整体架构#\\n\\n如上图所示，langchain的库如下\\n\\n一句话说清#\\n在和LLM交互的时候，首先需要写prompt，在调用LLM提供的API，解析输出。这里面就有三步，langchain将这三步抽象简化，并且提供了很多组件，他有强大的社区，\\n有很多好用的东西，方便我们开发LLM的应用程序\\n\\n\\n是什么？#\\n\\n基于大语言模型的开发框架（LLM）\\n大语言模型的一站式开发框架\\n\\n\\n\\n特点#\\n\\n简化了大语言模型开发的难度，将和模型交互的各个阶段做抽象组合。\\n提供了一站式的开发框架，包括开发，部署，观测\\n简化了llm应用生命周期阶段，包括\\n\\n开发：Langchain提供了很多的组件，模块来构建应用程序，并且有有强大的社区生态。\\n生产：LangSmith可以检查、监控和评估chain。\\n部署：LangServe可以将chain暴露给外部服务来使用（API）\\n\\n\\n\\n\\n\\n整体架构#\\n\\n如上图所示，langchain的库如下\\n\\n一句话说清#\\n在和LLM交互的时候，首先需要写prompt，在调用LLM提供的API，解析输出。这里面就有三步，langchain将这三步抽象简化，并且提供了很多组件，他有强大的社区，\\n有很多好用的东西，方便我们开发LLM的应用程序\\n\\n\\n是什么？#\\n\\n基于大语言模型的开发框架（LLM）\\n大语言模型的一站式开发框架\\n\\n\\n\\n特点#\\n\\n简化了大语言模型开发的难度，将和模型交互的各个阶段做抽象组合。\\n提供了一站式的开发框架，包括开发，部署，观测\\n简化了llm应用生命周期阶段，包括\\n\\n开发：Langchain提供了很多的组件，模块来构建应用程序，并且有有强大的社区生态。\\n生产：LangSmith可以检查、监控和评估chain。\\n部署：LangServe可以将chain暴露给外部服务来使用（API）\\n\\n\\n\\n\\n\\n整体架构#\\n\\n如上图所示，langchain的库如下 \\nAnswer:\"\n",
      "  ]\n",
      "}\n",
      "\u001B[36;1m\u001B[1;3m[llm/end]\u001B[0m \u001B[1m[chain:RunnableSequence > llm:ChatOpenAI] [3.67s] Exiting LLM run with output:\n",
      "\u001B[0m{\n",
      "  \"generations\": [\n",
      "    [\n",
      "      {\n",
      "        \"text\": \"LangChain是基于大语言模型（LLM）的开发框架，简化了大语言模型开发的难度并提供了一站式的开发框架，包括开发、部署和观测。它还简化了LLM应用生命周期阶段，包括提供组件、模块来构建应用程序，监控和评估以及将chain暴露给外部服务使用。LangChain具有强大的社区生态，方便开发LLM的应用程序。\",\n",
      "        \"generation_info\": {\n",
      "          \"finish_reason\": \"stop\",\n",
      "          \"logprobs\": null\n",
      "        },\n",
      "        \"type\": \"ChatGeneration\",\n",
      "        \"message\": {\n",
      "          \"lc\": 1,\n",
      "          \"type\": \"constructor\",\n",
      "          \"id\": [\n",
      "            \"langchain\",\n",
      "            \"schema\",\n",
      "            \"messages\",\n",
      "            \"AIMessage\"\n",
      "          ],\n",
      "          \"kwargs\": {\n",
      "            \"content\": \"LangChain是基于大语言模型（LLM）的开发框架，简化了大语言模型开发的难度并提供了一站式的开发框架，包括开发、部署和观测。它还简化了LLM应用生命周期阶段，包括提供组件、模块来构建应用程序，监控和评估以及将chain暴露给外部服务使用。LangChain具有强大的社区生态，方便开发LLM的应用程序。\",\n",
      "            \"response_metadata\": {\n",
      "              \"token_usage\": {\n",
      "                \"completion_tokens\": 146,\n",
      "                \"prompt_tokens\": 1374,\n",
      "                \"total_tokens\": 1520\n",
      "              },\n",
      "              \"model_name\": \"gpt-3.5-turbo-0125\",\n",
      "              \"system_fingerprint\": null,\n",
      "              \"finish_reason\": \"stop\",\n",
      "              \"logprobs\": null\n",
      "            },\n",
      "            \"type\": \"ai\",\n",
      "            \"id\": \"run-78005faa-b0cd-4efd-b733-430e9b1d911c-0\",\n",
      "            \"usage_metadata\": {\n",
      "              \"input_tokens\": 1374,\n",
      "              \"output_tokens\": 146,\n",
      "              \"total_tokens\": 1520\n",
      "            },\n",
      "            \"tool_calls\": [],\n",
      "            \"invalid_tool_calls\": []\n",
      "          }\n",
      "        }\n",
      "      }\n",
      "    ]\n",
      "  ],\n",
      "  \"llm_output\": {\n",
      "    \"token_usage\": {\n",
      "      \"completion_tokens\": 146,\n",
      "      \"prompt_tokens\": 1374,\n",
      "      \"total_tokens\": 1520\n",
      "    },\n",
      "    \"model_name\": \"gpt-3.5-turbo-0125\",\n",
      "    \"system_fingerprint\": null\n",
      "  },\n",
      "  \"run\": null\n",
      "}\n",
      "\u001B[32;1m\u001B[1;3m[chain/start]\u001B[0m \u001B[1m[chain:RunnableSequence > parser:StrOutputParser] Entering Parser run with input:\n",
      "\u001B[0m[inputs]\n",
      "\u001B[36;1m\u001B[1;3m[chain/end]\u001B[0m \u001B[1m[chain:RunnableSequence > parser:StrOutputParser] [1ms] Exiting Parser run with output:\n",
      "\u001B[0m{\n",
      "  \"output\": \"LangChain是基于大语言模型（LLM）的开发框架，简化了大语言模型开发的难度并提供了一站式的开发框架，包括开发、部署和观测。它还简化了LLM应用生命周期阶段，包括提供组件、模块来构建应用程序，监控和评估以及将chain暴露给外部服务使用。LangChain具有强大的社区生态，方便开发LLM的应用程序。\"\n",
      "}\n",
      "\u001B[36;1m\u001B[1;3m[chain/end]\u001B[0m \u001B[1m[chain:RunnableSequence] [4.95s] Exiting Chain run with output:\n",
      "\u001B[0m{\n",
      "  \"output\": \"LangChain是基于大语言模型（LLM）的开发框架，简化了大语言模型开发的难度并提供了一站式的开发框架，包括开发、部署和观测。它还简化了LLM应用生命周期阶段，包括提供组件、模块来构建应用程序，监控和评估以及将chain暴露给外部服务使用。LangChain具有强大的社区生态，方便开发LLM的应用程序。\"\n",
      "}\n"
     ]
    },
    {
     "data": {
      "text/plain": [
       "'LangChain是基于大语言模型（LLM）的开发框架，简化了大语言模型开发的难度并提供了一站式的开发框架，包括开发、部署和观测。它还简化了LLM应用生命周期阶段，包括提供组件、模块来构建应用程序，监控和评估以及将chain暴露给外部服务使用。LangChain具有强大的社区生态，方便开发LLM的应用程序。'"
      ]
     },
     "execution_count": 38,
     "metadata": {},
     "output_type": "execute_result"
    }
   ],
   "execution_count": 38
  },
  {
   "metadata": {},
   "cell_type": "markdown",
   "source": "这一章只是介绍了RAG的基本思路和简单demo，在后续，会有复杂有趣的示例。",
   "id": "c1884e6b4108411e"
  }
 ],
 "metadata": {
  "kernelspec": {
   "display_name": "Python 3",
   "language": "python",
   "name": "python3"
  },
  "language_info": {
   "codemirror_mode": {
    "name": "ipython",
    "version": 2
   },
   "file_extension": ".py",
   "mimetype": "text/x-python",
   "name": "python",
   "nbconvert_exporter": "python",
   "pygments_lexer": "ipython2",
   "version": "2.7.6"
  }
 },
 "nbformat": 4,
 "nbformat_minor": 5
}
